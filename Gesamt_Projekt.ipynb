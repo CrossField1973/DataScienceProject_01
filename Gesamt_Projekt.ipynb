{
 "cells": [
  {
   "cell_type": "markdown",
   "metadata": {},
   "source": [
    "Verwendete Version:<br>\n",
    "Jupyter 6.1.4<br>\n",
    "Python 3.8.6<br>\n",
    "Matplotlib 3.3.2<br>\n",
    "numpy 1.19.2<br>\n",
    "pandas 1.1.3<br>\n",
    "seaborn 0.11.0"
   ]
  },
  {
   "cell_type": "code",
   "execution_count": null,
   "metadata": {
    "scrolled": true
   },
   "outputs": [],
   "source": [
    "import numpy as np\n",
    "import matplotlib.pyplot as plt\n",
    "import pandas as pd\n",
    "import seaborn as sb\n",
    "import warnings"
   ]
  },
  {
   "cell_type": "markdown",
   "metadata": {},
   "source": [
    "# SETUP<br>\n",
    "Hier wird alles vorbereitet."
   ]
  },
  {
   "cell_type": "code",
   "execution_count": null,
   "metadata": {
    "scrolled": false
   },
   "outputs": [],
   "source": [
    "\n",
    "warnings.filterwarnings('ignore')\n",
    "\n",
    "housing_data = pd.read_csv('DatenAusgegeben1.2_UTF8_manuell.csv', sep=\";\", keep_default_na=False)\n",
    "print(housing_data.keys())\n",
    "\n",
    "\n",
    "# Bereinigung und Feature Engeneering\n",
    "\n",
    "# für €/qm² für besseren Vergleich der Daten\n",
    "housing_data[\"Preisproqm\"] = housing_data[\"Preis\"]/housing_data[\"Wohnflaeche in qm\"]\n",
    "\n",
    "# monate seit 2136\n",
    "housing_data[\"Monate\"] = (housing_data[\"Verkaufsjahr\"]-2136)*12 + housing_data[\"Verkaufsmonat\"] -1\n",
    "\n",
    "# Werte der Heizungsqualitaet in Zahlen umwandeln\n",
    "housing_data[\"Heizungsqualitaet\"] = [1 if x==\"Schl\" else 2 if x==\"Ud\" else 3 if x==\"Ty\" else 4 if x==\"Gut\" else 5 for x in housing_data[\"Heizungsqualitaet\"]]\n",
    "\n",
    "# Zustand, 1-10 wird auf 1-5 gemapt, das ist zwar ein bisschen ungenauer, aber einfacher zu vergleichen\n",
    "housing_data[\"Zustandf\"] = [int(x/2) + x%2 for x in housing_data[\"Zustand\"]]\n",
    "\n",
    "# Alle Zustände werden von 1...X auf 0....X-1 geschoben\n",
    "housing_data[\"HeizungsqualitaetN\"] = [ x-1 for x in housing_data[\"Heizungsqualitaet\"]]\n",
    "housing_data[\"ZustandN\"] = [ x-1 for x in housing_data[\"Zustandf\"]]\n",
    "housing_data[\"FassadeN\"] = [ x-1 for x in housing_data[\"Zustand Fassade\"]]\n",
    "housing_data[\"KuecheN\"] = [ x-1 for x in housing_data[\"Kuechenqualitaet\"]]\n",
    "\n",
    "# NA in Garage Typ wird zu \"Keine Garage\"\n",
    "housing_data[\"Garage Typ\"] = ['keine Garage' if x=='NA' else x for x in housing_data[\"Garage Typ\"]]\n"
   ]
  },
  {
   "cell_type": "markdown",
   "metadata": {},
   "source": [
    "# Data Exploration\n",
    "Im ersten Schritt des Projekts sollen die Daten untersucht und grundlegende Erkentnisse daraus gewonnen werden. Besonderer Fokus wird dabei auf die Qualitätskriterien und ihrem Einfluss auf den Verkaufspreis gelegt. Zuerst werden hierfür alle Daten insgesamt betrachtet und im Anschluss besondere Erkenntnisse herausgestellt. In der Analyse wird statt dem Verkaufspreis überwiegend der Preis pro Quadratmeter verwendet, da die Wohnfläche den größten Einfluss auf den Verkaufspreis hat und es so einfacher ist, die Daten zu vergleichen.\n",
    "In bei der Modellbildung wird der Preis pro Qm nicht mehr benutzt, weil hier die Dimension Wohnfläche einfach im Modell eingebunden werden kann.\n",
    "\n",
    "# Heizungstypen und ihre Qualität"
   ]
  },
  {
   "cell_type": "code",
   "execution_count": null,
   "metadata": {
    "scrolled": false
   },
   "outputs": [],
   "source": [
    "heater_types = housing_data[\"Heizung\"].unique()\n",
    "heater_quality = np.sort(housing_data[\"Heizungsqualitaet\"].unique())\n",
    "heater_data = [None]*(len(heater_types)+1)\n",
    "\n",
    "fig, axs = plt.subplots(2, 2, sharex=True, sharey=True, figsize=(10,7))\n",
    "fig.suptitle(\"Verhältnis verschiedener Heizungstypen, Zustände und dem Quadratmeterpreis\", fontsize=14)\n",
    "\n",
    "for i in range(len(heater_types)):\n",
    "    for l in range(len(heater_quality)):\n",
    "        heater_data[l] = housing_data[housing_data[\"Heizungsqualitaet\"] == heater_quality[l]][\"Preisproqm\"]\n",
    "    \n",
    "    axs[int(i/2),i%2].violinplot(heater_data)\n",
    "    axs[int(i/2),i%2].set_title(heater_types[i])\n",
    "    if i > 1:\n",
    "        axs[int(i/2),i%2].set_xlabel(\"Zustand\")\n",
    "    if i%2 == 0:\n",
    "        axs[int(i/2),i%2].set_ylabel(\"Preis pro Qm\")\n",
    "plt.show()   \n",
    "\n",
    "\n",
    "plt.figure(figsize=(10,7))\n",
    "for l in range(len(heater_quality)):\n",
    "    heater_data[l] = housing_data[housing_data[\"Heizungsqualitaet\"] == heater_quality[l]][\"Preisproqm\"]\n",
    "plt.violinplot(heater_data, heater_quality)\n",
    "plt.suptitle(\"Auswirkung der Heizungsqualität auf den Quadratmeterpreis\",fontsize=14)\n",
    "plt.xlabel(\"Zustand\")\n",
    "plt.ylabel(\"Preis pro Qm\")\n",
    "plt.show()"
   ]
  },
  {
   "cell_type": "markdown",
   "metadata": {},
   "source": [
    "Nur für die GasA Heizung existieren genügend Daten für eine sinnvolle Untersuchung. Auch hat die Qualität der Heizung nur bei GasA annähernd einen Einfluss, die Heizungsqualitaet insgesamt hat keinen großen Einfluss auf den €/m²."
   ]
  },
  {
   "cell_type": "markdown",
   "metadata": {},
   "source": [
    "# Erster Stock in Qm, Zweiter Stock in Qm und die Wohnfläche in Qm"
   ]
  },
  {
   "cell_type": "code",
   "execution_count": null,
   "metadata": {
    "scrolled": false
   },
   "outputs": [],
   "source": [
    "one_floor = housing_data[housing_data[\"Zweiter Stock in qm\"] == 0 ]\n",
    "two_floors = housing_data[housing_data[\"Zweiter Stock in qm\"] != 0 ]\n",
    "\n",
    "\n",
    "coef = np.polyfit(one_floor[\"Wohnflaeche in qm\"],one_floor[\"Preis\"],1)\n",
    "poly1d_fn = np.poly1d(coef) \n",
    "\n",
    "coef1 = np.polyfit(two_floors[\"Wohnflaeche in qm\"],two_floors[\"Preis\"],1)\n",
    "poly1d_fn1 = np.poly1d(coef1) \n",
    "x = np.linspace(0, 400, 10)\n",
    "\n",
    "plt.figure(figsize=(10,7))\n",
    "plt.scatter(one_floor[\"Wohnflaeche in qm\"],one_floor[\"Preis\"], label=\"einstöckiges Haus\")\n",
    "plt.scatter(two_floors[\"Wohnflaeche in qm\"],two_floors[\"Preis\"], label=\"mehrstöckiges Haus\")\n",
    "plt.plot(x, poly1d_fn(x), c=\"blue\", linewidth=3)\n",
    "plt.plot(x, poly1d_fn1(x), c=\"orange\", linewidth=3)\n",
    "\n",
    "plt.suptitle(\"Auswirkung der Wohnfläche von ein- \\nund mehrstöckigen Häusern auf den Preis\",fontsize=14)\n",
    "plt.xlabel(\"Wohnfläche in Qm\")\n",
    "plt.ylabel(\"Preis\")\n",
    "plt.legend()\n",
    "plt.show()"
   ]
  },
  {
   "cell_type": "markdown",
   "metadata": {},
   "source": [
    "Es gibt keine Spalte in den Daten, welche die Anzahl der Stockwerke beschreibt, weshalb nur ein oder zwei Stockwerke erkannt werden können. Wenn die Fläche des ersten Stockwerks der Wohnfläche entspricht, kann es nur ein Stockwerk geben, sonst sind es mindestens zwei. Preislich gibt es größere Unterschiede, so ist der Preis von einstöckigen Häusern durchschnittlich 50.000 GC Dollar höher, als der von zweistöckigen. Hier könnte aber die größere Grundstücksfläche einen Einfluss haben."
   ]
  },
  {
   "cell_type": "markdown",
   "metadata": {},
   "source": [
    "# Schlafzimmer, Küchen und die Anzahl der Räume"
   ]
  },
  {
   "cell_type": "code",
   "execution_count": null,
   "metadata": {
    "scrolled": false
   },
   "outputs": [],
   "source": [
    "rooms = np.sort(housing_data[\"Raeume\"].unique())\n",
    "room_data = [None]*len(rooms)\n",
    "for i in range(len(rooms)):\n",
    "    room_data[i] = housing_data[housing_data[\"Raeume\"] == rooms[i]][\"Preisproqm\"]\n",
    "\n",
    "\n",
    "plt.violinplot(room_data, rooms)\n",
    "plt.suptitle(\"Auswirkung der Raumzahl auf den Preis pro Qm\",fontsize=14)\n",
    "plt.xlabel(\"Raumzahl\")\n",
    "plt.ylabel(\"Preis pro Qm\")\n",
    "plt.show()\n",
    "\n",
    "\n",
    "kitchens = np.sort(housing_data[\"Kuechen\"].unique())\n",
    "kitchen_data = [None]*len(kitchens)\n",
    "for i in range(len(kitchens)):\n",
    "    kitchen_data[i] = housing_data[housing_data[\"Kuechen\"] == kitchens[i]][\"Preisproqm\"]\n",
    "\n",
    "plt.violinplot(kitchen_data, kitchens)\n",
    "plt.suptitle(\"Auswirkung der Anzahl der Küchen auf den Preis pro Qm\",fontsize=14)\n",
    "plt.xlabel(\"Anzahl Küchen\")\n",
    "plt.xticks([1,2,3])\n",
    "plt.ylabel(\"Preis pro Qm\")\n",
    "plt.show()\n",
    "\n",
    "\n",
    "bedrooms = np.sort(housing_data[\"Schlafzimmer\"].unique())\n",
    "bedroom_data = [None]*len(bedrooms)\n",
    "for i in range(len(bedrooms)):\n",
    "    bedroom_data[i] = housing_data[housing_data[\"Schlafzimmer\"] == bedrooms[i]][\"Preisproqm\"]\n",
    "\n",
    "plt.violinplot(bedroom_data, bedrooms)\n",
    "plt.suptitle(\"Auswirkung der Anzahl der Schlafzimmer auf den Preis pro Qm\",fontsize=14)\n",
    "plt.xlabel(\"Anzahl der Schlafzimmer\")\n",
    "plt.ylabel(\"Preis pro Qm\")\n",
    "plt.show()"
   ]
  },
  {
   "cell_type": "markdown",
   "metadata": {},
   "source": [
    "Wie in den Graphen zu sehen ist, ist die Anzahl von Küchen und Schlafzimmern nicht sehr aussagekräftig. Zu erwarten ist, dass der Preis pro Qm mit der Anzahl der Räume positiv korreliert. Entgegen der Erwartung ist der Preis niedriger, was darauf hindeutet, das hier eine negative Korrelation besteht."
   ]
  },
  {
   "cell_type": "markdown",
   "metadata": {},
   "source": [
    "# Garagentyp und  Garagenkapazität"
   ]
  },
  {
   "cell_type": "code",
   "execution_count": null,
   "metadata": {
    "scrolled": false
   },
   "outputs": [],
   "source": [
    "garage_types = housing_data[\"Garage Typ\"].unique()\n",
    "\n",
    "\n",
    "fig, axs = plt.subplots(2, 4, sharex=True, sharey=True, figsize=(15,8))\n",
    "\n",
    "for i in range(len(garage_types)):\n",
    "    type_data = housing_data[housing_data[\"Garage Typ\"] == garage_types[i]]\n",
    "    garage_capacity = [0,1,2,3,4]\n",
    "    garage_data = [0]*(len(garage_capacity))\n",
    "    \n",
    "    for l in garage_capacity:\n",
    "        garage_data[l] = type_data[housing_data[\"Garagenkapazitaet\"] == l][\"Preisproqm\"].values.tolist()\n",
    "        if garage_data[l] == []:\n",
    "            garage_data[l] = [0]\n",
    "            # Ich habe keine bessere Umsetzung gefunden, Recherche hat auch nicht weitergeholfen\n",
    "            # jetzt ist überall mindestens ein Dummywert [0] drinnen -.-\n",
    "            # das ist sogar richtig\n",
    "            \n",
    "    axs[int(i/4),i%4].violinplot(garage_data)\n",
    "    axs[int(i/4),i%4].set_title(garage_types[i])\n",
    "    \n",
    "    \n",
    "garage_capacity = np.sort(housing_data[\"Garagenkapazitaet\"].unique())\n",
    "garage_data = [0]*(len(garage_capacity))\n",
    "for i in range(len(garage_capacity)):\n",
    "    garage_data[i] = housing_data[housing_data[\"Garagenkapazitaet\"] == garage_capacity[i]][\"Preisproqm\"]\n",
    "\n",
    "\n",
    "axs[1,3].violinplot(garage_data)\n",
    "axs[1,3].set_title(\"alle Garagentypen\")\n",
    "fig.suptitle(\"Preisunterschiede zwischen Garakenkapazitäten verschiedener Typen\", fontsize=14)\n",
    "\n",
    "for i in range(8):\n",
    "    plt.sca(axs[int(i/4),i%4])\n",
    "    plt.xticks(range(6), [\"\",\"0\",\"1\",\"2\",\"3\",\"4\"])\n",
    "    if i > 3:\n",
    "        plt.xlabel(\"Kapazität\")\n",
    "    if i % 4 == 0:\n",
    "        plt.ylabel(\"Preis pro Qm\")\n",
    "\n",
    "    #das funktioniert, aber wieso?? wieso [\"\",\"0\",..?\n",
    "plt.show()"
   ]
  },
  {
   "cell_type": "markdown",
   "metadata": {},
   "source": [
    "Im Folgenden wurde untersucht, in wiefern sich Garagentyp und -kapazität auf den Preis pro Qm auswirken. Dabei wurden die Garagen nach ihren Typen aufgeteilt und die Anzahl der Stellplätze mit dem Quadratmeterpreis verglichen. Bei allen Garagentypen zeichnet sich ein Anstieg des Quadratmeterpreises zwischen ein und drei Garagenplätzen ab. Auch sind Häuser mit Garage teurer als Häuser ohne Garage. Erstaunlicherweise leigt der Preis pro Quadratmeter für vier Stellplätze deutlich niedriger, als der für drei."
   ]
  },
  {
   "cell_type": "markdown",
   "metadata": {},
   "source": [
    "# Verkaufsmonat, Verkaufsjahr und Preis"
   ]
  },
  {
   "cell_type": "code",
   "execution_count": null,
   "metadata": {
    "scrolled": false
   },
   "outputs": [],
   "source": [
    "fig, axs = plt.subplots(2, 2, sharex=True, figsize=(15,8))\n",
    "\n",
    "axs[0,0].scatter(housing_data[\"Monate\"],housing_data[\"Preis\"])\n",
    "axs[0,0].set_ylabel(\"Preis\")\n",
    "axs[0,1].scatter(housing_data[\"Monate\"],housing_data[\"Grundstueck in qm\"])\n",
    "axs[0,1].set_ylabel(\"Grundstück in Qm\")\n",
    "axs[1,0].scatter(housing_data[\"Monate\"],housing_data[\"Preisproqm\"])\n",
    "axs[1,0].set_ylabel(\"Preis pro Qm\")\n",
    "axs[1,0].set_xlabel(\"Monate seit 2136\")\n",
    "axs[1,1].scatter(housing_data[\"Monate\"],housing_data[\"Wohnflaeche in qm\"])\n",
    "axs[1,1].set_ylabel(\"Wohnfläche in Qm\")\n",
    "axs[1,1].set_xlabel(\"Monate seit 2136\")\n",
    "axs[1,1].set_xticks((0,12,24,36,48,60))\n",
    "fig.suptitle(\"Preisliche Veränderungen von 2136 bis heute\",fontsize=14)\n",
    "\n",
    "plt.show()"
   ]
  },
  {
   "cell_type": "markdown",
   "metadata": {},
   "source": [
    "Bei der Betrachtung von Verkaufspreisen und Verkaufszeit wird erwartet, dass sich der Preis zwischen verschiedenen Monaten weniger unterscheidet, als zwischen Jahren. Entgegen den Erwartungen gibt es durchaus starke Schwankungen der Verkaufspreise innerhalb eines Jahres. Im Sommer werden häufig teure und große Häuser verkauft. Auch ist die Anzahl der Verkäufe deutlich höher als in den Wintermonaten. Das Jahr des Verkaufs hat dabei aber nur einen geringeren Einfluss auf den Preis."
   ]
  },
  {
   "cell_type": "markdown",
   "metadata": {},
   "source": [
    "# Heizungsqualität, Küchenqualität, Fassadenqualität und Zustand\n"
   ]
  },
  {
   "cell_type": "code",
   "execution_count": null,
   "metadata": {
    "scrolled": false
   },
   "outputs": [],
   "source": [
    "# Daten vorbereiten für heatmap: im Besten Fall sollte eine Diagonale von Links unten -> rechts oben gehen\n",
    "# Achtung Rechenintensiv!\n",
    "keys = [\"ZustandN\", \"HeizungsqualitaetN\", \"KuecheN\", \"FassadeN\"]\n",
    "\n",
    "\n",
    "fig, axs = plt.subplots(len(keys), len(keys), sharex=True, sharey=True, figsize=(20,20))\n",
    "fig.suptitle(\"Heatmap zu den Zuständen der verschiedenen Qualitätskriterien\",fontsize=24)\n",
    "# Zweimal über Keys iterieren -> key1 X key2 Plots (key1 == key2)\n",
    "# für jeden Plot alle Möglichen Werte von key1 heraussuchen -> X-Achse\n",
    "# für jeden möglichen X-Wert alle Y-Werte von key2 in data schreiben\n",
    "# happy plotting\n",
    "for i in range(len(keys)):\n",
    "    values = [0,1,2,3,4]\n",
    "    for l in range(len(keys)):\n",
    "        \n",
    "        data = [None]*len(values)\n",
    "        for f in range(len(values)):\n",
    "            data[f] = [0]*len(values)\n",
    "        data[1][1] = 2\n",
    "        for value in values:\n",
    "            raw_data = housing_data[housing_data[keys[i]] == value][keys[l]]\n",
    "            unique, counts = np.unique(raw_data, return_counts=True)\n",
    "            count = dict(zip(unique, counts))\n",
    "            for key in count.keys():\n",
    "                # Es tut mir ja leid\n",
    "                data[value][key] = count[key]\n",
    "        sb.heatmap(data, ax = axs[i,l]) #vmin=0, vmax=16000, center=8000\n",
    "        axs[i,l].invert_yaxis()\n",
    "        plt.sca(axs[i,l])\n",
    "        plt.xticks(fontsize=14)\n",
    "        plt.yticks(fontsize=14)\n",
    "        # Hm, vllt gibts da auch nen besseren Weg\n",
    "        if i == len(keys)-1:\n",
    "            axs[i,l].set_xlabel(str(keys[l][:-1]).replace(\"ae\",\"ä\").replace(\"ue\",\"ü\"), fontsize=18)\n",
    "        if l == 0:\n",
    "            axs[i,l].set_ylabel(str(keys[i][:-1]).replace(\"ae\",\"ä\").replace(\"ue\",\"ü\"), fontsize=18)\n"
   ]
  },
  {
   "cell_type": "markdown",
   "metadata": {},
   "source": [
    "Bei der Betrachtung der Qualitätskriterien für Heizung, Küche, Fassade und Zustand des Hauses wurden einige Korrelationen festgestellt:\n",
    "* alle Kriterien haben nur sehr wenige schlechte Bewertungen\n",
    "* durchschnittliche Bewertungen haben eine recht hohe Korrelation\n",
    "* bei besseren Bewertungen schweifen die Werte öfter ab, sodass keine Korrelation vorliegt."
   ]
  },
  {
   "cell_type": "code",
   "execution_count": null,
   "metadata": {
    "scrolled": false
   },
   "outputs": [],
   "source": [
    "keys = [\"ZustandN\", \"HeizungsqualitaetN\", \"KuecheN\", \"FassadeN\"]\n",
    "keysx = [\"Zustand\", \"Heizungsqualität\", \"Küchenqualität\", \"Zustand Fassade\"]\n",
    "\n",
    "rows = [\"Preisproqm\", \"Preis\"]\n",
    "rowsx = [\"Preis pro Qm\", \"Preis\"]\n",
    "for f in range(len(rows)):\n",
    "    fig, axs = plt.subplots(1, len(keys), sharex=True, sharey=True, figsize=(15,8))\n",
    "    for x in range(len(keys)):\n",
    "        quality = np.sort(housing_data[keys[x]].unique())\n",
    "        data = [0]*5\n",
    "        for i in quality:\n",
    "            data[i] = housing_data[housing_data[keys[x]] == i][rows[f]]\n",
    "        axs[x].violinplot(data)\n",
    "        axs[x].set_title(str(keysx[x]))\n",
    "        axs[x].set_xticks([1,2,3,4,5])\n",
    "        axs[x].set_xlabel(\"Zustand\")\n",
    "        if x == 0:\n",
    "            axs[x].set_ylabel(rowsx[f])\n",
    "    \n",
    "    fig.suptitle(\"Auswirkung verschiedener Zustände auf den \" + rowsx[f])\n",
    "    plt.show()"
   ]
  },
  {
   "cell_type": "markdown",
   "metadata": {},
   "source": [
    "Mit dieser schwachen Korrelation zwischen den Qualitätskriterien können Einflüsse auf den Quadratmeterpreis von anderen Kriterien ausgeschlossen werden und eine differenzierte Analyse wird möglich. Deutlich ist hier zu sehen, dass bei besserer Qualitätsstufe der Preis ansteigt. Besonders stark ist der Effekt bei der Küchenqualität zu sehen, hier kann sich der Preis pro Qm mitunter verdoppeln. Bei allen anderen Qualitätsmerkmalen ist dieser Effekt auch erkennbar, wenn auch deutlich schwächer."
   ]
  },
  {
   "cell_type": "markdown",
   "metadata": {},
   "source": [
    "# Grundstücksform"
   ]
  },
  {
   "cell_type": "code",
   "execution_count": null,
   "metadata": {
    "scrolled": false
   },
   "outputs": [],
   "source": [
    "house_reg = housing_data[housing_data.Grundstuecksform == \"Reg\"]\n",
    "house_ir1 = housing_data[housing_data.Grundstuecksform == \"IR1\"]\n",
    "house_ir2 = housing_data[housing_data.Grundstuecksform == \"IR2\"]\n",
    "house_ir3 = housing_data[housing_data.Grundstuecksform == \"IR3\"]\n",
    "\n",
    "plt.figure(figsize=(15,8))\n",
    "plt.scatter(house_ir1[\"Bezirk\"],house_ir1[\"Preis\"]/house_ir1[\"Wohnflaeche in qm\"], c=\"orange\")\n",
    "plt.scatter(house_ir2[\"Bezirk\"],house_ir2[\"Preis\"]/house_ir2[\"Wohnflaeche in qm\"], c=\"blue\")\n",
    "\n",
    "\n",
    "plt.suptitle(\"Vergleich von IR1- und IR2-eingestuften Häusern in den Bezirken Gothams\",fontsize=18)\n",
    "plt.xlabel(\"Bezirk\")\n",
    "plt.ylabel(\"Preis pro Qm\")\n",
    "plt.legend([\"Irregulär1\", \"Irregulär2\"])\n",
    "plt.xticks(rotation=45)\n",
    "plt.show()\n",
    "\n",
    "plt.figure(figsize=(15,8))\n",
    "plt.scatter(house_reg[\"Bezirk\"],house_reg[\"Preis\"]/house_reg[\"Wohnflaeche in qm\"], c=\"orange\")\n",
    "plt.scatter(house_ir1[\"Bezirk\"],house_ir1[\"Preis\"]/house_ir1[\"Wohnflaeche in qm\"], c=\"orange\")\n",
    "plt.scatter(house_ir2[\"Bezirk\"],house_ir2[\"Preis\"]/house_ir2[\"Wohnflaeche in qm\"], c=\"orange\")\n",
    "plt.scatter(house_ir3[\"Bezirk\"],house_ir3[\"Preis\"]/house_ir3[\"Wohnflaeche in qm\"], c=\"blue\")\n",
    "\n",
    "\n",
    "plt.suptitle(\"Quadratemeterpreis von IR3-eingestuften Häusern im Gesamtvergleich\",fontsize=18)\n",
    "plt.xlabel(\"Bezirk\")\n",
    "plt.ylabel(\"Preis pro Qm\")\n",
    "plt.legend([\"Regulär\", \"Irregulär1\", \"Irregulär2\", \"Irregulär3\"])\n",
    "plt.xticks(rotation=45)\n",
    "plt.show()"
   ]
  },
  {
   "cell_type": "markdown",
   "metadata": {},
   "source": [
    "Bei der Grundstücksform lässt sich absehen, dass Häuser der Form IR1 meist teurer sind als diese der Form IR2. \n",
    "Bei Häusern der Form IR3 handelt es sich meist um billigere Häuser, als bei den anderen Grundstücksformen."
   ]
  },
  {
   "cell_type": "markdown",
   "metadata": {},
   "source": [
    "# Steigung"
   ]
  },
  {
   "cell_type": "code",
   "execution_count": null,
   "metadata": {
    "scrolled": false
   },
   "outputs": [],
   "source": [
    "house_evelation = housing_data[housing_data.Steigung == \"Ja\"]\n",
    "house_no_evelation = housing_data[housing_data.Steigung == \"Nein\"]\n",
    "\n",
    "plt.figure(figsize=(15,8))\n",
    "plt.scatter(house_no_evelation[\"Bezirk\"],house_no_evelation[\"Preis\"]/house_no_evelation[\"Wohnflaeche in qm\"], c=\"orange\")\n",
    "plt.scatter(house_evelation[\"Bezirk\"],house_evelation[\"Preis\"]/house_evelation[\"Wohnflaeche in qm\"], c=\"blue\")\n",
    "\n",
    "plt.suptitle(\"Einfluss von Steigung auf den Preis pro Qm\",fontsize=18)\n",
    "plt.xlabel(\"Bezirk\")\n",
    "plt.ylabel(\"Preis pro Qm\")\n",
    "plt.legend([\"Steigung\", \"keine Steigung\"])\n",
    "plt.xticks(rotation=45)\n",
    "plt.show()\n"
   ]
  },
  {
   "cell_type": "markdown",
   "metadata": {},
   "source": [
    "Wie zu erkennen ist, befinden sich die meisten Wohnungen in Gotham auf einer Steigung, was darauf deuten lässt, dass Gotham sich in einer Hochenbene befindet."
   ]
  },
  {
   "cell_type": "markdown",
   "metadata": {},
   "source": [
    "# Bezirke"
   ]
  },
  {
   "cell_type": "code",
   "execution_count": null,
   "metadata": {
    "scrolled": false
   },
   "outputs": [],
   "source": [
    "key = \"Bezirk\"\n",
    "rows = [\"Preisproqm\"]\n",
    "quality = np.sort(housing_data[key].unique())\n",
    "\n",
    "for row in rows:\n",
    "    fig= plt.figure(figsize=(15,8))\n",
    "    data = [None]*len(quality)\n",
    "    for i in range(len(quality)):\n",
    "        data[i] = housing_data[housing_data[key] == quality[i]][row]\n",
    "\n",
    "    plt.violinplot(data)\n",
    "    plt.suptitle(\"Quadratmeterpreis in verschiedenen Bezirken von Gotham City\",fontsize=18)\n",
    "    plt.xlabel(\"Bezirk\")\n",
    "    plt.ylabel(\"Preis pro Qm\")\n",
    "    plt.xticks(np.arange(len(quality)) + 1, quality, rotation=45)\n",
    "    \n",
    "    plt.show()"
   ]
  },
  {
   "cell_type": "markdown",
   "metadata": {},
   "source": [
    "In den unterschiedlichen Bezirken werden Immobilien zu unterschiedlichen Preisen gehandelt, so unterscheiden sich die günstigsten als auch die teuersten Immobilien sowie der Preisspiegel.  "
   ]
  },
  {
   "cell_type": "markdown",
   "metadata": {},
   "source": [
    "# Zone"
   ]
  },
  {
   "cell_type": "code",
   "execution_count": null,
   "metadata": {
    "scrolled": false
   },
   "outputs": [],
   "source": [
    "house_rh = housing_data[housing_data.Zone == \"RH\"]\n",
    "house_rl = housing_data[housing_data.Zone == \"RL\"]\n",
    "house_rp = housing_data[housing_data.Zone == \"RP\"]\n",
    "house_rm = housing_data[housing_data.Zone == \"RM\"]\n",
    "\n",
    "plt.figure(figsize=(15,8))\n",
    "plt.scatter(house_rl[\"Bezirk\"],house_rl[\"Preis\"]/house_rl[\"Wohnflaeche in qm\"], c=\"blue\")\n",
    "plt.scatter(house_rm[\"Bezirk\"],house_rm[\"Preis\"]/house_rm[\"Wohnflaeche in qm\"], c=\"red\")\n",
    "plt.scatter(house_rh[\"Bezirk\"],house_rh[\"Preis\"]/house_rh[\"Wohnflaeche in qm\"], c=\"orange\")\n",
    "plt.scatter(house_rp[\"Bezirk\"],house_rp[\"Preis\"]/house_rp[\"Wohnflaeche in qm\"], c=\"green\")\n",
    "\n",
    "\n",
    "\n",
    "plt.suptitle(\"Bebauungsdichte verschiedener Bezirke\",fontsize=18)\n",
    "plt.xlabel(\"Bezirk\")\n",
    "plt.ylabel(\"Preis pro Qm\")\n",
    "plt.xticks(rotation=45)\n",
    "plt.legend([\"Niedrige Bebauungsdichte\", \"Mittlere Bebauungsdichte\",\n",
    "            \"Hohe Bebauungsdichte\",\"Niedrige Bebauungsdichte und Park\"])\n",
    "plt.show()"
   ]
  },
  {
   "cell_type": "markdown",
   "metadata": {},
   "source": [
    "In Gotham gibt es kaum Immobilien, welche sich in einer hohen Bebauungsdichte befinden und keine, welche sich in einer niedrigen Bebauungsdichte und bei einem Park befinden.<br>\n",
    "In den Bezirken Miller, East End, Tricorner, Somerst, North West, Diamond District, Clear Creek, The Bowery und Robinson Park stehen Häuser nur in einer geringen Bebauungsdichte.<br>\n",
    "Dagegen gibt es in den Bezirken Water District, Paris Island, Novick Distric und Fashion District nur Häuser in mittlerer Bebauungsdichte.<br>\n",
    "Häuser in Gegenden mit hoher Bebauungsdichte gibt es kaum.<br>\n",
    "Gotham ist keine Stadt, die stark bebaut ist. "
   ]
  },
  {
   "cell_type": "markdown",
   "metadata": {},
   "source": [
    "# Lage"
   ]
  },
  {
   "cell_type": "code",
   "execution_count": null,
   "metadata": {
    "scrolled": false
   },
   "outputs": [],
   "source": [
    "house_straße = housing_data[housing_data.Lage == \"Str\"]\n",
    "house_bahn = housing_data[housing_data.Lage == \"Bahn\"]\n",
    "house_park = housing_data[housing_data.Lage == \"Pos\"]\n",
    "house_normal = housing_data[housing_data.Lage == \"Norm\"]\n",
    "\n",
    "plt.figure(figsize=(15,8))\n",
    "plt.scatter(house_normal[\"Bezirk\"],house_normal[\"Preis\"]/house_normal[\"Wohnflaeche in qm\"], c=\"blue\")\n",
    "plt.scatter(house_straße[\"Bezirk\"],house_straße[\"Preis\"]/house_straße[\"Wohnflaeche in qm\"], c=\"yellow\")\n",
    "plt.scatter(house_bahn[\"Bezirk\"],house_bahn[\"Preis\"]/house_bahn[\"Wohnflaeche in qm\"], c=\"orange\")\n",
    "plt.scatter(house_park[\"Bezirk\"],house_park[\"Preis\"]/house_park[\"Wohnflaeche in qm\"], c=\"red\")\n",
    "\n",
    "plt.suptitle(\"Anbindung der Häuser in den verschiedenen Bezirken\",fontsize=18)\n",
    "plt.xlabel(\"Bezirk\")\n",
    "plt.ylabel(\"Preis pro Qm\")\n",
    "plt.xticks(rotation=45)\n",
    "plt.legend([\"Keine Besonderheit\", \"An einer großen Straße\",\n",
    "            \"An einer Bahnlinie\",\"An einem Park, Grünfläche, Sportzentrum, ...\"])\n",
    "plt.show()"
   ]
  },
  {
   "cell_type": "markdown",
   "metadata": {},
   "source": [
    "Mit Außnahme von Old Gotham lässt sich sagen, dass Häuser in der Nähe von Bahnlinien und Parks teurer sind, als Häuser nahe einer großen Straße.<br>\n",
    "Des weiteren gibt es in den Bezirken East End, Paris Island, Tricorner, Upper West, Novick District Robinson Park, Fashion District keine Häuser, die sich in der Nähe von Bahnlinien, großen Straßen oder Parks befinden."
   ]
  },
  {
   "cell_type": "markdown",
   "metadata": {},
   "source": [
    "# Haustyp und Klimaanlage"
   ]
  },
  {
   "cell_type": "code",
   "execution_count": null,
   "metadata": {
    "scrolled": false
   },
   "outputs": [],
   "source": [
    "house_1fam = housing_data[housing_data.Typ == \"1Fam\"]\n",
    "house_2fam = housing_data[housing_data.Typ == \"2Fam\"]\n",
    "house_2faman = housing_data[housing_data.Typ == \"2FamAn\"]\n",
    "house_reh = housing_data[housing_data.Typ == \"REH\"]\n",
    "house_rmh = housing_data[housing_data.Typ == \"RMH\"]\n",
    "\n",
    "plt.figure(figsize=(15,8))\n",
    "plt.scatter(house_1fam[\"Bezirk\"],house_1fam[\"Preis\"]/house_1fam[\"Wohnflaeche in qm\"], c=\"red\")\n",
    "plt.scatter(house_2fam[\"Bezirk\"],house_2fam[\"Preis\"]/house_2fam[\"Wohnflaeche in qm\"], c=\"blue\")\n",
    "plt.scatter(house_2faman[\"Bezirk\"],house_2faman[\"Preis\"]/house_2faman[\"Wohnflaeche in qm\"], c=\"yellow\")\n",
    "plt.scatter(house_reh[\"Bezirk\"],house_reh[\"Preis\"]/house_reh[\"Wohnflaeche in qm\"], c=\"orange\")\n",
    "plt.scatter(house_rmh[\"Bezirk\"],house_rmh[\"Preis\"]/house_rmh[\"Wohnflaeche in qm\"], c=\"purple\")\n",
    "\n",
    "plt.suptitle(\"Haustypen in den verschiedenen Bezirken\",fontsize=18)\n",
    "plt.xlabel(\"Bezirk\")\n",
    "plt.ylabel(\"Preis pro Qm\")\n",
    "plt.xticks(rotation=45)\n",
    "plt.legend([\"Freistehendes Einfamilienhaus\", \"Doppelhaushälfte\",\n",
    "            \"Einfamilienhaus mit Anliegerwohnung\",\"Reihenendhaus\",\"Reihenmittelhaus\"])\n",
    "\n",
    "plt.show()\n",
    "\n",
    "print(\"Reihenhäuser haben immer Klimaanlagen:\\n\", house_rmh[\"Klimaanlage\"].unique(), house_reh[\"Klimaanlage\"].unique())\n",
    "\n",
    "house_ac = housing_data[housing_data.Klimaanlage == \"Y\"]\n",
    "house_not_ac = housing_data[housing_data.Klimaanlage == \"N\"]\n",
    "plt.scatter(house_ac[\"Wohnflaeche in qm\"],house_ac[\"Preis\"], c='blue')\n",
    "plt.scatter(house_not_ac[\"Wohnflaeche in qm\"],house_not_ac[\"Preis\"],c=\"orange\")\n",
    "\n",
    "plt.suptitle(\"Auswirkung des Vorhandenseins einer Klimaanlage auf den Verkaufspreis\",fontsize=14)\n",
    "plt.xlabel(\"Wohnfläche in Qm\")\n",
    "plt.ylabel(\"Preis\")\n",
    "plt.legend([\"mit Klimaanlage\", \"ohne Klimaanlage\"])\n",
    "plt.show()"
   ]
  },
  {
   "cell_type": "markdown",
   "metadata": {},
   "source": [
    "In Gothem gibt es nur wenige 2-Familien-Anbau Häuser.<br> \n",
    "Die Bezirke Clear Creek & East End bestehen nur aus 1-Familien Häusern.<br>\n",
    "Im Gegensatz dazu gibt es in den Bezirken Paris Island, Novick District, Robinson Park und Fashion District nur Reihenhäuser. Upper West besitzt bloß  Reihenendhäuser mit Außnahme eines einzigen ein 1-Familien Hauses.<br>\n",
    "Zu Reihenhäusern ist zu sagen, dass diese nur mit Klimaanlage kommen.<br>\n",
    "Klimaanlagen steigern den Wert einer Immobilie."
   ]
  },
  {
   "cell_type": "markdown",
   "metadata": {},
   "source": [
    "# Zustand"
   ]
  },
  {
   "cell_type": "code",
   "execution_count": null,
   "metadata": {
    "scrolled": false
   },
   "outputs": [],
   "source": [
    "house_1 = housing_data[housing_data.Zustand == 1]\n",
    "house_2 = housing_data[housing_data.Zustand == 2]\n",
    "house_3 = housing_data[housing_data.Zustand == 3]\n",
    "house_4 = housing_data[housing_data.Zustand == 4]\n",
    "house_5 = housing_data[housing_data.Zustand == 5]\n",
    "house_6 = housing_data[housing_data.Zustand == 6]\n",
    "house_7 = housing_data[housing_data.Zustand == 7]\n",
    "house_8 = housing_data[housing_data.Zustand == 8]\n",
    "house_9 = housing_data[housing_data.Zustand == 9]\n",
    "house_10 = housing_data[housing_data.Zustand == 10]\n",
    "\n",
    "fig= plt.figure(figsize=(15,8))\n",
    "plt.scatter(house_6[\"Bezirk\"],house_6[\"Preis\"]/house_6[\"Wohnflaeche in qm\"], c=\"red\")\n",
    "plt.scatter(house_7[\"Bezirk\"],house_7[\"Preis\"]/house_7[\"Wohnflaeche in qm\"], c=\"blue\")\n",
    "plt.scatter(house_8[\"Bezirk\"],house_8[\"Preis\"]/house_8[\"Wohnflaeche in qm\"], c=\"yellow\")\n",
    "plt.scatter(house_9[\"Bezirk\"],house_9[\"Preis\"]/house_9[\"Wohnflaeche in qm\"], c=\"orange\")\n",
    "plt.scatter(house_10[\"Bezirk\"],house_10[\"Preis\"]/house_10[\"Wohnflaeche in qm\"], c=\"purple\")\n",
    "\n",
    "plt.suptitle(\"Zustand der Häuser in verschiedenen Bezirken\\nund ihr Einfluss auf den Quadratmeterpreis\",fontsize=18)\n",
    "plt.xlabel(\"Bezirk\")\n",
    "plt.ylabel(\"Preis pro Qm\")\n",
    "plt.xticks(rotation=45)\n",
    "plt.legend([\"Zustand 5\", \"Zustand 6\",\n",
    "            \"Zustand 7\",\"Zustand 8\",\"Zustand 10\"])\n",
    "\n",
    "plt.show()\n",
    "\n",
    "fig= plt.figure(figsize=(15,8))\n",
    "plt.scatter(house_5[\"Bezirk\"],house_5[\"Preis\"]/house_5[\"Wohnflaeche in qm\"], c=\"turquoise\")\n",
    "plt.scatter(house_4[\"Bezirk\"],house_4[\"Preis\"]/house_4[\"Wohnflaeche in qm\"], c=\"orange\")\n",
    "plt.scatter(house_3[\"Bezirk\"],house_3[\"Preis\"]/house_3[\"Wohnflaeche in qm\"], c=\"yellow\")\n",
    "plt.scatter(house_2[\"Bezirk\"],house_2[\"Preis\"]/house_2[\"Wohnflaeche in qm\"], c=\"blue\")\n",
    "plt.scatter(house_1[\"Bezirk\"],house_1[\"Preis\"]/house_1[\"Wohnflaeche in qm\"], c=\"red\")\n",
    "\n",
    "plt.suptitle(\"Zustand der Häuser in verschiedenen Bezirken\\nund ihr Einfluss auf den Quadratmeterpreis\",fontsize=18)\n",
    "plt.xlabel(\"Bezirk\")\n",
    "plt.ylabel(\"Preis pro Qm\")\n",
    "plt.xticks(rotation=45)\n",
    "plt.legend([\"Zustand 5\", \"Zustand 4\",\n",
    "            \"Zustand 3\",\"Zustand 2\",\"Zustand 1\"])\n",
    "plt.show()"
   ]
  },
  {
   "cell_type": "markdown",
   "metadata": {},
   "source": [
    "Eine deutliche Abhängigkeit von Immobilienpreis und -zustand lässt sich bei den Zuständen 5 und darunter erkennen.\n",
    "Zwischen Zustand 6 und Zustand 10 ist eine solche Abhängigkeit nicht zu sehen."
   ]
  },
  {
   "cell_type": "markdown",
   "metadata": {},
   "source": [
    "# Baujahr und Renovation"
   ]
  },
  {
   "cell_type": "code",
   "execution_count": null,
   "metadata": {
    "scrolled": false
   },
   "outputs": [],
   "source": [
    "house_renovated = housing_data[housing_data.Gebaut != housing_data.Renoviert]\n",
    "house_not_renovated = housing_data[housing_data.Gebaut == housing_data.Renoviert]\n",
    "\n",
    "fig= plt.figure(figsize=(10,6))\n",
    "\n",
    "plt.scatter(house_not_renovated[\"Gebaut\"],house_not_renovated[\"Preis\"]/house_not_renovated[\"Wohnflaeche in qm\"])\n",
    "plt.scatter(house_renovated[\"Gebaut\"],house_renovated[\"Preis\"]/house_renovated[\"Wohnflaeche in qm\"])\n",
    "\n",
    "plt.suptitle(\"Quadratmeterpreis von (nicht) renovierten Wohnungen \",fontsize=18)\n",
    "plt.xlabel(\"Jahr\")\n",
    "plt.ylabel(\"Preis pro Qm\")\n",
    "plt.legend([\"nicht renoviert\", \"renoviert\"])\n",
    "plt.show()\n",
    "\n",
    "plt.scatter(house_renovated[\"Renoviert\"],house_renovated[\"Preis\"]/house_renovated[\"Wohnflaeche in qm\"])\n",
    "plt.suptitle(\"Einfluss von Renovationen auf den Quadratmeterpreis\",fontsize=14)\n",
    "#plt.xlabel(\"Jahr der Renovation\")\n",
    "#plt.ylabel(\"Preis pro Qm\")\n",
    "plt.show()"
   ]
  },
  {
   "cell_type": "markdown",
   "metadata": {},
   "source": [
    "Der Preis pro Quadratmeter ist nur bei renovierten Häusern vom Baujahr/Renovationsjahr abhängig.<br>\n",
    "Alle Häuser, die vor 2080 gebaut wurden, wurden renoviert.<br>\n",
    "Häuser, die nach dem Jahr 2130 gebaut wurden, können um einiges teurer sein, als die Häuser, die in vorherigen Jahren gebaut worden sind.<br>\n",
    "Preise von renovierten und unrenovierten Häusern unterscheiden sich nicht erkennbar voneinander.<br>\n",
    "Im Jahr 2080 wurden besonders viele Häuser renoviert, entweder gab es in diesem Jahr eine Naturkatastrophe oder die Daten sind nicht richtig. Möglich ist, dass Joker eine Nachbarschaft verwüstet hat.\n",
    "Wenn man diese Anomalie außenvor lässt, sieht man, dass die Anzahl der Renovationen ab 2080 über die Jahre kontinuierlich ansteigt.<br>\n",
    "Nach 2110 werden fast keine Hauser günstiger als 100000 GC Dollar gebaut.<br>\n",
    "Je später ein Haus gebaut wird, desto teurer ist es. Diese Steigung ist jedoch gering. Vermutlich entsteht diese Steigung Aufgrund von Inflation."
   ]
  },
  {
   "cell_type": "markdown",
   "metadata": {},
   "source": [
    "# Zustand Fassade"
   ]
  },
  {
   "cell_type": "code",
   "execution_count": null,
   "metadata": {
    "scrolled": false
   },
   "outputs": [],
   "source": [
    "house_1 = housing_data[housing_data[\"Zustand Fassade\"] == 1]\n",
    "house_2 = housing_data[housing_data[\"Zustand Fassade\"] == 2]\n",
    "house_3 = housing_data[housing_data[\"Zustand Fassade\"] == 3]\n",
    "house_4 = housing_data[housing_data[\"Zustand Fassade\"] == 4]\n",
    "house_5 = housing_data[housing_data[\"Zustand Fassade\"] == 5]\n",
    "\n",
    "\n",
    "plt.figure(figsize=(15,8))\n",
    "\n",
    "plt.scatter(house_5[\"Bezirk\"],house_5[\"Preis\"]/house_5[\"Wohnflaeche in qm\"], c=\"yellow\")\n",
    "plt.scatter(house_4[\"Bezirk\"],house_4[\"Preis\"]/house_4[\"Wohnflaeche in qm\"], c=\"red\")\n",
    "plt.scatter(house_3[\"Bezirk\"],house_3[\"Preis\"]/house_3[\"Wohnflaeche in qm\"], c=\"blue\")\n",
    "plt.scatter(house_2[\"Bezirk\"],house_2[\"Preis\"]/house_2[\"Wohnflaeche in qm\"], c=\"turquoise\")\n",
    "plt.scatter(house_1[\"Bezirk\"],house_1[\"Preis\"]/house_1[\"Wohnflaeche in qm\"], c=\"orange\")\n",
    "\n",
    "plt.suptitle(\"Fassadenzustand der Häuser in den verschiedenen Bezirken\\nund ihr Einfluss auf den Quadratmeterpreis\",fontsize=18)\n",
    "plt.xlabel(\"Bezirk\")\n",
    "plt.ylabel(\"Preis pro Qm\")\n",
    "plt.xticks(rotation=45)\n",
    "plt.legend([\"sehr gut\", \"gut\",\n",
    "            \"durchschnittlich\",\"schlecht\",\"sehr schlecht\"])\n",
    "plt.show()\n",
    "\n",
    "key = \"Zustand Fassade\"\n",
    "rows = [\"Preis pro Qm\"]\n",
    "quality = np.sort(housing_data[key].unique())\n",
    "\n",
    "for row in rows:\n",
    "    fig= plt.figure(figsize=(15,8))\n",
    "    data = [None]*len(quality)\n",
    "    for i in range(len(quality)):\n",
    "        data[i] = housing_data[housing_data[key] == quality[i]][row.replace(\" \",\"\").replace(\"Q\",\"q\")]\n",
    "\n",
    "    plt.violinplot(data)\n",
    "    plt.suptitle(\"Fassadenzustand und seine Auswirkung auf den \" + row,fontsize=18)\n",
    "    plt.xlabel(\"Zustand\")\n",
    "    plt.ylabel(row)\n",
    "    plt.show()"
   ]
  },
  {
   "cell_type": "markdown",
   "metadata": {},
   "source": [
    "Die meisten Fassaden in Gotham befinden sich in einem Zustand von 3 oder 4.<br>\n",
    "Größere preisliche Unterschiede lassen sich nur zwischen Zuständen 1 2 und 5 erkennen."
   ]
  },
  {
   "cell_type": "markdown",
   "metadata": {},
   "source": [
    "# Kellerfläche"
   ]
  },
  {
   "cell_type": "code",
   "execution_count": null,
   "metadata": {
    "scrolled": false
   },
   "outputs": [],
   "source": [
    "plt.figure(figsize=(15,8))\n",
    "\n",
    "plt.scatter(housing_data[\"Kellerflaeche in qm\"],housing_data[\"Preis\"]/housing_data[\"Wohnflaeche in qm\"], c=\"red\")\n",
    "\n",
    "plt.suptitle(\"Verhältnis von Kellerfläche und Quadratmeterpreis\",fontsize=18)\n",
    "plt.xlabel(\"Kellerfläche in Qm\")\n",
    "plt.ylabel(\"Preis in Qm\")\n",
    "plt.show()"
   ]
  },
  {
   "cell_type": "markdown",
   "metadata": {},
   "source": [
    "Falls eine Immobilie eine größere Kellerfläche hat, kann sie einen höheren Marktwert erreichen.<br>\n",
    "Es gibt viele Häuser die keinen Keller besitzen. Diese sind meist preislich günstiger.<br>"
   ]
  },
  {
   "cell_type": "markdown",
   "metadata": {},
   "source": [
    "# Wohnfläche"
   ]
  },
  {
   "cell_type": "code",
   "execution_count": null,
   "metadata": {
    "scrolled": false
   },
   "outputs": [],
   "source": [
    "plt.figure(figsize=(8,5))\n",
    "plt.scatter(housing_data[\"Wohnflaeche in qm\"], housing_data[\"Preis\"])\n",
    "\n",
    "plt.suptitle(\"Verhältnis von Wohnfläche und Preis\",fontsize=18)\n",
    "plt.xlabel(\"Wohnfläche in Qm\")\n",
    "plt.ylabel(\"Preis\")\n",
    "plt.show()\n",
    "\n",
    "plt.figure(figsize=(8,5))\n",
    "plt.scatter(housing_data[\"Wohnflaeche in qm\"], housing_data[\"Preis\"]/housing_data[\"Wohnflaeche in qm\"])\n",
    "\n",
    "plt.suptitle(\"Verhältnis von Wohnfläche und seinem Quadratmeterpreis\",fontsize=18)\n",
    "plt.xlabel(\"Wohnfläche in Qm\")\n",
    "plt.ylabel(\"Preis pro Quadratmeter\")\n",
    "plt.show()"
   ]
  },
  {
   "cell_type": "markdown",
   "metadata": {},
   "source": [
    "Der Immobilienpreis und die Wohnfläche des Gebäudes sind voneinander abhängig.<br>\n",
    "Der Preis pro Quadratmeter ist nicht von der Wohnungsgröße abhängig.\n",
    "Da es keine Immobilien über 760.000 GC Dollar gibt und auch nur 6 der Grundstücke mit Pools ausgestattet sind, lässt sich vermuten, dass es in Gotham keine teuren Immobilien und damit auch keine Superreichen gibt. "
   ]
  },
  {
   "cell_type": "markdown",
   "metadata": {},
   "source": []
  },
  {
   "cell_type": "markdown",
   "metadata": {},
   "source": [
    "# Inhaltsverzeichnis\n",
    "1. Bibliotheken importieren\n",
    "1. Anomalien entfernen und Feature Engeneering\n",
    "1. Merkmale auswählen\n",
    "1. Regression\n",
    "1. Modelle Bewerten\n",
    "1. Erklärung Lineare Regression\n",
    "1. Evaluation GBT\n",
    "1. Unabhängige Validierung\n",
    "1. Anleitung"
   ]
  },
  {
   "cell_type": "markdown",
   "metadata": {},
   "source": [
    "*Um das Model zu testen, ändern Sie den Dateinamen im Code-Teil unter \"8.Unabhängige Validierung\".*"
   ]
  },
  {
   "cell_type": "markdown",
   "metadata": {},
   "source": [
    "# 1. Bibliotheken importieren"
   ]
  },
  {
   "cell_type": "code",
   "execution_count": null,
   "metadata": {
    "scrolled": false
   },
   "outputs": [],
   "source": [
    "# Data Science + Mathe Bibliotheken\n",
    "import numpy as np\n",
    "import matplotlib.pyplot as plt\n",
    "import pandas as pd\n",
    "import seaborn as sb\n",
    "\n",
    "# Metriken\n",
    "from sklearn.metrics import roc_curve, auc\n",
    "from sklearn.metrics import mean_squared_error \n",
    "from sklearn.metrics import r2_score\n",
    "from sklearn.metrics import explained_variance_score\n",
    "from sklearn.metrics import max_error\n",
    "\n",
    "# Validierung\n",
    "from sklearn.model_selection import train_test_split\n",
    "from sklearn.model_selection import KFold\n",
    "\n",
    "# Modelle\n",
    "from sklearn import preprocessing \n",
    "from sklearn.preprocessing import PolynomialFeatures\n",
    "from sklearn import linear_model\n",
    "from sklearn.ensemble import GradientBoostingRegressor\n",
    "from sklearn.ensemble import RandomForestRegressor\n",
    "from sklearn.linear_model import SGDRegressor\n",
    "\n",
    "# Warnungen \n",
    "import warnings\n",
    "\n",
    "#define Mape\n",
    "# https://www.statology.org/mape-python/\n",
    "def mean_absolute_percentage_error(actual, pred):\n",
    "    actual, pred = np.reshape(np.array(actual), (-1)), np.reshape(np.array(pred),(-1))\n",
    "    return np.mean(np.abs((actual - pred) / actual)) * 100"
   ]
  },
  {
   "cell_type": "markdown",
   "metadata": {},
   "source": [
    "# 2. Anomalien entfernen und Feature Engeneering"
   ]
  },
  {
   "cell_type": "code",
   "execution_count": null,
   "metadata": {
    "scrolled": false
   },
   "outputs": [],
   "source": [
    "housing_data = pd.read_csv('DatenAusgegeben1.2_UTF8_manuell.csv', sep=\";\", keep_default_na=False)\n",
    "\n",
    "warnings.filterwarnings('ignore')\n",
    "\n",
    "# Bereinigung und Feature Engeneering\n",
    "\n",
    "# für €/qm² für besseren Vergleich der Daten\n",
    "housing_data[\"Preisproqm\"] = housing_data[\"Preis\"]/housing_data[\"Wohnflaeche in qm\"]\n",
    "\n",
    "# Monate seit 2136\n",
    "housing_data[\"Monate\"] = (housing_data[\"Verkaufsjahr\"]-2136)*12 + housing_data[\"Verkaufsmonat\"] -1\n",
    "\n",
    "# Werte der Heizungsqualitaet in Zahlen umwandeln\n",
    "housing_data[\"Heizungsqualitaet\"] = [1 if x==\"Schl\" else 2 if x==\"Ud\" else 3 if x==\"Ty\" else 4 if x==\"Gut\" else 5 for x in housing_data[\"Heizungsqualitaet\"]]\n",
    "\n",
    "# Zustand, 1-10 wird auf 1-5 gemapt, das ist zwar ein bisschen ungenauer, aber einfacher zu vergleichen\n",
    "housing_data[\"Zustandf\"] = [int(x/2) + x%2 for x in housing_data[\"Zustand\"]]\n",
    "\n",
    "# Alle Zustände werden von 1...X auf 0....X-1 geschoben\n",
    "housing_data[\"HeizungsqualitaetN\"] = [ x-1 for x in housing_data[\"Heizungsqualitaet\"]]\n",
    "housing_data[\"ZustandN\"] = [ x-1 for x in housing_data[\"Zustandf\"]]\n",
    "housing_data[\"FassadeN\"] = [ x-1 for x in housing_data[\"Zustand Fassade\"]]\n",
    "housing_data[\"KuecheN\"] = [ x-1 for x in housing_data[\"Kuechenqualitaet\"]]\n",
    "\n",
    "# Klimaanlage Ja/Nein  -> 1/0\n",
    "housing_data[\"Klimaanlage\"] = [1 if x == \"Y\" else 0 for x in housing_data[\"Klimaanlage\"]]\n",
    "\n",
    "# Besonders Große Daten beim Preis + Wohnfläche in qm rausschmeißen\n",
    "max_value = housing_data[\"Preis\"].unique()[-1:][0]\n",
    "housing_data[housing_data[\"Preis\"] != max_value]\n",
    "\n",
    "max_value = housing_data[\"Wohnflaeche in qm\"].unique()[-1:][0]\n",
    "housing_data[housing_data[\"Wohnflaeche in qm\"] != max_value]\n",
    "\n",
    "max_value = housing_data[\"Grundstueck in qm\"].unique()[-2:][0]\n",
    "housing_data[housing_data[\"Grundstueck in qm\"] != max_value]\n",
    "\n",
    "\n",
    "# NA in Garage Typ wird zu \"Keine Garage\"\n",
    "housing_data[\"Garage Typ\"] = ['keine Garage' if x=='NA' else x for x in housing_data[\"Garage Typ\"]]\n",
    "\n",
    "\n",
    "print(housing_data.keys())"
   ]
  },
  {
   "cell_type": "markdown",
   "metadata": {},
   "source": [
    "# 3. Merkmale auswählen"
   ]
  },
  {
   "cell_type": "code",
   "execution_count": null,
   "metadata": {
    "scrolled": false
   },
   "outputs": [],
   "source": [
    "# X und Y aus dem Datenset auslesen\n",
    "\n",
    "# Zu testende Merkmale festlegen (X)\n",
    "features = [ \"Grundstueck in qm\", \"Wohnflaeche in qm\",\"ZustandN\",\"KuecheN\", \"HeizungsqualitaetN\", \"FassadeN\",\n",
    "            \"Klimaanlage\", \"Gebaut\", \"Garagenkapazitaet\"]\n",
    "# Räume \n",
    "# Preis (Y)\n",
    "predict= \"Preis\"\n",
    "\n",
    "X = {}\n",
    "for feature in features:\n",
    "    X[feature] = housing_data[feature]\n",
    "X = pd.DataFrame(X)\n",
    "\n",
    "Y = pd.DataFrame(housing_data[predict])"
   ]
  },
  {
   "cell_type": "markdown",
   "metadata": {},
   "source": [
    "# 4. Regression"
   ]
  },
  {
   "cell_type": "code",
   "execution_count": null,
   "metadata": {},
   "outputs": [],
   "source": [
    "# Finden der Hyperparameter für GBT\n",
    "# Achtung Zeitaufwändig!\n",
    "\n",
    "def info(data ,score_types_test):\n",
    "    best = {}\n",
    "    for i in score_types_test:\n",
    "        # Beste Scores der Modelle  auswählen\n",
    "        if i == \"r2score\":\n",
    "            best[i] = np.sort(data[i])[-1]\n",
    "        else:\n",
    "            best[i] = np.sort(data[i])[0]\n",
    "    return best\n",
    "        \n",
    "\n",
    "def score_model_test(curr_model, x_test, y_test,scores):\n",
    "    scores[\"r2score\"].append(r2_score(curr_model.predict(x_test), y_test))\n",
    "    scores[\"mse\"].append(mean_squared_error(curr_model.predict(x_test), y_test))\n",
    "    scores[\"rmse\"].append(mean_squared_error(curr_model.predict(x_test), y_test, squared = False))\n",
    "    scores[\"mape\"].append(mean_absolute_percentage_error(curr_model.predict(x_test), y_test))\n",
    "    scores[\"max\"].append(max_error(curr_model.predict(x_test), y_test))\n",
    "    return\n",
    "\n",
    "def work(depth, estimators, learn,data):\n",
    "    \n",
    "    scores = {\"r2score\":[], \"mse\":[], \"rmse\":[], \"mape\":[], \"max\":[]}\n",
    "    #Initialisierung\n",
    "    for k in data:\n",
    "        # Parameter durch probieren herausfinden \n",
    "        curr_model = GradientBoostingRegressor(\n",
    "            max_depth=depth, n_estimators=estimators, learning_rate=learn/100, loss=\"ls\")\n",
    "        \n",
    "        curr_model.fit(k[\"x_poly_train\"], k[\"y_train\"])\n",
    "        score_model_test(curr_model, k[\"x_poly_test\"], k[\"y_test\"], scores)\n",
    "    \n",
    "    return scores\n",
    "    \n",
    "def update(best, best2, depth, n_est, learn):\n",
    "    if len(best) == 0:\n",
    "        #Start\n",
    "        for i in best2:\n",
    "            best[i] = {\"value\": best2[i], \"depth\" : depth, \"n_est\": n_est, \"learn\":learn}\n",
    "    else:\n",
    "        for i in best:\n",
    "            if i == \"r2score\" and best[i][\"value\"] < best2[i]:\n",
    "            # R2, der muss höher sein\n",
    "                best[i] = {\"value\": best2[i], \"depth\" : depth, \"n_est\": n_est, \"learn\":learn} \n",
    "            elif best[i][\"value\"] > best2[i]:\n",
    "                # sonst müssen sie kleiner sein\n",
    "                best[i] = {\"value\": best2[i], \"depth\" : depth, \"n_est\": n_est, \"learn\":learn} \n",
    "    return\n",
    "\n",
    "def init():\n",
    "    # Daten vorbereiten\n",
    "    data = []\n",
    "    Kfold = KFold(n_splits=10, random_state=89)\n",
    "    kfold = Kfold.split(X, Y)\n",
    "    for k, (train, test) in enumerate(kfold):\n",
    "        poly = PolynomialFeatures(degree=3)\n",
    "        x_train = X.iloc[train, :]\n",
    "        x_test = X.iloc[test, :]\n",
    "        x_poly = poly.fit_transform(x_train)\n",
    "        x_poly_test = poly.fit_transform(x_test)\n",
    "        y_train = Y.iloc[train]\n",
    "        y_test = Y.iloc[test]\n",
    "        data.append({\"x_poly_train\": x_poly, \"x_train\": x_train, \"y_train\": y_train,\n",
    "                     \"x_poly_test\": x_poly_test, \"x_test\": x_test, \"y_test\": y_test})\n",
    "    # Modelle testen\n",
    "    score_types_test = [\"r2score\", \"mse\", \"rmse\", \"mape\", \"max\"]\n",
    "    best = {}\n",
    "    # Start \n",
    "    for depth in range(3,7):\n",
    "        for n_est in range(20,180,40):\n",
    "            print(n_est)\n",
    "            for learn in range(1,50,10):\n",
    "                mscores = work(depth,n_est,learn,data)\n",
    "                best2 = info(mscores, score_types_test)\n",
    "                update(best, best2, depth, n_est, learn)\n",
    "        print(best)\n",
    "    return\n",
    "\n",
    "# init()"
   ]
  },
  {
   "cell_type": "markdown",
   "metadata": {},
   "source": [
    "Mit dem obigen Codeblock können die Hyperparameter für den Gradiend Boosting Tree Regressor gefunden werden, da der Durchlauf sehr Zeit- und Rechenintensiv, ist die Ausführung nicht zu empfehlen.<br>\n",
    "Wir haben diese Werte als Rückgabe erhalten:<br>\n",
    "___max_depth=4, n_estimators=100, learning_rate=0.15___<br>\n",
    "'depth': 3, 'n_est': 140, 'learn': 11 hat zwar schlechteren R2, aber besseren MAPE und MAX"
   ]
  },
  {
   "cell_type": "code",
   "execution_count": null,
   "metadata": {
    "scrolled": false
   },
   "outputs": [],
   "source": [
    "# K-fache Cross-Validierung, Polynomial Features\n",
    "\n",
    "# Speichert (R2, MSE, RMSE, MAPE, MAX) in  model[score][mtype]..\n",
    "def score_model(curr_model, x_test, y_test, model ,mtype):\n",
    "    \n",
    "    model[\"scores\"][mtype][\"r2score\"].append(r2_score(curr_model.predict(x_test), y_test))\n",
    "    model[\"scores\"][mtype][\"mse\"].append(mean_squared_error(curr_model.predict(x_test), y_test))\n",
    "    model[\"scores\"][mtype][\"rmse\"].append(mean_squared_error(curr_model.predict(x_test), y_test, squared = False))\n",
    "    model[\"scores\"][mtype][\"mape\"].append(mean_absolute_percentage_error(curr_model.predict(x_test), y_test))\n",
    "    model[\"scores\"][mtype][\"max\"].append(max_error(curr_model.predict(x_test), y_test))\n",
    "    return\n",
    "\n",
    "split = 10\n",
    "Kfold = KFold(n_splits=split, random_state=89)\n",
    "kfold = Kfold.split(X, Y)\n",
    "\n",
    "storage_poly = {\"scores\":{}, \"models\" : {}, \"best\" : {}}\n",
    "storage_normal = {\"scores\":{}, \"models\" : {}, \"best\" : {}}\n",
    "storage = {\"data\":[],\"arch_types\": [\"poly\",\"normal\"], \n",
    "           \"types\":[ \"osl\", \"lasso\", \"ridge\", \"gbt\", \"rf\", \"sgd\"], \n",
    "           \"score_types\": [\"r2score\", \"mse\", \"rmse\", \"mape\", \"max\"], \"poly\": storage_poly, \"normal\":storage_normal}\n",
    "\n",
    "#Initialisierung\n",
    "for mtype in storage[\"types\"]:\n",
    "    storage_poly[\"scores\"][mtype] = {}\n",
    "    storage_normal[\"scores\"][mtype] = {}\n",
    "    for i in storage[\"score_types\"]:\n",
    "        storage_poly[\"scores\"][mtype][i] = []\n",
    "        storage_normal[\"scores\"][mtype][i] = []\n",
    "        \n",
    "    storage_poly[\"models\"][mtype] = []\n",
    "    storage_normal[\"models\"][mtype] = []\n",
    "    \n",
    "\n",
    "for k, (train, test) in enumerate(kfold):\n",
    "    # Daten vorbereiten und für später speichern\n",
    "    poly = PolynomialFeatures(degree=3)\n",
    "    x_train = X.iloc[train, :]\n",
    "    x_test = X.iloc[test, :]\n",
    "    x_poly = poly.fit_transform(x_train)\n",
    "    x_poly_test = poly.fit_transform(x_test)\n",
    "    y_train = Y.iloc[train]\n",
    "    y_test = Y.iloc[test]\n",
    "    storage[\"data\"].append({\"xpoly\": x_poly, \"x_train\": x_train, \"y_train\": y_train, \n",
    "                          \"x_poly_test\": x_poly_test, \"x_test\": x_test, \"y_test\": y_test})\n",
    "    \n",
    "    # Modelle Testen, dabei sowohl \n",
    "    for arch in storage[\"arch_types\"]:\n",
    "        model = storage[arch]\n",
    "        \n",
    "        # Parameter durch probieren herausgefunden \n",
    "        model[\"models\"][\"osl\"].append(linear_model.LinearRegression(n_jobs=-1))\n",
    "        model[\"models\"][\"lasso\"].append(linear_model.Lasso(alpha=1.5, random_state=404))\n",
    "        model[\"models\"][\"ridge\"].append(linear_model.Ridge(alpha=1.5))\n",
    "        model[\"models\"][\"gbt\"].append(GradientBoostingRegressor(\n",
    "            max_depth=3, n_estimators=140, learning_rate=0.11, loss=\"ls\"))\n",
    "        model[\"models\"][\"rf\"].append(RandomForestRegressor(\n",
    "            max_depth=10, n_estimators=10, criterion=\"mse\",n_jobs=-1,max_features=None))\n",
    "        model[\"models\"][\"sgd\"].append(SGDRegressor())\n",
    "        \n",
    "\n",
    "        #model[\"models\"][\"poly\"].append(poly)\n",
    "        for mtype in storage[\"types\"]:\n",
    "            curr_model = model[\"models\"][mtype][k]\n",
    "            \n",
    "            if arch == \"poly\":\n",
    "                curr_model.fit(x_poly, y_train)\n",
    "                score_model(curr_model, x_poly_test, y_test, model, mtype)\n",
    "                \n",
    "            else:\n",
    "                curr_model.fit(x_train, y_train)\n",
    "                score_model(curr_model, x_test, y_test, model, mtype)\n",
    "\n",
    "print(\"Done\")"
   ]
  },
  {
   "cell_type": "markdown",
   "metadata": {},
   "source": [
    "# 5. Modelle Bewerten"
   ]
  },
  {
   "cell_type": "code",
   "execution_count": null,
   "metadata": {
    "scrolled": false
   },
   "outputs": [],
   "source": [
    "# Berechnet das beste Model und\n",
    "# R2, MSE, RMSE, MAPE, MAX\n",
    "if \"sgd\" in storage[\"types\"]:\n",
    "            storage[\"types\"].remove(\"sgd\")\n",
    "\n",
    "for arch in storage[\"arch_types\"]:\n",
    "    model = storage[arch]\n",
    "    # Für jeden Modelltyp (pro arch_type) den besten Finden und alle Performancedaten auslesen\n",
    "    for mtype in storage[\"types\"]:\n",
    "        # Bestes Modell nach R2 Wert auswählen\n",
    "        best = model[\"scores\"][mtype][\"r2score\"].index(np.sort(model[\"scores\"][mtype][\"r2score\"])[-1:][0])\n",
    "        storage[arch][\"best\"][mtype] = best\n",
    "        \n",
    "        print(arch, mtype)\n",
    "        for i in storage[\"score_types\"]:\n",
    "            mean_score = np.mean(model[\"scores\"][mtype][i])\n",
    "            std_score = np.std(model[\"scores\"][mtype][i])\n",
    "            # bis auf r2 ist kleiner besser\n",
    "            if i == \"r2score\":\n",
    "                max_score = np.sort(model[\"scores\"][mtype][i])[-1]\n",
    "            else:\n",
    "                    max_score = np.sort(model[\"scores\"][mtype][i])[0]\n",
    "            \n",
    "            print(\"%8s von %s:\\t%.4f +- %.3f (%.4f best)\" % (i,mtype, mean_score, std_score, max_score))"
   ]
  },
  {
   "cell_type": "code",
   "execution_count": null,
   "metadata": {
    "scrolled": false
   },
   "outputs": [],
   "source": [
    "# Beispielgrafiken -> Entwicklung der Werte\n",
    "\n",
    "def print_graphic(position, arch):\n",
    "    model = storage[arch]\n",
    "    # Eine Grafikreihe zeichnen\n",
    "    mtype = storage[\"types\"][i]\n",
    "    best_model = model[\"models\"][mtype][model[\"best\"][mtype]]\n",
    "    \n",
    "    x_test = storage[\"data\"][model[\"best\"][mtype]][\"x_test\"]\n",
    "    if arch == \"poly\":\n",
    "        # Andere Eingaben, wenn Polynomielle Modelle verglichen werden.\n",
    "        x_test = storage[\"data\"][model[\"best\"][mtype]][\"x_poly_test\"]\n",
    "        \n",
    "    y_test = storage[\"data\"][model[\"best\"][mtype]][\"y_test\"]\n",
    "    pred_y = best_model.predict(x_test)\n",
    "    # Abweichung in Prozent in Grafik packen\n",
    "    # (1. Grafik)\n",
    "    \n",
    "    ax = fig.add_subplot(2,len(storage[\"types\"]), position+1)\n",
    "    plt.sca(ax)\n",
    "    plt.hist(np.reshape(pred_y,(-1,1)) / np.reshape(y_test,(-1,1)))\n",
    "    plt.xlim(0.25,1.75)\n",
    "    plt.ylim(0,120)\n",
    "    plt.title(storage[\"types\"][position])\n",
    "    plt.xlabel(\"Verhältnis der Werte\")\n",
    "    plt.ylabel(\"Anzahl\")\n",
    "    if position != 0:\n",
    "        plt.yticks([])\n",
    "    \n",
    "    \n",
    "    # Beispielvorhersage für ein Haus\n",
    "    # (2. Grafik)\n",
    "    x = np.arange(100,200,1)\n",
    "    y = []\n",
    "    for c in range(5): # 5 Zustände\n",
    "        y.append([])\n",
    "        for v in x: # für jeden x-Wert ein y-Wert berechnen\n",
    "            \n",
    "            #[ \"Grundstueck in qm\", \"Wohnflaeche in qm\",\"ZustandN\",\"KuecheN\", \"HeizungsqualitaetN\", \"FassadeN\",\n",
    "            #\"Klimaanlage\", \"Gebaut\", \"Garagenkapazitaet\"]\n",
    "            test_data = [[1000 + 3*v, v, c, c, c, c, int(c/3), 2100, 2]]\n",
    "            \n",
    "            if arch == \"poly\":\n",
    "                y[c].append(best_model.predict(poly.fit_transform(test_data))[0])\n",
    "            else:\n",
    "                y[c].append(best_model.predict(test_data)[0])\n",
    "    \n",
    "    #Plot\n",
    "    \n",
    "    ax = fig.add_subplot(2,len(storage[\"types\"]), position+1+len(storage[\"types\"]))\n",
    "    plt.sca(ax)\n",
    "    plt.xlim(100,200)\n",
    "    plt.plot(x, y[0], c=\"yellow\", label=\"1\")     \n",
    "    plt.plot(x, y[1], c=\"orange\", label=\"2\")\n",
    "    plt.plot(x, y[2], c=\"red\", label=\"3\")\n",
    "    plt.plot(x, y[3], c=\"purple\" ,label=\"4\")\n",
    "    plt.plot(x, y[4], c=\"blue\" ,label=\"5\")\n",
    "    plt.legend(loc=\"upper left\", ncol=2)\n",
    "    plt.title(storage[\"types\"][position])\n",
    "    plt.xlabel(\"Wohnflaeche in Qm\")\n",
    "    plt.ylabel(\"Preis\")\n",
    "    if position != 0:\n",
    "        plt.yticks([])\n",
    "    return \n",
    "\n",
    "\n",
    "# \n",
    "for arch in storage[\"arch_types\"]:\n",
    "    # Grafiken vorbereiten\n",
    "    fig, big_axes = plt.subplots( figsize=(15, 10) , nrows=2, ncols=1)\n",
    "\n",
    "    big_axes[0].set_title(\"Verhältnis der vorhergesagten und wirklichen Preise\",fontsize=16, pad=25)\n",
    "    big_axes[0].tick_params(labelcolor=(1.,1.,1., 0.0), top='off', bottom='off', left='off', right='off')\n",
    "    big_axes[0]._frameon = False\n",
    "\n",
    "    big_axes[1].set_title(\"Preisentwickung bei verschiedenen Hauszuständen\",fontsize=16,pad=25)\n",
    "    big_axes[1].tick_params(labelcolor=(1.,1.,1., 0.0), top='off', bottom='off', left='off', right='off')\n",
    "    big_axes[1]._frameon = False\n",
    "    \n",
    "    #Grafiken zeichnen\n",
    "    \n",
    "    for i in range(len(storage[\"types\"])):\n",
    "        print_graphic(i,arch)\n",
    "        \n",
    "\n",
    "    plt.tight_layout()\n",
    "    plt.show()"
   ]
  },
  {
   "cell_type": "markdown",
   "metadata": {},
   "source": [
    "Wie in den Graphen zu sehen ist, entspricht das Verhältnis der vorhergesagten und wahren Preisen einer Gaussverteilung, was zu erwarten war. Nachdem der Stochastic Gradiend Descend zu schlechte Werte vorhergesagt hat, wurde in der Analyse nicht weiter betrachtet. Ein Grund dafür kann sein, dass der SGD für besonders große Datenmengen gedacht ist. Desweiteren kommt die Ordinary Squared Loss und die ridge-Regression nicht mit einer Input-Transformation auf ein Polynom 3. Grades zurecht, deren Werte sind bei linearen Eingaben deutlich besser.    \n",
    "In der zweiten Graphenreihe wurde ein fiktives Haus erstellt, dessen Zustand und Wohnfläche variabel ist. In den Graphiken ist gut zusehen, dass es einen großen preislichen Unterschied zwischen den einzelnen Zuständen gibt. Sehr gute Häuser sind deutlich teurer. In der Ordinarily Squared Loss- und Ridge-Regression werden Häuser mit sehr niedrigen Qualität bei größer werdender Wohnfläche billiger, was entweder auf ein schlechtes Modell oder auf schlechte Testdaten hindeutet. Die Relation von Grundstücksfläche = 800 + 3 * Wohnfläche kann auch Einfluss auf die Qualität der Vorhersage nehmen. "
   ]
  },
  {
   "cell_type": "markdown",
   "metadata": {},
   "source": [
    "# 6.Erklärung Lineare Regression"
   ]
  },
  {
   "cell_type": "markdown",
   "metadata": {},
   "source": [
    "Ein leicht Verständliches Modell ist die Ordinary Squared Loss-Regression mit linearen Eingaben. \n",
    "Unten wird die Formel ausgegeben, mit der Vorsagen getroffen werden."
   ]
  },
  {
   "cell_type": "code",
   "execution_count": null,
   "metadata": {},
   "outputs": [],
   "source": [
    "linreg = storage[\"normal\"][\"models\"][\"osl\"][storage[\"normal\"][\"best\"][\"osl\"]]\n",
    "coefs = linreg.coef_\n",
    "formula = \"y(X) =\\t\"\n",
    "for i in range(len(features)):\n",
    "    if i % 3 == 0:\n",
    "        formula += \"\\n\\t\"\n",
    "    \n",
    "    formula += \" %d * \\\"%s\\\" +\" % (coefs[0][i], features[i])\n",
    "formula = formula[:-1]\n",
    "print(formula)"
   ]
  },
  {
   "cell_type": "markdown",
   "metadata": {},
   "source": [
    "# 7. Evaluation GBT"
   ]
  },
  {
   "cell_type": "markdown",
   "metadata": {},
   "source": [
    "In diesem Projekt wurden folgende Regressionen getestet: \n",
    "* Ordinary Squared Loss \n",
    "* Lasso \n",
    "* Ridge \n",
    "* Gradient Boosting Trees \n",
    "* Random Forest<br>\n",
    "<br>\n",
    "Die Modelle wurden mit 1600 Wohnungsdatensätzen trainiert. Diese Merkmale wurden als Eingabe verwendet:\n",
    "* Grundstück in qm \n",
    "* Wohnfläche in qm\n",
    "* Zustand         (Nullbasiert)\n",
    "* Zustand Kueche  (Nullbasiert)\n",
    "* Zustand Heizung (Nullbasiert)\n",
    "* Zustand Fassade (Nullbasiert)\n",
    "* Klimaanlage\n",
    "* Baujahr\n",
    "* Garagenkapazität\n",
    "* Anzahl Räume\n",
    "<br>\n",
    "<br>\n",
    "Mit diesen Merkmalen wird von den verwendeten Modellen der Preis in GC Dollar vorhergesagt.<br>\n",
    "<br>\n",
    "Bei diesem Projekt hat sich Gradient Boosting Trees als bestes Model herausgestellt.<br>\n",
    "Mit einem maximalen R2-Wert von 0,884 hat diesen Model nach Random Forest (0,894) und Lasso (0,889) den dritthöchsten Wert in den zehn Trainingsdurchläufen (K-fache Kreuz-Validierung) erreicht.<br>\n",
    "Jedoch hatte Gradient Boosting Trees die geringste Standardabweichung im R2-Wert (+- 0,031) in allen Durchgängen und damit auch den besten durchschnittlichen R2-Wert (0,837).<br>\n",
    "Mit einem Root Mean Square Error von 20.190,43, liegt das Modell mit seinen Prognosen im Mittel ca. 20.000 GC Dollar daneben. <br>\n",
    "Bei einem Maximum Error von 65422,66 liegt die größte Abweichung im Test bei ca. 65.000 GC Dollar. <br>\n",
    "Bei beiden dieser Metriken ist Gradient Boosting Trees der klare Sieger. <br>\n",
    "Es muss jedoch beachtet werden, dass das Model mit 9 einen sehr hohen Mean Absolute Percentage Error hat.\n",
    "#TODO Summary (3 - 5 Punkte)"
   ]
  },
  {
   "cell_type": "markdown",
   "metadata": {},
   "source": [
    "# 8. Unabhängige Validierung"
   ]
  },
  {
   "cell_type": "code",
   "execution_count": null,
   "metadata": {
    "scrolled": false
   },
   "outputs": [],
   "source": [
    "housing_data2 = pd.read_csv('DatenAusgegeben1.2_UTF8_manuell.csv', sep=\";\", keep_default_na=False)\n",
    "\n",
    "\n",
    "housing_data2[\"Preisproqm\"] = housing_data2[\"Preis\"]/housing_data2[\"Wohnflaeche in qm\"]\n",
    "\n",
    "# Monate seit 2136\n",
    "housing_data2[\"Monate\"] = (housing_data2[\"Verkaufsjahr\"]-2136)*12 + housing_data2[\"Verkaufsmonat\"] -1\n",
    "\n",
    "# Werte der Heizungsqualitaet in Zahlen umwandeln\n",
    "housing_data2[\"Heizungsqualitaet\"] = [1 if x==\"Schl\" else 2 if x==\"Ud\" else 3 if x==\"Ty\" else 4 if x==\"Gut\" else 5 for x in housing_data2[\"Heizungsqualitaet\"]]\n",
    "\n",
    "# Zustand, 1-10 wird auf 1-5 gemapt, das ist zwar ein bisschen ungenauer, aber einfacher zu vergleichen\n",
    "housing_data2[\"Zustandf\"] = [int(x/2) + x%2 for x in housing_data2[\"Zustand\"]]\n",
    "\n",
    "# Alle Zustände werden von 1...X auf 0....X-1 geschoben\n",
    "housing_data2[\"HeizungsqualitaetN\"] = [ x-1 for x in housing_data2[\"Heizungsqualitaet\"]]\n",
    "housing_data2[\"ZustandN\"] = [ x-1 for x in housing_data2[\"Zustandf\"]]\n",
    "housing_data2[\"FassadeN\"] = [ x-1 for x in housing_data2[\"Zustand Fassade\"]]\n",
    "housing_data2[\"KuecheN\"] = [ x-1 for x in housing_data2[\"Kuechenqualitaet\"]]\n",
    "\n",
    "# Klimaanlage Ja/Nein  -> 1/0\n",
    "housing_data2[\"Klimaanlage\"] = [1 if x == \"Y\" else 0 for x in housing_data2[\"Klimaanlage\"]]\n",
    "\n",
    "# NA in Garage Typ wird zu \"Keine Garage\"\n",
    "housing_data2[\"Garage Typ\"] = ['keine Garage' if x=='NA' else x for x in housing_data2[\"Garage Typ\"]]\n",
    "\n",
    "\n",
    "X2 = {}\n",
    "for feature in features:\n",
    "    X2[feature] = housing_data2[feature]\n",
    "X2 = pd.DataFrame(X)\n",
    "\n",
    "y_test = pd.DataFrame(housing_data2[predict])\n",
    "\n",
    "x2_poly = poly.fit_transform(X2)\n",
    "\n",
    "# R2, MSE, RMSE, MAPE, MAX\n",
    "test_model = storage[\"poly\"][\"models\"][\"gbt\"][model[\"best\"][\"gbt\"]]\n",
    "\n",
    "\n",
    "r2_test = round(r2_score(test_model.predict(x2_poly), y_test), 4)\n",
    "mse_test = round(mean_squared_error(test_model.predict(x2_poly), y_test), 2)\n",
    "rmse_test = round(mean_squared_error(test_model.predict(x2_poly), y_test, squared=False), 2)\n",
    "mape_test = round(mean_absolute_percentage_error(test_model.predict(x2_poly), y_test), 2)\n",
    "max_test = round(max_error(test_model.predict(x2_poly), y_test), 2)\n",
    "\n",
    "print(\"R2 Wert:\", r2_test)\n",
    "print(\"Mean Squared Error Wert:\", mse_test)\n",
    "print(\"Root Mean Square Error Wert:\", rmse_test)\n",
    "print(\"Mean Absolute Percentage Error Wert:\", mape_test)\n",
    "print(\"Maximum Error Wert:\", max_test)"
   ]
  },
  {
   "cell_type": "markdown",
   "metadata": {},
   "source": [
    "# 9. Anleitung"
   ]
  },
  {
   "cell_type": "code",
   "execution_count": null,
   "metadata": {
    "scrolled": false
   },
   "outputs": [],
   "source": [
    "def mpredict(data, renovation=None):\n",
    "    mtyp = \"gbt\"\n",
    "    \n",
    "    dinput = ['Grundstück in Qm', 'Wohnfläche in Qm', 'Zustand', 'Küche', 'Heizungsqualität', 'Fassade', 'Klimaanlage', 'Gebaut', 'Garagenkapazität']\n",
    "    \n",
    "    curr_model = storage[\"poly\"][\"models\"][mtyp][storage[\"normal\"][\"best\"][mtyp]]\n",
    "    # Eingaben überprüfen\n",
    "    if len(data) != len(dinput):\n",
    "        print(\"Eingaben überprüfen: %d Elemente erwartet, aber nur %d Elemente vorhanden!\" % \n",
    "              (len(dinput), len(data)))\n",
    "        return\n",
    "    \n",
    "    \n",
    "    pred_y = curr_model.predict(poly.fit_transform([data]))[0]\n",
    "    print(\"Vorhergesagter Preis: %i GC Dollar\" % int(pred_y))\n",
    "    \n",
    "    \n",
    "    if renovation != None:\n",
    "        new_data = data.copy()\n",
    "        # neue Daten laden\n",
    "        for ren_data in renovation.keys():\n",
    "            if ren_data not in dinput:\n",
    "                print(\"Unerkannte Eingabe, Renovation überprüfen\")\n",
    "                return;\n",
    "            index = dinput.index(ren_data)\n",
    "            new_data[index] = renovation[ren_data]\n",
    "        \n",
    "        # Evaluieren\n",
    "        pred_y_new = curr_model.predict(poly.fit_transform([new_data]))[0]\n",
    "        print(\"Vorhergesagter Wert nach Renovation: %d GC Dollar, Differenz: %d GC Dollar\" % (pred_y_new, pred_y_new - pred_y))"
   ]
  },
  {
   "cell_type": "markdown",
   "metadata": {},
   "source": [
    "Anhand der vorhandenen Daten wurde ein Modell entwickelt, mit dem der preisliche Aufwand von Renovationen mit der Wertsteigerung der Immobilie verglichen werden kann. Für diese Aufgabe wurden Modelle auf 1600 Datensätzen trainiert, getestet und die Besten für eine weitere Untersuchung ausgewählt. Das beste Modell war ein Gradiend Boosting Tree (GBT) mit einem R2-Wert von 0.88, ist das noch richtig?\n",
    "Das Modell bietet herausragende Vorhersagegenauigkeit für Häuser im Preisbereich von 100.000 bis 500.000 GC Dollar. Sollten Werte getestet werden, die außerhalb dieses Bereichs liegen, \n",
    "\n",
    "werden zwar immernoch gute Preisvorschläge generiert, ihre Richtigkeit kann aber nicht mehr garantiert werden.\n",
    "\n",
    "Um eine Vorhersage zu erhalten, werden folgende Daten benötigt:\n",
    "- Grundstücksfläche in Qm\n",
    "- Wohnfläche in Qm\n",
    "- Zustand des Hauses (Zahl von 0 - 4)\n",
    "- Zustand der Küche (Zahl von 0 - 4)\n",
    "- Zustand der Heizung (Zahl von 0 - 4)\n",
    "- Zustand der Fassade (Zahl von 0 - 4)\n",
    "- Vorhandensein einer Klimaanlage (0: Nein, 1: Ja)\n",
    "- Baujahr\n",
    "- Garagenkapazität\n",
    "\n",
    "ein Beispielaufruf kann so aussehen:    \n",
    "daten = [1200,80,4,1,0,4,1,2103,4]    \n",
    "renovation =  {\"Küche\": 4, \"Klimaanlage\": 1}  \n",
    "mpredict(daten, renovation) \n",
    "\n",
    "\n",
    "Mit diesem Tool kann nun der Wer der Immobilie nach einer Renovation berechnet werden, indem dem Modell der gewünschte Zielzustand gegeben wird. Das Modell berechnet nun den neuen Verkaufspreis und gibt dazu die Differenz zum jetzigen Preis aus. Mit diesem Preis kann nun die Wirtschaftlichkeit der Renovation geprüft und ein Kaufentscheid gefällt werden."
   ]
  },
  {
   "cell_type": "code",
   "execution_count": null,
   "metadata": {
    "scrolled": false
   },
   "outputs": [],
   "source": [
    "#print(features)\n",
    "daten = [1800,140,4,1,1,4,1,2203,4]\n",
    "renovation =  {\"Küche\": 4}\n",
    "mpredict(daten, renovation)"
   ]
  }
 ],
 "metadata": {
  "kernelspec": {
   "display_name": "Python 3",
   "language": "python",
   "name": "python3"
  },
  "language_info": {
   "codemirror_mode": {
    "name": "ipython",
    "version": 3
   },
   "file_extension": ".py",
   "mimetype": "text/x-python",
   "name": "python",
   "nbconvert_exporter": "python",
   "pygments_lexer": "ipython3",
   "version": "3.8.6"
  }
 },
 "nbformat": 4,
 "nbformat_minor": 4
}
