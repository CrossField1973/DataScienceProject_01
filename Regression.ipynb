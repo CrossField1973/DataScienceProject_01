{
 "cells": [
  {
   "cell_type": "markdown",
   "metadata": {},
   "source": [
    "# Bibliotheken importieren"
   ]
  },
  {
   "cell_type": "code",
   "execution_count": null,
   "metadata": {},
   "outputs": [],
   "source": [
    "# Data Science + Mathe Bibliotheken\n",
    "import numpy as np\n",
    "import matplotlib.pyplot as plt\n",
    "import pandas as pd\n",
    "import seaborn as sb\n",
    "\n",
    "# Metriken\n",
    "from sklearn.metrics import mean_squared_error \n",
    "from sklearn.metrics import r2_score\n",
    "from sklearn.metrics import explained_variance_score\n",
    "from sklearn.metrics import max_error\n",
    "\n",
    "# Validierung\n",
    "from sklearn.model_selection import train_test_split\n",
    "from sklearn.model_selection import KFold\n",
    "\n",
    "# Modelle\n",
    "from sklearn.preprocessing import PolynomialFeatures\n",
    "from sklearn import linear_model\n",
    "from sklearn.ensemble import GradientBoostingRegressor\n",
    "from sklearn.ensemble import RandomForestRegressor\n",
    "from sklearn.linear_model import SGDRegressor\n",
    "\n",
    "# Warnungen \n",
    "import warnings"
   ]
  },
  {
   "cell_type": "markdown",
   "metadata": {},
   "source": [
    "# Anomalien entfernen und Daten bereinigen"
   ]
  },
  {
   "cell_type": "code",
   "execution_count": null,
   "metadata": {},
   "outputs": [],
   "source": [
    "housing_data = pd.read_csv('DatenAusgegeben1.2_UTF8_manuell.csv', sep=\";\", keep_default_na=False)\n",
    "\n",
    "warnings.filterwarnings('ignore')\n",
    "\n",
    "# Bereinigung und Feature Engeneering\n",
    "\n",
    "# für €/qm² für besseren Vergleich der Daten\n",
    "housing_data[\"Preisproqm\"] = housing_data[\"Preis\"]/housing_data[\"Wohnflaeche in qm\"]\n",
    "\n",
    "# Monate seit 2136\n",
    "housing_data[\"Monate\"] = (housing_data[\"Verkaufsjahr\"]-2136)*12 + housing_data[\"Verkaufsmonat\"] -1\n",
    "\n",
    "# Werte der Heizungsqualitaet in Zahlen umwandeln\n",
    "housing_data[\"Heizungsqualitaet\"] = [1 if x==\"Schl\" else 2 if x==\"Ud\" else 3 if x==\"Ty\" else 4 if x==\"Gut\" else 5 for x in housing_data[\"Heizungsqualitaet\"]]\n",
    "\n",
    "# Zustand, 1-10 wird auf 1-5 gemapt, das ist zwar ein bisschen ungenauer, aber einfacher zu vergleichen\n",
    "housing_data[\"Zustandf\"] = [int(x/2) + x%2 for x in housing_data[\"Zustand\"]]\n",
    "\n",
    "# Alle Zustände werden von 1...X auf 0....X-1 geschoben\n",
    "housing_data[\"HeizungsqualitaetN\"] = [ x-1 for x in housing_data[\"Heizungsqualitaet\"]]\n",
    "housing_data[\"ZustandN\"] = [ x-1 for x in housing_data[\"Zustandf\"]]\n",
    "housing_data[\"FassadeN\"] = [ x-1 for x in housing_data[\"Zustand Fassade\"]]\n",
    "housing_data[\"KuecheN\"] = [ x-1 for x in housing_data[\"Kuechenqualitaet\"]]\n",
    "\n",
    "# Klimaanlage Ja/Nein  -> 1/0\n",
    "housing_data[\"Klimaanlage\"] = [1 if x == \"Y\" else 0 for x in housing_data[\"Klimaanlage\"]]\n",
    "\n",
    "# Besonders Große Daten beim Preis + Wohnfläche in qm rausschmeißen\n",
    "max_value = housing_data[\"Preis\"].unique()[-1:][0]\n",
    "housing_data[housing_data[\"Preis\"] != max_value]\n",
    "\n",
    "max_value = housing_data[\"Wohnflaeche in qm\"].unique()[-1:][0]\n",
    "housing_data[housing_data[\"Wohnflaeche in qm\"] != max_value]\n",
    "\n",
    "max_value = housing_data[\"Grundstueck in qm\"].unique()[-2:][0]\n",
    "housing_data[housing_data[\"Grundstueck in qm\"] != max_value]\n",
    "\n",
    "\n",
    "# NA in Garage Typ wird zu \"Keine Garage\"\n",
    "housing_data[\"Garage Typ\"] = ['keine Garage' if x=='NA' else x for x in housing_data[\"Garage Typ\"]]\n",
    "\n",
    "\n",
    "print(housing_data.keys())"
   ]
  },
  {
   "cell_type": "markdown",
   "metadata": {},
   "source": [
    "# Merkmale auswählen"
   ]
  },
  {
   "cell_type": "code",
   "execution_count": null,
   "metadata": {},
   "outputs": [],
   "source": [
    "# X und Y aus dem Datenset auslesen\n",
    "\n",
    "# Zu testende Merkmale festlegen (X)\n",
    "features = [ \"Grundstueck in qm\", \"Wohnflaeche in qm\",\"ZustandN\",\"KuecheN\",\"Klimaanlage\", \"Gebaut\", \"Garagenkapazitaet\", \"HeizungsqualitaetN\", \"Raeume\"]\n",
    "# Preis (Y)\n",
    "predict= \"Preis\"\n",
    "\n",
    "X = {}\n",
    "for feature in features:\n",
    "    X[feature] = housing_data[feature]\n",
    "X = pd.DataFrame(X)\n",
    "\n",
    "Y = pd.DataFrame(housing_data[predict])"
   ]
  },
  {
   "cell_type": "markdown",
   "metadata": {},
   "source": [
    "# Regression"
   ]
  },
  {
   "cell_type": "code",
   "execution_count": null,
   "metadata": {},
   "outputs": [],
   "source": [
    "# K-fache Cross-Validierung\n",
    "split = 10\n",
    "Kfold = KFold(n_splits=split, random_state=102)\n",
    "kfold = Kfold.split(X, Y)\n",
    "\n",
    "model = {\"data\":[], \"scores\":{}, \"models\" : {}, \"best\" : {}, \"types\":[\"ols\", \"lasso\", \"ridge\", \"gbt\", \"rf\", \"sgd\"]}\n",
    "for mtype in model[\"types\"]:\n",
    "    model[\"scores\"][mtype] = []\n",
    "    model[\"models\"][mtype] = []\n",
    "\n",
    "\n",
    "for k, (train, test) in enumerate(kfold):\n",
    "    model[\"models\"][\"ols\"].append(linear_model.LinearRegression())\n",
    "    model[\"models\"][\"lasso\"].append(linear_model.Lasso())\n",
    "    model[\"models\"][\"ridge\"].append(linear_model.Ridge())\n",
    "    model[\"models\"][\"gbt\"].append(GradientBoostingRegressor(\n",
    "        max_depth=4, n_estimators=100, learning_rate=0.15, loss=\"ls\"))\n",
    "    model[\"models\"][\"rf\"].append(RandomForestRegressor(max_depth=10, n_estimators=10, criterion=\"mse\"))\n",
    "    model[\"models\"][\"sgd\"].append(SGDRegressor(eta0=0.5))\n",
    "    \n",
    "    # Polynomielle Regression\n",
    "    poly = PolynomialFeatures(degree=3)\n",
    "    x_poly = poly.fit_transform(X.iloc[train, :])\n",
    "    poly.fit(X.iloc[train, :], Y.iloc[train])\n",
    "    x_poly_test = poly.fit_transform(X.iloc[test, :])\n",
    "    y_train = Y.iloc[train]\n",
    "    y_test = Y.iloc[test]\n",
    "    model[\"data\"].append({\"xpoly\": x_poly, \"x_train\": X.iloc[train, :], \"y_train\": y_train, \n",
    "                          \"x_poly_test\": x_poly_test, \"x_test\": X.iloc[test, :], \"y_test\": y_test})\n",
    "    \n",
    "    for mtype in model[\"types\"]:\n",
    "        curr_model = model[\"models\"][mtype][k]\n",
    "        curr_model.fit(x_poly, y_train)\n",
    "        score = r2_score(curr_model.predict(x_poly_test), y_test)\n",
    "        model[\"scores\"][mtype].append(score)\n",
    "        \n",
    "print(\"Done\")"
   ]
  },
  {
   "cell_type": "markdown",
   "metadata": {},
   "source": [
    "# Modelle Bewerten\n"
   ]
  },
  {
   "cell_type": "code",
   "execution_count": null,
   "metadata": {},
   "outputs": [],
   "source": [
    "# Beste Modelle finden, r2_score ausgeben\n",
    "\n",
    "for mtype in model[\"types\"]:\n",
    "    best = model[\"scores\"][mtype].index(np.sort(model[\"scores\"][mtype])[-1:][0])\n",
    "    model[\"best\"][mtype] = best    \n",
    "    mean_score = np.mean(model[\"scores\"][mtype])\n",
    "    std_score = np.std(model[\"scores\"][mtype])\n",
    "    max_score = model[\"scores\"][mtype][model[\"best\"][mtype]]\n",
    "    print(\"rs_score von %s:\\t%.3f +- %.3f (%.3f max)\" % (mtype, mean_score, std_score, max_score))\n",
    "\n",
    "    \n",
    "print(model[\"best\"])\n",
    "\n",
    "fig, axs = plt.subplots(1,len(model[\"types\"]), sharex=False, sharey=True, figsize=(15,6))\n",
    "for i in range(len(model[\"types\"])):\n",
    "    mtype = model[\"types\"][i]\n",
    "    best_model = model[\"models\"][mtype][model[\"best\"][mtype]]\n",
    "    x_test = model[\"data\"][model[\"best\"][mtype]][\"x_test\"]\n",
    "    y_test = model[\"data\"][model[\"best\"][mtype]][\"y_test\"]\n",
    "    pred_y = np.reshape(best_model.predict(poly.fit_transform(x_test)), (-1,1))\n",
    "    \n",
    "    \n",
    "    axs[i].hist(pred_y /y_test)\n",
    "    axs[i].set_xlabel(\"HELP\" + str(i))\n",
    "    \n",
    "    #index = scoresl.index(np.sort(scoresl)[-1:])\n",
    "#use_data = data[index]\n",
    "\n",
    "#predit = best_lasso.predict(use_data[\"x_poly_test\"])\n",
    "#scorel = r2_score(lasso[k].predict(x_poly_test), Y.iloc[test])\n",
    "# Gleicher \n",
    "\n",
    "\n"
   ]
  },
  {
   "cell_type": "markdown",
   "metadata": {},
   "source": [
    "# Vergleich von Model und Testdaten"
   ]
  },
  {
   "cell_type": "code",
   "execution_count": null,
   "metadata": {},
   "outputs": [],
   "source": [
    "\n",
    "[]"
   ]
  },
  {
   "cell_type": "code",
   "execution_count": null,
   "metadata": {},
   "outputs": [],
   "source": [
    "for feature in features:\n",
    "    plt.scatter(poly.fit_transform(X_test[feature]), y_test, c=\"blue\")\n",
    "    plt.scatter(X_test[feature], best_model.predict(X_test[feature]), c=\"red\")\n",
    "    plt.suptitle(feature)\n",
    "    plt.show()\n",
    "\n",
    "plt.hist(best_model.predict(X_test[feature]) / y_test)"
   ]
  },
  {
   "cell_type": "markdown",
   "metadata": {},
   "source": [
    "# Vorhersage "
   ]
  },
  {
   "cell_type": "code",
   "execution_count": null,
   "metadata": {},
   "outputs": [],
   "source": [
    "# \"Grundstueck in qm\", \"Wohnflaeche in qm\",\"ZustandN\",\"KuecheN\",\"Klimaanlage\", \"Gebaut\", \n",
    "# \"Garagenkapazitaet\", \"HeizungsqualitaetN\", \"Raeume\"]\n",
    "\n",
    "# Beste Regression anhand r2 wählen\n",
    "#TO-DO get best model by r2 value\n",
    "best_model = \n",
    "\n",
    "y = best_model.predict(poly.fit_transform([[2000, 160, 4, 4, 1, 2130, 2, 4, 4]]))\n",
    "\n",
    "print(round(y[0], 2), \"GC Dollar\")"
   ]
  },
  {
   "cell_type": "markdown",
   "metadata": {},
   "source": [
    "# Veraltete Regression"
   ]
  },
  {
   "cell_type": "code",
   "execution_count": null,
   "metadata": {},
   "outputs": [],
   "source": [
    "# Daten vorbereiten\n",
    "\n",
    "# Wichtigste Merkmale \n",
    "# Klimaanlage, Heizungsqualität, Küchenqualität, Zustand, Fassadenqualität \n",
    "\n",
    "# In Trainings- und Testdaten unterteilen\n",
    "X_train, X_test, y_train, y_test = train_test_split(X,Y,test_size=0.2)\n",
    "\n",
    "poly = PolynomialFeatures(degree=3)\n",
    "x_poly = poly.fit_transform(X_train)\n",
    "poly.fit(X_train, y_train)\n",
    "\n",
    "\n",
    "print(X_train.shape, y_train.shape, X_test.shape, y_test.shape)\n",
    "# Regression\n",
    "\n",
    "reg = linear_model.LinearRegression()\n",
    "ridge = linear_model.Ridge(alpha=0.05)\n",
    "lasso = linear_model.Lasso(alpha=0.05)\n",
    "\n",
    "reg.fit(x_poly, y_train)\n",
    "ridge.fit(x_poly, y_train)\n",
    "lasso.fit(x_poly, y_train)\n",
    "\n",
    "#V alidierung\n",
    "y_pred_reg = reg.predict(poly.fit_transform(X_test))\n",
    "y_pred_ridge = ridge.predict(poly.fit_transform(X_test))\n",
    "y_pred_lasso = lasso.predict(poly.fit_transform(X_test))\n",
    "\n",
    "\n",
    "print(r2_score(y_test, y_pred_reg), mean_squared_error(y_test, y_pred_reg), max_error(y_test, y_pred_reg))\n",
    "print(r2_score(y_test, y_pred_ridge), mean_squared_error(y_test, y_pred_ridge), max_error(y_test, y_pred_ridge))\n",
    "print(r2_score(y_test, y_pred_lasso), mean_squared_error(y_test, y_pred_lasso), max_error(y_test, y_pred_lasso))"
   ]
  },
  {
   "cell_type": "code",
   "execution_count": null,
   "metadata": {},
   "outputs": [],
   "source": [
    "plt.hist(y_pred_reg / y_test)"
   ]
  },
  {
   "cell_type": "code",
   "execution_count": null,
   "metadata": {},
   "outputs": [],
   "source": [
    "for feature in features:\n",
    "    plt.scatter(X_test[feature], y_test, c=\"blue\")\n",
    "    #plt.scatter(X_test[feature], y_pred_reg, c=\"red\")\n",
    "    #plt.scatter(X_test[feature], y_pred_ridge, c=\"orange\")\n",
    "    plt.scatter(X_test[feature], y_pred_lasso, c=\"yellow\")\n",
    "    plt.suptitle(feature)\n",
    "    plt.show()\n"
   ]
  },
  {
   "cell_type": "code",
   "execution_count": null,
   "metadata": {},
   "outputs": [],
   "source": [
    "#\"Grundstueck in qm\", \"Wohnflaeche in qm\",\"ZustandN\",\"KuecheN\",\"Klimaanlage\", \"Gebaut\", #\"Garagenkapazitaet\", \"HeizungsqualitaetN\", \"Raeume\"]\n",
    "\n",
    "\n",
    "y = reg.predict(poly.fit_transform([[3000, 180, 4, 4, 1, 2130, 2, 2, 20]]))\n",
    "y"
   ]
  },
  {
   "cell_type": "code",
   "execution_count": null,
   "metadata": {},
   "outputs": [],
   "source": []
  }
 ],
 "metadata": {
  "kernelspec": {
   "display_name": "Python 3",
   "language": "python",
   "name": "python3"
  },
  "language_info": {
   "codemirror_mode": {
    "name": "ipython",
    "version": 3
   },
   "file_extension": ".py",
   "mimetype": "text/x-python",
   "name": "python",
   "nbconvert_exporter": "python",
   "pygments_lexer": "ipython3",
   "version": "3.8.6"
  }
 },
 "nbformat": 4,
 "nbformat_minor": 4
}
