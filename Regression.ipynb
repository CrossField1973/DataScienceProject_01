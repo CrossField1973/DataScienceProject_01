{
 "cells": [
  {
   "source": [
    "Um das Model zu testen, ändern Sie den Dateinamen im Code-Teil unter \"Unabhängige Validierung\"."
   ],
   "cell_type": "markdown",
   "metadata": {}
  },
  {
   "cell_type": "markdown",
   "metadata": {},
   "source": [
    "# Bibliotheken importieren"
   ]
  },
  {
   "cell_type": "code",
   "execution_count": 1,
   "metadata": {},
   "outputs": [],
   "source": [
    "# Data Science + Mathe Bibliotheken\n",
    "import numpy as np\n",
    "import matplotlib.pyplot as plt\n",
    "import pandas as pd\n",
    "import seaborn as sb\n",
    "\n",
    "# Metriken\n",
    "from sklearn.metrics import mean_squared_error \n",
    "from sklearn.metrics import r2_score\n",
    "from sklearn.metrics import explained_variance_score\n",
    "from sklearn.metrics import max_error\n",
    "\n",
    "# Validierung\n",
    "from sklearn.model_selection import train_test_split\n",
    "from sklearn.model_selection import KFold\n",
    "\n",
    "# Modelle\n",
    "from sklearn.preprocessing import PolynomialFeatures\n",
    "from sklearn import linear_model\n",
    "from sklearn.ensemble import GradientBoostingRegressor\n",
    "from sklearn.ensemble import RandomForestRegressor\n",
    "from sklearn.linear_model import SGDRegressor\n",
    "\n",
    "# Warnungen \n",
    "import warnings"
   ]
  },
  {
   "source": [
    "# MAPE definieren"
   ],
   "cell_type": "markdown",
   "metadata": {}
  },
  {
   "cell_type": "code",
   "execution_count": 2,
   "metadata": {},
   "outputs": [],
   "source": [
    "#https://www.statology.org/mape-python/\n",
    "\n",
    "def mape(actual, pred): \n",
    "    actual, pred = np.array(actual), np.array(pred)\n",
    "    return np.mean(np.abs((actual - pred) / actual)) * 100"
   ]
  },
  {
   "cell_type": "markdown",
   "metadata": {},
   "source": [
    "# Anomalien entfernen und Daten bereinigen"
   ]
  },
  {
   "cell_type": "code",
   "execution_count": 3,
   "metadata": {},
   "outputs": [
    {
     "output_type": "stream",
     "name": "stdout",
     "text": [
      "Index(['Grundstueck in qm', 'Grundstuecksform', 'Steigung', 'Bezirk', 'Zone',\n       'Lage', 'Typ', 'Zustand', 'Gebaut', 'Renoviert', 'Zustand Fassade',\n       'Kellerflaeche in qm', 'Heizung', 'Heizungsqualitaet', 'Klimaanlage',\n       'Erster Stock in qm', 'Zweiter Stock in qm', 'Wohnflaeche in qm',\n       'Schlafzimmer', 'Kuechen', 'Kuechenqualitaet', 'Raeume', 'Garage Typ',\n       'Garagenkapazitaet', 'Pool', 'Verkaufsmonat', 'Verkaufsjahr', 'Preis',\n       'Preisproqm', 'Monate', 'Zustandf', 'HeizungsqualitaetN', 'ZustandN',\n       'FassadeN', 'KuecheN'],\n      dtype='object')\n"
     ]
    }
   ],
   "source": [
    "housing_data = pd.read_csv('DatenAusgegeben1.2_UTF8_manuell.csv', sep=\";\", keep_default_na=False)\n",
    "\n",
    "warnings.filterwarnings('ignore')\n",
    "\n",
    "# Bereinigung und Feature Engeneering\n",
    "\n",
    "# für €/qm² für besseren Vergleich der Daten\n",
    "housing_data[\"Preisproqm\"] = housing_data[\"Preis\"]/housing_data[\"Wohnflaeche in qm\"]\n",
    "\n",
    "# Monate seit 2136\n",
    "housing_data[\"Monate\"] = (housing_data[\"Verkaufsjahr\"]-2136)*12 + housing_data[\"Verkaufsmonat\"] -1\n",
    "\n",
    "# Werte der Heizungsqualitaet in Zahlen umwandeln\n",
    "housing_data[\"Heizungsqualitaet\"] = [1 if x==\"Schl\" else 2 if x==\"Ud\" else 3 if x==\"Ty\" else 4 if x==\"Gut\" else 5 for x in housing_data[\"Heizungsqualitaet\"]]\n",
    "\n",
    "# Zustand, 1-10 wird auf 1-5 gemapt, das ist zwar ein bisschen ungenauer, aber einfacher zu vergleichen\n",
    "housing_data[\"Zustandf\"] = [int(x/2) + x%2 for x in housing_data[\"Zustand\"]]\n",
    "\n",
    "# Alle Zustände werden von 1...X auf 0....X-1 geschoben\n",
    "housing_data[\"HeizungsqualitaetN\"] = [ x-1 for x in housing_data[\"Heizungsqualitaet\"]]\n",
    "housing_data[\"ZustandN\"] = [ x-1 for x in housing_data[\"Zustandf\"]]\n",
    "housing_data[\"FassadeN\"] = [ x-1 for x in housing_data[\"Zustand Fassade\"]]\n",
    "housing_data[\"KuecheN\"] = [ x-1 for x in housing_data[\"Kuechenqualitaet\"]]\n",
    "\n",
    "# Klimaanlage Ja/Nein  -> 1/0\n",
    "housing_data[\"Klimaanlage\"] = [1 if x == \"Y\" else 0 for x in housing_data[\"Klimaanlage\"]]\n",
    "\n",
    "# Besonders Große Daten beim Preis + Wohnfläche in qm rausschmeißen\n",
    "max_value = housing_data[\"Preis\"].unique()[-1:][0]\n",
    "housing_data[housing_data[\"Preis\"] != max_value]\n",
    "\n",
    "max_value = housing_data[\"Wohnflaeche in qm\"].unique()[-1:][0]\n",
    "housing_data[housing_data[\"Wohnflaeche in qm\"] != max_value]\n",
    "\n",
    "max_value = housing_data[\"Grundstueck in qm\"].unique()[-2:][0]\n",
    "housing_data[housing_data[\"Grundstueck in qm\"] != max_value]\n",
    "\n",
    "\n",
    "# NA in Garage Typ wird zu \"Keine Garage\"\n",
    "housing_data[\"Garage Typ\"] = ['keine Garage' if x=='NA' else x for x in housing_data[\"Garage Typ\"]]\n",
    "\n",
    "\n",
    "print(housing_data.keys())"
   ]
  },
  {
   "cell_type": "markdown",
   "metadata": {},
   "source": [
    "# Merkmale auswählen"
   ]
  },
  {
   "cell_type": "code",
   "execution_count": 4,
   "metadata": {},
   "outputs": [],
   "source": [
    "# X und Y aus dem Datenset auslesen\n",
    "\n",
    "# Zu testende Merkmale festlegen (X)\n",
    "features = [ \"Grundstueck in qm\", \"Wohnflaeche in qm\",\"ZustandN\",\"KuecheN\",\"Klimaanlage\", \"Gebaut\", \"Garagenkapazitaet\", \"HeizungsqualitaetN\", \"Raeume\"]\n",
    "# Preis (Y)\n",
    "predict= \"Preis\"\n",
    "\n",
    "X = {}\n",
    "for feature in features:\n",
    "    X[feature] = housing_data[feature]\n",
    "X = pd.DataFrame(X)\n",
    "\n",
    "Y = pd.DataFrame(housing_data[predict])"
   ]
  },
  {
   "cell_type": "markdown",
   "metadata": {},
   "source": [
    "# Regression"
   ]
  },
  {
   "cell_type": "code",
   "execution_count": 5,
   "metadata": {},
   "outputs": [
    {
     "output_type": "stream",
     "name": "stdout",
     "text": [
      "ols [0.7021301030367896, 0.72838039720452, 0.643832286431407, 0.8585292854279294, 0.8246056452141695, -0.07972693089723126, 0.8180444250096721, 0.7433997903913765, 0.8349882626451656, 0.8765483040871576]\nlasso [0.7905026182972861, 0.8250547870219784, 0.8435731737087091, 0.8849914406765593, 0.760983368847694, 0.1970218741179499, 0.8679661238508001, 0.8631751625828131, 0.8486524783938699, 0.8935295951943117]\nridge [0.7349299501086054, 0.8285996736439557, 0.7288779945105468, 0.8781614054350387, 0.8339905259981044, 0.09142442032215725, 0.8042786466340881, 0.7763343236506146, 0.8462425304931519, 0.8824355580175507]\ngbt [0.8046225071874304, 0.8068907703890603, 0.8276704574777188, 0.8878606751762762, 0.8235811916436444, 0.856575145892838, 0.8480804148270208, 0.8739276528601694, 0.8378310715519042, 0.8324559475026216]\nrf [0.7701315217957994, 0.7814530580208161, 0.8175957008627714, 0.8834848610194046, 0.7662027616127669, 0.8380408341042096, 0.8484706779394854, 0.8477757917722767, 0.8353918115348459, 0.8066339585944018]\nsgd [-0.007493699053030989, -0.10043014630876956, -0.017438279180529648, -0.09625421991101635, -0.03145868635346605, -0.00825603486615134, -0.023735324935524993, -0.031215039821510082, -0.017945980027007202, -0.08581456629072082]\nOrdinary Squared Loss:[]\n"
     ]
    },
    {
     "output_type": "error",
     "ename": "ValueError",
     "evalue": "array([], dtype=float64) is not in list",
     "traceback": [
      "\u001b[1;31m---------------------------------------------------------------------------\u001b[0m",
      "\u001b[1;31mValueError\u001b[0m                                Traceback (most recent call last)",
      "\u001b[1;32m<ipython-input-5-596179967580>\u001b[0m in \u001b[0;36m<module>\u001b[1;34m\u001b[0m\n\u001b[0;32m     88\u001b[0m \u001b[1;33m\u001b[0m\u001b[0m\n\u001b[0;32m     89\u001b[0m \u001b[0mprint\u001b[0m\u001b[1;33m(\u001b[0m\u001b[1;34m\"Ordinary Squared Loss:\"\u001b[0m \u001b[1;33m+\u001b[0m \u001b[0mstr\u001b[0m\u001b[1;33m(\u001b[0m\u001b[0mnp\u001b[0m\u001b[1;33m.\u001b[0m\u001b[0msort\u001b[0m\u001b[1;33m(\u001b[0m\u001b[0mscoresr\u001b[0m\u001b[1;33m)\u001b[0m\u001b[1;33m[\u001b[0m\u001b[1;33m-\u001b[0m\u001b[1;36m1\u001b[0m\u001b[1;33m:\u001b[0m\u001b[1;33m]\u001b[0m\u001b[1;33m)\u001b[0m\u001b[1;33m)\u001b[0m\u001b[1;33m\u001b[0m\u001b[1;33m\u001b[0m\u001b[0m\n\u001b[1;32m---> 90\u001b[1;33m \u001b[0mbest\u001b[0m \u001b[1;33m=\u001b[0m \u001b[0mscoresr\u001b[0m\u001b[1;33m.\u001b[0m\u001b[0mindex\u001b[0m\u001b[1;33m(\u001b[0m\u001b[0mnp\u001b[0m\u001b[1;33m.\u001b[0m\u001b[0msort\u001b[0m\u001b[1;33m(\u001b[0m\u001b[0mscoresr\u001b[0m\u001b[1;33m)\u001b[0m\u001b[1;33m[\u001b[0m\u001b[1;33m-\u001b[0m\u001b[1;36m1\u001b[0m\u001b[1;33m:\u001b[0m\u001b[1;33m]\u001b[0m\u001b[1;33m)\u001b[0m\u001b[1;33m\u001b[0m\u001b[1;33m\u001b[0m\u001b[0m\n\u001b[0m\u001b[0;32m     91\u001b[0m \u001b[0mbest_reg\u001b[0m \u001b[1;33m=\u001b[0m \u001b[0mreg\u001b[0m\u001b[1;33m[\u001b[0m\u001b[0mk\u001b[0m\u001b[1;33m]\u001b[0m\u001b[1;33m\u001b[0m\u001b[1;33m\u001b[0m\u001b[0m\n\u001b[0;32m     92\u001b[0m \u001b[1;33m\u001b[0m\u001b[0m\n",
      "\u001b[1;31mValueError\u001b[0m: array([], dtype=float64) is not in list"
     ]
    }
   ],
   "source": [
    "# K-fache Cross-Validierung\n",
    "split = 10\n",
    "Kfold = KFold(n_splits=split, random_state=42)\n",
    "kfold = Kfold.split(X, Y)\n",
    "scoresr = []\n",
    "scoresl = []\n",
    "scoresri = []\n",
    "scoresgbt = []\n",
    "scoresrf = []\n",
    "scoressgd = []\n",
    "reg = [None]*split\n",
    "lasso = [None]*split\n",
    "ridge = [None]*split\n",
    "gbt = [None]*split\n",
    "rf = [None]*split\n",
    "sgd = [None]*split\n",
    "data = {}\n",
    "model = {\"data\":[], \"scores\":{}, \"models\" : {}, \"types\":[\"ols\", \"lasso\", \"ridge\", \"gbt\", \"rf\", \"sgd\"]}\n",
    "for mtype in model[\"types\"]:\n",
    "    model[\"scores\"][mtype] = []\n",
    "    model[\"models\"][mtype] = []\n",
    "   \n",
    "\n",
    "for k, (train, test) in enumerate(kfold):\n",
    "    model[\"models\"][\"ols\"].append(linear_model.LinearRegression())\n",
    "    model[\"models\"][\"lasso\"].append(linear_model.Lasso())\n",
    "    model[\"models\"][\"ridge\"].append(linear_model.Ridge())\n",
    "    model[\"models\"][\"gbt\"].append(GradientBoostingRegressor(\n",
    "        max_depth=4, n_estimators=100, learning_rate=0.15, loss=\"ls\"))\n",
    "    model[\"models\"][\"rf\"].append(RandomForestRegressor(max_depth=10, n_estimators=10, criterion=\"mse\"))\n",
    "    model[\"models\"][\"sgd\"].append(SGDRegressor(eta0=0.5))\n",
    "    \n",
    "    # Polynomielle Regression\n",
    "    poly = PolynomialFeatures(degree=3)\n",
    "    x_poly = poly.fit_transform(X.iloc[train, :])\n",
    "    poly.fit(X.iloc[train, :], Y.iloc[train])\n",
    "    x_poly_test = poly.fit_transform(X.iloc[test, :])\n",
    "    \n",
    "    model[\"data\"].append({\"xpoly\": x_poly, \"x_train\": X.iloc[train, :], \"y_train\": Y.iloc[train], \n",
    "                          \"x_poly_test\": x_poly_test, \"x_test\": X.iloc[test, :], \"y_test\": Y.iloc[test]})\n",
    "    \n",
    "    for mtype in model[\"types\"]:\n",
    "        curr_model = model[\"models\"][mtype][k]\n",
    "        curr_model.fit(x_poly, Y.iloc[train])\n",
    "        score = r2_score(curr_model.predict(x_poly_test), Y.iloc[test])\n",
    "        model[\"scores\"][mtype].append(score)\n",
    "\n",
    "for mtype in model[\"types\"]:\n",
    "    print(mtype, model[\"scores\"][mtype])\n",
    "\n",
    "while 0 != 0:\n",
    "   # Ordinary Least Squared\n",
    "    reg[k] = linear_model.LinearRegression()\n",
    "    reg[k].fit(x_poly, Y.iloc[train])\n",
    "    scorer = r2_score(reg[k].predict(x_poly_test), Y.iloc[test])\n",
    "    scoresr.append(scorer)\n",
    "    \n",
    "    # Lasso Regression\n",
    "    lasso[k] = linear_model.Lasso()\n",
    "    lasso[k].fit(x_poly, Y.iloc[train])\n",
    "    scorel = r2_score(lasso[k].predict(x_poly_test), Y.iloc[test])\n",
    "    scoresl.append(scorel)\n",
    "    \n",
    "    # Ridge Regression\n",
    "    ridge[k] = linear_model.Ridge()\n",
    "    ridge[k].fit(x_poly, Y.iloc[train])\n",
    "    scoreri = r2_score(ridge[k].predict(x_poly_test), Y.iloc[test])\n",
    "    scoresri.append(scoreri)\n",
    "\n",
    "    # Gradient Boosting Tree\n",
    "    gbt[k] = GradientBoostingRegressor(max_depth=4, n_estimators=100, learning_rate=0.15, loss=\"ls\")\n",
    "    gbt[k].fit(x_poly, Y.iloc[train]) \n",
    "    scoregbt = r2_score(gbt[k].predict(x_poly_test), Y.iloc[test])\n",
    "    scoresgbt.append(scoregbt)\n",
    "\n",
    "    # Random Forest \n",
    "    rf[k] = RandomForestRegressor(max_depth=10, n_estimators=10, criterion=\"mse\")\n",
    "    rf[k].fit(x_poly, Y.iloc[train])\n",
    "    scorerf = r2_score(rf[k].predict(x_poly_test), Y.iloc[test])\n",
    "    scoresrf.append(scorerf)\n",
    "\n",
    "    # Stochastic Gradiend Descend\n",
    "    sgd[k] = SGDRegressor(eta0=0.5)\n",
    "    sgd[k].fit(x_poly, Y.iloc[train])\n",
    "    scoresgd = r2_score(sgd[k].predict(x_poly_test), Y.iloc[test])\n",
    "    scoressgd.append(scoresgd)\n",
    "    \n",
    "    \n",
    "print(\"Ordinary Squared Loss:\" + str(np.sort(scoresr)[-1:]))\n",
    "best = scoresr.index(np.sort(scoresr)[-1:])\n",
    "best_reg = reg[k]\n",
    "\n",
    "print(\"Lasso:\" + str(np.sort(scoresl)[-1:]))\n",
    "best = scoresl.index(np.sort(scoresl)[-1:])\n",
    "best_lasso = lasso[k]\n",
    "\n",
    "print(\"Ridge:\" + str(np.sort(scoresri)[-1:]))\n",
    "best = scoresri.index(np.sort(scoresri)[-1:])\n",
    "best_ridge = ridge[k]\n",
    "\n",
    "print(\"Gradient Boosting Tree:\" + str(np.sort(scoresgbt)[-1:]))\n",
    "best = scoresgbt.index(np.sort(scoresgbt)[-1:])\n",
    "best_gbt = gbt[k]\n",
    "\n",
    "print(\"Random Forest :\" + str(np.sort(scoresrf)[-1:]))\n",
    "best = scoresrf.index(np.sort(scoresrf)[-1:])\n",
    "best_rf = rf[k]\n",
    "\n",
    "print(\"Stochastic Gradiend Descend:\" + str(np.sort(scoressgd)[-1:]))\n",
    "best = scoressgd.index(np.sort(scoressgd)[-1:])\n",
    "best_sgd = sgd[k]\n"
   ]
  },
  {
   "cell_type": "markdown",
   "metadata": {},
   "source": [
    "# Modelle Bewerten\n"
   ]
  },
  {
   "cell_type": "code",
   "execution_count": null,
   "metadata": {},
   "outputs": [],
   "source": [
    "\n",
    "index = scoresl.index(np.sort(scoresl)[-1:])\n",
    "use_data = data[index]\n",
    "\n",
    "predit = best_lasso.predict(use_data[\"x_poly_test\"])\n",
    "scorel = r2_score(lasso[k].predict(x_poly_test), Y.iloc[test])\n",
    "# Gleicher \n",
    "\n",
    "\n"
   ]
  },
  {
   "cell_type": "markdown",
   "metadata": {},
   "source": [
    "# Vergleich von Model und Testdaten"
   ]
  },
  {
   "cell_type": "code",
   "execution_count": null,
   "metadata": {},
   "outputs": [],
   "source": []
  },
  {
   "cell_type": "code",
   "execution_count": null,
   "metadata": {},
   "outputs": [],
   "source": [
    "for feature in features:\n",
    "    plt.scatter(poly.fit_transform(X_test[feature]), y_test, c=\"blue\")\n",
    "    plt.scatter(X_test[feature], best_model.predict(X_test[feature]), c=\"red\")\n",
    "    plt.suptitle(feature)\n",
    "    plt.show()\n",
    "\n",
    "plt.hist(best_model.predict(X_test[feature]) / y_test)"
   ]
  },
  {
   "cell_type": "markdown",
   "metadata": {},
   "source": [
    "# Vorhersage "
   ]
  },
  {
   "cell_type": "code",
   "execution_count": null,
   "metadata": {},
   "outputs": [],
   "source": [
    "# \"Grundstueck in qm\", \"Wohnflaeche in qm\",\"ZustandN\",\"KuecheN\",\"Klimaanlage\", \"Gebaut\", \n",
    "# \"Garagenkapazitaet\", \"HeizungsqualitaetN\", \"Raeume\"]\n",
    "\n",
    "# Beste Regression anhand r2 wählen\n",
    "#TO-DO get best model by r2 value\n",
    "best_model = \n",
    "\n",
    "y = best_model.predict(poly.fit_transform([[2000, 160, 4, 4, 1, 2130, 2, 4, 4]]))\n",
    "\n",
    "print(round(y[0], 2), \"GC Dollar\")"
   ]
  },
  {
   "source": [
    "# Unabhängige Validierung"
   ],
   "cell_type": "markdown",
   "metadata": {}
  },
  {
   "cell_type": "code",
   "execution_count": null,
   "metadata": {},
   "outputs": [],
   "source": [
    "# housing_data2 = pd.read_csv('DatenAusgegeben1.2_UTF8_manuell.csv', sep=\";\", keep_default_na=False)\n",
    "\n",
    "\n",
    "# housing_data2[\"Preisproqm\"] = housing_data2[\"Preis\"]/housing_data2[\"Wohnflaeche in qm\"]\n",
    "\n",
    "# # Monate seit 2136\n",
    "# housing_data2[\"Monate\"] = (housing_data2[\"Verkaufsjahr\"]-2136)*12 + housing_data2[\"Verkaufsmonat\"] -1\n",
    "\n",
    "# # Werte der Heizungsqualitaet in Zahlen umwandeln\n",
    "# housing_data2[\"Heizungsqualitaet\"] = [1 if x==\"Schl\" else 2 if x==\"Ud\" else 3 if x==\"Ty\" else 4 if x==\"Gut\" else 5 for x in housing_data2[\"Heizungsqualitaet\"]]\n",
    "\n",
    "# # Zustand, 1-10 wird auf 1-5 gemapt, das ist zwar ein bisschen ungenauer, aber einfacher zu vergleichen\n",
    "# housing_data2[\"Zustandf\"] = [int(x/2) + x%2 for x in housing_data2[\"Zustand\"]]\n",
    "\n",
    "# # Alle Zustände werden von 1...X auf 0....X-1 geschoben\n",
    "# housing_data2[\"HeizungsqualitaetN\"] = [ x-1 for x in housing_data2[\"Heizungsqualitaet\"]]\n",
    "# housing_data2[\"ZustandN\"] = [ x-1 for x in housing_data2[\"Zustandf\"]]\n",
    "# housing_data2[\"FassadeN\"] = [ x-1 for x in housing_data2[\"Zustand Fassade\"]]\n",
    "# housing_data2[\"KuecheN\"] = [ x-1 for x in housing_data2[\"Kuechenqualitaet\"]]\n",
    "\n",
    "# # Klimaanlage Ja/Nein  -> 1/0\n",
    "# housing_data2[\"Klimaanlage\"] = [1 if x == \"Y\" else 0 for x in housing_data2[\"Klimaanlage\"]]\n",
    "\n",
    "# # Besonders Große Daten beim Preis + Wohnfläche in qm rausschmeißen\n",
    "# max_value = housing_data2[\"Preis\"].unique()[-1:][0]\n",
    "# housing_data2[housing_data2[\"Preis\"] != max_value]\n",
    "\n",
    "# max_value = housing_data2[\"Wohnflaeche in qm\"].unique()[-1:][0]\n",
    "# housing_data2[housing_data2[\"Wohnflaeche in qm\"] != max_value]\n",
    "\n",
    "# max_value = housing_data2[\"Grundstueck in qm\"].unique()[-2:][0]\n",
    "# housing_data2[housing_data2[\"Grundstueck in qm\"] != max_value]\n",
    "\n",
    "# # NA in Garage Typ wird zu \"Keine Garage\"\n",
    "# housing_data2[\"Garage Typ\"] = ['keine Garage' if x=='NA' else x for x in housing_data2[\"Garage Typ\"]]\n",
    "\n",
    "\n",
    "# X2 = {}\n",
    "# for feature in features:\n",
    "#     X2[feature] = housing_data2[feature]\n",
    "# X2 = pd.DataFrame(X)\n",
    "\n",
    "# Y2 = pd.DataFrame(housing_data2[predict])\n",
    "\n",
    "# x2_poly = poly.fit_transform(X2.iloc[train, :])\n",
    "# poly.fit(X2.iloc[train, :], Y2.iloc[train])\n",
    "# x2_poly_test = poly.fit_transform(X2.iloc[test, :])\n",
    "\n",
    "# # R2, MSE, RMSE, MAPE, MAX\n",
    "# r2_test = r2_score(lasso[k].predict(x2_poly_test), Y2.iloc[test])\n",
    "# mse_test = mean_squared_error(lasso[k].predict(x2_poly_test), Y2.iloc[test])\n",
    "# rmse_test = mean_squared_error(lasso[k].predict(x2_poly_test), Y2.iloc[test], squared=False)\n",
    "# mape_test = mape(lasso[k].predict(x2_poly_test).reshape(-1, 1), Y2.iloc[test])\n",
    "# max_test = max_error(lasso[k].predict(x2_poly_test), Y2.iloc[test])\n",
    "\n",
    "# print(\"R2 Wert:\", r2_test)\n",
    "# print(\"Mean Squared Error Wert:\", mse_test)\n",
    "# print(\"Negativer Mean Square Error Wert:\", rmse_test)\n",
    "# print(\"Mean Absolute Percentage Error Wert:\", mape_test)\n",
    "# print(\"Max Error Wert:\", max_test)"
   ]
  },
  {
   "cell_type": "markdown",
   "metadata": {},
   "source": [
    "# Veraltete Regression"
   ]
  },
  {
   "cell_type": "code",
   "execution_count": null,
   "metadata": {},
   "outputs": [],
   "source": [
    "# Daten vorbereiten\n",
    "\n",
    "# Wichtigste Merkmale \n",
    "# Klimaanlage, Heizungsqualität, Küchenqualität, Zustand, Fassadenqualität \n",
    "\n",
    "# In Trainings- und Testdaten unterteilen\n",
    "X_train, X_test, y_train, y_test = train_test_split(X,Y,test_size=0.2)\n",
    "\n",
    "poly = PolynomialFeatures(degree=3)\n",
    "x_poly = poly.fit_transform(X_train)\n",
    "poly.fit(X_train, y_train)\n",
    "\n",
    "\n",
    "print(X_train.shape, y_train.shape, X_test.shape, y_test.shape)\n",
    "# Regression\n",
    "\n",
    "reg = linear_model.LinearRegression()\n",
    "ridge = linear_model.Ridge(alpha=0.05)\n",
    "lasso = linear_model.Lasso(alpha=0.05)\n",
    "\n",
    "reg.fit(x_poly, y_train)\n",
    "ridge.fit(x_poly, y_train)\n",
    "lasso.fit(x_poly, y_train)\n",
    "\n",
    "#V alidierung\n",
    "y_pred_reg = reg.predict(poly.fit_transform(X_test))\n",
    "y_pred_ridge = ridge.predict(poly.fit_transform(X_test))\n",
    "y_pred_lasso = lasso.predict(poly.fit_transform(X_test))\n",
    "\n",
    "\n",
    "print(r2_score(y_test, y_pred_reg), mean_squared_error(y_test, y_pred_reg), max_error(y_test, y_pred_reg))\n",
    "print(r2_score(y_test, y_pred_ridge), mean_squared_error(y_test, y_pred_ridge), max_error(y_test, y_pred_ridge))\n",
    "print(r2_score(y_test, y_pred_lasso), mean_squared_error(y_test, y_pred_lasso), max_error(y_test, y_pred_lasso))"
   ]
  },
  {
   "cell_type": "code",
   "execution_count": null,
   "metadata": {},
   "outputs": [],
   "source": [
    "plt.hist(y_pred_reg / y_test)"
   ]
  },
  {
   "cell_type": "code",
   "execution_count": null,
   "metadata": {},
   "outputs": [],
   "source": [
    "for feature in features:\n",
    "    plt.scatter(X_test[feature], y_test, c=\"blue\")\n",
    "    #plt.scatter(X_test[feature], y_pred_reg, c=\"red\")\n",
    "    #plt.scatter(X_test[feature], y_pred_ridge, c=\"orange\")\n",
    "    plt.scatter(X_test[feature], y_pred_lasso, c=\"yellow\")\n",
    "    plt.suptitle(feature)\n",
    "    plt.show()\n"
   ]
  },
  {
   "cell_type": "code",
   "execution_count": null,
   "metadata": {},
   "outputs": [],
   "source": [
    "#\"Grundstueck in qm\", \"Wohnflaeche in qm\",\"ZustandN\",\"KuecheN\",\"Klimaanlage\", \"Gebaut\", #\"Garagenkapazitaet\", \"HeizungsqualitaetN\", \"Raeume\"]\n",
    "\n",
    "\n",
    "y = reg.predict(poly.fit_transform([[3000, 180, 4, 4, 1, 2130, 2, 2, 20]]))\n",
    "y"
   ]
  },
  {
   "cell_type": "code",
   "execution_count": null,
   "metadata": {},
   "outputs": [],
   "source": []
  }
 ],
 "metadata": {
  "kernelspec": {
   "display_name": "Python 3",
   "language": "python",
   "name": "python3"
  },
  "language_info": {
   "codemirror_mode": {
    "name": "ipython",
    "version": 3
   },
   "file_extension": ".py",
   "mimetype": "text/x-python",
   "name": "python",
   "nbconvert_exporter": "python",
   "pygments_lexer": "ipython3",
   "version": "3.8.5-final"
  }
 },
 "nbformat": 4,
 "nbformat_minor": 4
}