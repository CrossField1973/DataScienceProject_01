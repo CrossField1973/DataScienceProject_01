{
 "cells": [
  {
   "cell_type": "markdown",
   "metadata": {},
   "source": [
    "# Bibliotheken importieren"
   ]
  },
  {
   "cell_type": "code",
   "execution_count": null,
   "metadata": {},
   "outputs": [],
   "source": [
    "# Data Science + Mathe Bibliotheken\n",
    "import numpy as np\n",
    "import matplotlib.pyplot as plt\n",
    "import pandas as pd\n",
    "import seaborn as sb\n",
    "\n",
    "# Metriken\n",
    "from sklearn.metrics import mean_squared_error \n",
    "from sklearn.metrics import r2_score\n",
    "from sklearn.metrics import explained_variance_score\n",
    "from sklearn.metrics import max_error\n",
    "\n",
    "# Validierung\n",
    "from sklearn.model_selection import train_test_split\n",
    "from sklearn.model_selection import KFold\n",
    "\n",
    "# Modelle\n",
    "from sklearn.preprocessing import PolynomialFeatures\n",
    "from sklearn import linear_model\n",
    "from sklearn.ensemble import GradientBoostingRegressor\n",
    "from sklearn.ensemble import RandomForestRegressor\n",
    "from sklearn.linear_model import SGDRegressor\n",
    "\n",
    "# Warnungen \n",
    "import warnings"
   ]
  },
  {
   "cell_type": "markdown",
   "metadata": {},
   "source": [
    "# Anomalien entfernen und Daten bereinigen"
   ]
  },
  {
   "cell_type": "code",
   "execution_count": null,
   "metadata": {},
   "outputs": [],
   "source": [
    "housing_data = pd.read_csv('DatenAusgegeben1.2_UTF8_manuell.csv', sep=\";\", keep_default_na=False)\n",
    "\n",
    "warnings.filterwarnings('ignore')\n",
    "\n",
    "# Bereinigung und Feature Engeneering\n",
    "\n",
    "# für €/qm² für besseren Vergleich der Daten\n",
    "housing_data[\"Preisproqm\"] = housing_data[\"Preis\"]/housing_data[\"Wohnflaeche in qm\"]\n",
    "\n",
    "# Monate seit 2136\n",
    "housing_data[\"Monate\"] = (housing_data[\"Verkaufsjahr\"]-2136)*12 + housing_data[\"Verkaufsmonat\"] -1\n",
    "\n",
    "# Werte der Heizungsqualitaet in Zahlen umwandeln\n",
    "housing_data[\"Heizungsqualitaet\"] = [1 if x==\"Schl\" else 2 if x==\"Ud\" else 3 if x==\"Ty\" else 4 if x==\"Gut\" else 5 for x in housing_data[\"Heizungsqualitaet\"]]\n",
    "\n",
    "# Zustand, 1-10 wird auf 1-5 gemapt, das ist zwar ein bisschen ungenauer, aber einfacher zu vergleichen\n",
    "housing_data[\"Zustandf\"] = [int(x/2) + x%2 for x in housing_data[\"Zustand\"]]\n",
    "\n",
    "# Alle Zustände werden von 1...X auf 0....X-1 geschoben\n",
    "housing_data[\"HeizungsqualitaetN\"] = [ x-1 for x in housing_data[\"Heizungsqualitaet\"]]\n",
    "housing_data[\"ZustandN\"] = [ x-1 for x in housing_data[\"Zustandf\"]]\n",
    "housing_data[\"FassadeN\"] = [ x-1 for x in housing_data[\"Zustand Fassade\"]]\n",
    "housing_data[\"KuecheN\"] = [ x-1 for x in housing_data[\"Kuechenqualitaet\"]]\n",
    "\n",
    "# Klimaanlage Ja/Nein  -> 1/0\n",
    "housing_data[\"Klimaanlage\"] = [1 if x == \"Y\" else 0 for x in housing_data[\"Klimaanlage\"]]\n",
    "\n",
    "# Besonders Große Daten beim Preis + Wohnfläche in qm rausschmeißen\n",
    "max_value = housing_data[\"Preis\"].unique()[-1:][0]\n",
    "housing_data[housing_data[\"Preis\"] != max_value]\n",
    "\n",
    "max_value = housing_data[\"Wohnflaeche in qm\"].unique()[-1:][0]\n",
    "housing_data[housing_data[\"Wohnflaeche in qm\"] != max_value]\n",
    "\n",
    "max_value = housing_data[\"Grundstueck in qm\"].unique()[-2:][0]\n",
    "housing_data[housing_data[\"Grundstueck in qm\"] != max_value]\n",
    "\n",
    "\n",
    "# NA in Garage Typ wird zu \"Keine Garage\"\n",
    "housing_data[\"Garage Typ\"] = ['keine Garage' if x=='NA' else x for x in housing_data[\"Garage Typ\"]]\n",
    "\n",
    "\n",
    "print(housing_data.keys())"
   ]
  },
  {
   "cell_type": "markdown",
   "metadata": {},
   "source": [
    "# Merkmale auswählen"
   ]
  },
  {
   "cell_type": "code",
   "execution_count": null,
   "metadata": {},
   "outputs": [],
   "source": [
    "# X und Y aus dem Datenset auslesen\n",
    "\n",
    "# Zu testende Merkmale festlegen (X)\n",
    "features = [ \"Grundstueck in qm\", \"Wohnflaeche in qm\",\"ZustandN\",\"KuecheN\",\"Klimaanlage\", \"Gebaut\", \"Garagenkapazitaet\", \"HeizungsqualitaetN\", \"Raeume\"]\n",
    "# Preis (Y)\n",
    "predict= \"Preis\"\n",
    "\n",
    "X = {}\n",
    "for feature in features:\n",
    "    X[feature] = housing_data[feature]\n",
    "X = pd.DataFrame(X)\n",
    "\n",
    "Y = pd.DataFrame(housing_data[predict])"
   ]
  },
  {
   "cell_type": "markdown",
   "metadata": {},
   "source": [
    "# Regression"
   ]
  },
  {
   "cell_type": "code",
   "execution_count": 60,
   "metadata": {},
   "outputs": [
    {
     "name": "stdout",
     "output_type": "stream",
     "text": [
      "ols [0.7023433984868458, 0.7890815361835889, 0.6346944671021184, 0.8586175111699761, 0.8250828307250175, -0.05513995994113707, 0.8177827818426276, 0.7185706441346567, 0.8354692527455121, 0.8708897120329896]\n",
      "lasso [0.7905026182972852, 0.8250547870219787, 0.8435731737087101, 0.884991440676559, 0.7609833688476949, 0.19702187411791905, 0.8679661238508002, 0.863175162582813, 0.8486524783938703, 0.8935295951943122]\n",
      "ridge [0.7349299526076516, 0.8285996735719006, 0.7288779924221738, 0.8781614056506997, 0.8339905252569451, 0.0914244235005488, 0.8042786467677094, 0.776334324534735, 0.8462425306447097, 0.8824355578476469]\n",
      "gbt [0.8017878089657935, 0.8065168735326751, 0.8275872485591934, 0.8883274187862815, 0.8207879831386062, 0.8528100331666165, 0.8498605903469045, 0.87082840616505, 0.838803883925194, 0.8323997833009771]\n",
      "rf [0.7892981567103974, 0.7903851738829442, 0.8136671732103192, 0.8706970082772354, 0.7745546970751456, 0.8035283891660261, 0.7817118892750224, 0.8452397034550054, 0.8499109650921775, 0.7685025853245223]\n",
      "sgd [-0.008240347181018848, -0.03231082466461066, -0.014487935863306989, -3.6145994894987155e-06, -0.17116547875027743, -0.008738151321219245, -0.02439018298885043, -0.01585022704880945, -0.040257017884419044, -0.11482396288326768]\n",
      "Ordinary Squared Loss:[]\n"
     ]
    },
    {
     "ename": "ValueError",
     "evalue": "array([], dtype=float64) is not in list",
     "output_type": "error",
     "traceback": [
      "\u001b[0;31m---------------------------------------------------------------------------\u001b[0m",
      "\u001b[0;31mValueError\u001b[0m                                Traceback (most recent call last)",
      "\u001b[0;32m<ipython-input-60-596179967580>\u001b[0m in \u001b[0;36m<module>\u001b[0;34m\u001b[0m\n\u001b[1;32m     88\u001b[0m \u001b[0;34m\u001b[0m\u001b[0m\n\u001b[1;32m     89\u001b[0m \u001b[0mprint\u001b[0m\u001b[0;34m(\u001b[0m\u001b[0;34m\"Ordinary Squared Loss:\"\u001b[0m \u001b[0;34m+\u001b[0m \u001b[0mstr\u001b[0m\u001b[0;34m(\u001b[0m\u001b[0mnp\u001b[0m\u001b[0;34m.\u001b[0m\u001b[0msort\u001b[0m\u001b[0;34m(\u001b[0m\u001b[0mscoresr\u001b[0m\u001b[0;34m)\u001b[0m\u001b[0;34m[\u001b[0m\u001b[0;34m-\u001b[0m\u001b[0;36m1\u001b[0m\u001b[0;34m:\u001b[0m\u001b[0;34m]\u001b[0m\u001b[0;34m)\u001b[0m\u001b[0;34m)\u001b[0m\u001b[0;34m\u001b[0m\u001b[0;34m\u001b[0m\u001b[0m\n\u001b[0;32m---> 90\u001b[0;31m \u001b[0mbest\u001b[0m \u001b[0;34m=\u001b[0m \u001b[0mscoresr\u001b[0m\u001b[0;34m.\u001b[0m\u001b[0mindex\u001b[0m\u001b[0;34m(\u001b[0m\u001b[0mnp\u001b[0m\u001b[0;34m.\u001b[0m\u001b[0msort\u001b[0m\u001b[0;34m(\u001b[0m\u001b[0mscoresr\u001b[0m\u001b[0;34m)\u001b[0m\u001b[0;34m[\u001b[0m\u001b[0;34m-\u001b[0m\u001b[0;36m1\u001b[0m\u001b[0;34m:\u001b[0m\u001b[0;34m]\u001b[0m\u001b[0;34m)\u001b[0m\u001b[0;34m\u001b[0m\u001b[0;34m\u001b[0m\u001b[0m\n\u001b[0m\u001b[1;32m     91\u001b[0m \u001b[0mbest_reg\u001b[0m \u001b[0;34m=\u001b[0m \u001b[0mreg\u001b[0m\u001b[0;34m[\u001b[0m\u001b[0mk\u001b[0m\u001b[0;34m]\u001b[0m\u001b[0;34m\u001b[0m\u001b[0;34m\u001b[0m\u001b[0m\n\u001b[1;32m     92\u001b[0m \u001b[0;34m\u001b[0m\u001b[0m\n",
      "\u001b[0;31mValueError\u001b[0m: array([], dtype=float64) is not in list"
     ]
    }
   ],
   "source": [
    "# K-fache Cross-Validierung\n",
    "split = 10\n",
    "Kfold = KFold(n_splits=split, random_state=42)\n",
    "kfold = Kfold.split(X, Y)\n",
    "scoresr = []\n",
    "scoresl = []\n",
    "scoresri = []\n",
    "scoresgbt = []\n",
    "scoresrf = []\n",
    "scoressgd = []\n",
    "reg = [None]*split\n",
    "lasso = [None]*split\n",
    "ridge = [None]*split\n",
    "gbt = [None]*split\n",
    "rf = [None]*split\n",
    "sgd = [None]*split\n",
    "data = {}\n",
    "model = {\"data\":[], \"scores\":{}, \"models\" : {}, \"types\":[\"ols\", \"lasso\", \"ridge\", \"gbt\", \"rf\", \"sgd\"]}\n",
    "for mtype in model[\"types\"]:\n",
    "    model[\"scores\"][mtype] = []\n",
    "    model[\"models\"][mtype] = []\n",
    "   \n",
    "\n",
    "for k, (train, test) in enumerate(kfold):\n",
    "    model[\"models\"][\"ols\"].append(linear_model.LinearRegression())\n",
    "    model[\"models\"][\"lasso\"].append(linear_model.Lasso())\n",
    "    model[\"models\"][\"ridge\"].append(linear_model.Ridge())\n",
    "    model[\"models\"][\"gbt\"].append(GradientBoostingRegressor(\n",
    "        max_depth=4, n_estimators=100, learning_rate=0.15, loss=\"ls\"))\n",
    "    model[\"models\"][\"rf\"].append(RandomForestRegressor(max_depth=10, n_estimators=10, criterion=\"mse\"))\n",
    "    model[\"models\"][\"sgd\"].append(SGDRegressor(eta0=0.5))\n",
    "    \n",
    "    # Polynomielle Regression\n",
    "    poly = PolynomialFeatures(degree=3)\n",
    "    x_poly = poly.fit_transform(X.iloc[train, :])\n",
    "    poly.fit(X.iloc[train, :], Y.iloc[train])\n",
    "    x_poly_test = poly.fit_transform(X.iloc[test, :])\n",
    "    \n",
    "    model[\"data\"].append({\"xpoly\": x_poly, \"x_train\": X.iloc[train, :], \"y_train\": Y.iloc[train], \n",
    "                          \"x_poly_test\": x_poly_test, \"x_test\": X.iloc[test, :], \"y_test\": Y.iloc[test]})\n",
    "    \n",
    "    for mtype in model[\"types\"]:\n",
    "        curr_model = model[\"models\"][mtype][k]\n",
    "        curr_model.fit(x_poly, Y.iloc[train])\n",
    "        score = r2_score(curr_model.predict(x_poly_test), Y.iloc[test])\n",
    "        model[\"scores\"][mtype].append(score)\n",
    "\n",
    "for mtype in model[\"types\"]:\n",
    "    print(mtype, model[\"scores\"][mtype])\n",
    "\n",
    "while 0 != 0:\n",
    "   # Ordinary Least Squared\n",
    "    reg[k] = linear_model.LinearRegression()\n",
    "    reg[k].fit(x_poly, Y.iloc[train])\n",
    "    scorer = r2_score(reg[k].predict(x_poly_test), Y.iloc[test])\n",
    "    scoresr.append(scorer)\n",
    "    \n",
    "    # Lasso Regression\n",
    "    lasso[k] = linear_model.Lasso()\n",
    "    lasso[k].fit(x_poly, Y.iloc[train])\n",
    "    scorel = r2_score(lasso[k].predict(x_poly_test), Y.iloc[test])\n",
    "    scoresl.append(scorel)\n",
    "    \n",
    "    # Ridge Regression\n",
    "    ridge[k] = linear_model.Ridge()\n",
    "    ridge[k].fit(x_poly, Y.iloc[train])\n",
    "    scoreri = r2_score(ridge[k].predict(x_poly_test), Y.iloc[test])\n",
    "    scoresri.append(scoreri)\n",
    "\n",
    "    # Gradient Boosting Tree\n",
    "    gbt[k] = GradientBoostingRegressor(max_depth=4, n_estimators=100, learning_rate=0.15, loss=\"ls\")\n",
    "    gbt[k].fit(x_poly, Y.iloc[train]) \n",
    "    scoregbt = r2_score(gbt[k].predict(x_poly_test), Y.iloc[test])\n",
    "    scoresgbt.append(scoregbt)\n",
    "\n",
    "    # Random Forest \n",
    "    rf[k] = RandomForestRegressor(max_depth=10, n_estimators=10, criterion=\"mse\")\n",
    "    rf[k].fit(x_poly, Y.iloc[train])\n",
    "    scorerf = r2_score(rf[k].predict(x_poly_test), Y.iloc[test])\n",
    "    scoresrf.append(scorerf)\n",
    "\n",
    "    # Stochastic Gradiend Descend\n",
    "    sgd[k] = SGDRegressor(eta0=0.5)\n",
    "    sgd[k].fit(x_poly, Y.iloc[train])\n",
    "    scoresgd = r2_score(sgd[k].predict(x_poly_test), Y.iloc[test])\n",
    "    scoressgd.append(scoresgd)\n",
    "    \n",
    "    \n",
    "print(\"Ordinary Squared Loss:\" + str(np.sort(scoresr)[-1:]))\n",
    "best = scoresr.index(np.sort(scoresr)[-1:])\n",
    "best_reg = reg[k]\n",
    "\n",
    "print(\"Lasso:\" + str(np.sort(scoresl)[-1:]))\n",
    "best = scoresl.index(np.sort(scoresl)[-1:])\n",
    "best_lasso = lasso[k]\n",
    "\n",
    "print(\"Ridge:\" + str(np.sort(scoresri)[-1:]))\n",
    "best = scoresri.index(np.sort(scoresri)[-1:])\n",
    "best_ridge = ridge[k]\n",
    "\n",
    "print(\"Gradient Boosting Tree:\" + str(np.sort(scoresgbt)[-1:]))\n",
    "best = scoresgbt.index(np.sort(scoresgbt)[-1:])\n",
    "best_gbt = gbt[k]\n",
    "\n",
    "print(\"Random Forest :\" + str(np.sort(scoresrf)[-1:]))\n",
    "best = scoresrf.index(np.sort(scoresrf)[-1:])\n",
    "best_rf = rf[k]\n",
    "\n",
    "print(\"Stochastic Gradiend Descend:\" + str(np.sort(scoressgd)[-1:]))\n",
    "best = scoressgd.index(np.sort(scoressgd)[-1:])\n",
    "best_sgd = sgd[k]\n"
   ]
  },
  {
   "cell_type": "markdown",
   "metadata": {},
   "source": [
    "# Modelle Bewerten\n"
   ]
  },
  {
   "cell_type": "code",
   "execution_count": null,
   "metadata": {},
   "outputs": [],
   "source": [
    "\n",
    "index = scoresl.index(np.sort(scoresl)[-1:])\n",
    "use_data = data[index]\n",
    "\n",
    "predit = best_lasso.predict(use_data[\"x_poly_test\"])\n",
    "scorel = r2_score(lasso[k].predict(x_poly_test), Y.iloc[test])\n",
    "# Gleicher \n",
    "\n",
    "\n"
   ]
  },
  {
   "cell_type": "markdown",
   "metadata": {},
   "source": [
    "# Vergleich von Model und Testdaten"
   ]
  },
  {
   "cell_type": "code",
   "execution_count": 31,
   "metadata": {},
   "outputs": [
    {
     "data": {
      "text/plain": [
       "0.8935295951943122"
      ]
     },
     "execution_count": 31,
     "metadata": {},
     "output_type": "execute_result"
    }
   ],
   "source": []
  },
  {
   "cell_type": "code",
   "execution_count": 23,
   "metadata": {},
   "outputs": [
    {
     "ename": "NameError",
     "evalue": "name 'X_test' is not defined",
     "output_type": "error",
     "traceback": [
      "\u001b[0;31m---------------------------------------------------------------------------\u001b[0m",
      "\u001b[0;31mNameError\u001b[0m                                 Traceback (most recent call last)",
      "\u001b[0;32m<ipython-input-23-8780e5eafacd>\u001b[0m in \u001b[0;36m<module>\u001b[0;34m\u001b[0m\n\u001b[1;32m      1\u001b[0m \u001b[0;32mfor\u001b[0m \u001b[0mfeature\u001b[0m \u001b[0;32min\u001b[0m \u001b[0mfeatures\u001b[0m\u001b[0;34m:\u001b[0m\u001b[0;34m\u001b[0m\u001b[0;34m\u001b[0m\u001b[0m\n\u001b[0;32m----> 2\u001b[0;31m     \u001b[0mplt\u001b[0m\u001b[0;34m.\u001b[0m\u001b[0mscatter\u001b[0m\u001b[0;34m(\u001b[0m\u001b[0mpoly\u001b[0m\u001b[0;34m.\u001b[0m\u001b[0mfit_transform\u001b[0m\u001b[0;34m(\u001b[0m\u001b[0mX_test\u001b[0m\u001b[0;34m[\u001b[0m\u001b[0mfeature\u001b[0m\u001b[0;34m]\u001b[0m\u001b[0;34m)\u001b[0m\u001b[0;34m,\u001b[0m \u001b[0my_test\u001b[0m\u001b[0;34m,\u001b[0m \u001b[0mc\u001b[0m\u001b[0;34m=\u001b[0m\u001b[0;34m\"blue\"\u001b[0m\u001b[0;34m)\u001b[0m\u001b[0;34m\u001b[0m\u001b[0;34m\u001b[0m\u001b[0m\n\u001b[0m\u001b[1;32m      3\u001b[0m     \u001b[0mplt\u001b[0m\u001b[0;34m.\u001b[0m\u001b[0mscatter\u001b[0m\u001b[0;34m(\u001b[0m\u001b[0mX_test\u001b[0m\u001b[0;34m[\u001b[0m\u001b[0mfeature\u001b[0m\u001b[0;34m]\u001b[0m\u001b[0;34m,\u001b[0m \u001b[0mbest_model\u001b[0m\u001b[0;34m.\u001b[0m\u001b[0mpredict\u001b[0m\u001b[0;34m(\u001b[0m\u001b[0mX_test\u001b[0m\u001b[0;34m[\u001b[0m\u001b[0mfeature\u001b[0m\u001b[0;34m]\u001b[0m\u001b[0;34m)\u001b[0m\u001b[0;34m,\u001b[0m \u001b[0mc\u001b[0m\u001b[0;34m=\u001b[0m\u001b[0;34m\"red\"\u001b[0m\u001b[0;34m)\u001b[0m\u001b[0;34m\u001b[0m\u001b[0;34m\u001b[0m\u001b[0m\n\u001b[1;32m      4\u001b[0m     \u001b[0mplt\u001b[0m\u001b[0;34m.\u001b[0m\u001b[0msuptitle\u001b[0m\u001b[0;34m(\u001b[0m\u001b[0mfeature\u001b[0m\u001b[0;34m)\u001b[0m\u001b[0;34m\u001b[0m\u001b[0;34m\u001b[0m\u001b[0m\n\u001b[1;32m      5\u001b[0m     \u001b[0mplt\u001b[0m\u001b[0;34m.\u001b[0m\u001b[0mshow\u001b[0m\u001b[0;34m(\u001b[0m\u001b[0;34m)\u001b[0m\u001b[0;34m\u001b[0m\u001b[0;34m\u001b[0m\u001b[0m\n",
      "\u001b[0;31mNameError\u001b[0m: name 'X_test' is not defined"
     ]
    }
   ],
   "source": [
    "for feature in features:\n",
    "    plt.scatter(poly.fit_transform(X_test[feature]), y_test, c=\"blue\")\n",
    "    plt.scatter(X_test[feature], best_model.predict(X_test[feature]), c=\"red\")\n",
    "    plt.suptitle(feature)\n",
    "    plt.show()\n",
    "\n",
    "plt.hist(best_model.predict(X_test[feature]) / y_test)"
   ]
  },
  {
   "cell_type": "markdown",
   "metadata": {},
   "source": [
    "# Vorhersage "
   ]
  },
  {
   "cell_type": "code",
   "execution_count": null,
   "metadata": {},
   "outputs": [],
   "source": [
    "# \"Grundstueck in qm\", \"Wohnflaeche in qm\",\"ZustandN\",\"KuecheN\",\"Klimaanlage\", \"Gebaut\", \n",
    "# \"Garagenkapazitaet\", \"HeizungsqualitaetN\", \"Raeume\"]\n",
    "\n",
    "# Beste Regression anhand r2 wählen\n",
    "#TO-DO get best model by r2 value\n",
    "best_model = \n",
    "\n",
    "y = best_model.predict(poly.fit_transform([[2000, 160, 4, 4, 1, 2130, 2, 4, 4]]))\n",
    "\n",
    "print(round(y[0], 2), \"GC Dollar\")"
   ]
  },
  {
   "cell_type": "markdown",
   "metadata": {},
   "source": [
    "# Veraltete Regression"
   ]
  },
  {
   "cell_type": "code",
   "execution_count": null,
   "metadata": {},
   "outputs": [],
   "source": [
    "# Daten vorbereiten\n",
    "\n",
    "# Wichtigste Merkmale \n",
    "# Klimaanlage, Heizungsqualität, Küchenqualität, Zustand, Fassadenqualität \n",
    "\n",
    "# In Trainings- und Testdaten unterteilen\n",
    "X_train, X_test, y_train, y_test = train_test_split(X,Y,test_size=0.2)\n",
    "\n",
    "poly = PolynomialFeatures(degree=3)\n",
    "x_poly = poly.fit_transform(X_train)\n",
    "poly.fit(X_train, y_train)\n",
    "\n",
    "\n",
    "print(X_train.shape, y_train.shape, X_test.shape, y_test.shape)\n",
    "# Regression\n",
    "\n",
    "reg = linear_model.LinearRegression()\n",
    "ridge = linear_model.Ridge(alpha=0.05)\n",
    "lasso = linear_model.Lasso(alpha=0.05)\n",
    "\n",
    "reg.fit(x_poly, y_train)\n",
    "ridge.fit(x_poly, y_train)\n",
    "lasso.fit(x_poly, y_train)\n",
    "\n",
    "#V alidierung\n",
    "y_pred_reg = reg.predict(poly.fit_transform(X_test))\n",
    "y_pred_ridge = ridge.predict(poly.fit_transform(X_test))\n",
    "y_pred_lasso = lasso.predict(poly.fit_transform(X_test))\n",
    "\n",
    "\n",
    "print(r2_score(y_test, y_pred_reg), mean_squared_error(y_test, y_pred_reg), max_error(y_test, y_pred_reg))\n",
    "print(r2_score(y_test, y_pred_ridge), mean_squared_error(y_test, y_pred_ridge), max_error(y_test, y_pred_ridge))\n",
    "print(r2_score(y_test, y_pred_lasso), mean_squared_error(y_test, y_pred_lasso), max_error(y_test, y_pred_lasso))"
   ]
  },
  {
   "cell_type": "code",
   "execution_count": null,
   "metadata": {},
   "outputs": [],
   "source": [
    "plt.hist(y_pred_reg / y_test)"
   ]
  },
  {
   "cell_type": "code",
   "execution_count": null,
   "metadata": {},
   "outputs": [],
   "source": [
    "for feature in features:\n",
    "    plt.scatter(X_test[feature], y_test, c=\"blue\")\n",
    "    #plt.scatter(X_test[feature], y_pred_reg, c=\"red\")\n",
    "    #plt.scatter(X_test[feature], y_pred_ridge, c=\"orange\")\n",
    "    plt.scatter(X_test[feature], y_pred_lasso, c=\"yellow\")\n",
    "    plt.suptitle(feature)\n",
    "    plt.show()\n"
   ]
  },
  {
   "cell_type": "code",
   "execution_count": null,
   "metadata": {},
   "outputs": [],
   "source": [
    "#\"Grundstueck in qm\", \"Wohnflaeche in qm\",\"ZustandN\",\"KuecheN\",\"Klimaanlage\", \"Gebaut\", #\"Garagenkapazitaet\", \"HeizungsqualitaetN\", \"Raeume\"]\n",
    "\n",
    "\n",
    "y = reg.predict(poly.fit_transform([[3000, 180, 4, 4, 1, 2130, 2, 2, 20]]))\n",
    "y"
   ]
  },
  {
   "cell_type": "code",
   "execution_count": null,
   "metadata": {},
   "outputs": [],
   "source": []
  }
 ],
 "metadata": {
  "kernelspec": {
   "display_name": "Python 3",
   "language": "python",
   "name": "python3"
  },
  "language_info": {
   "codemirror_mode": {
    "name": "ipython",
    "version": 3
   },
   "file_extension": ".py",
   "mimetype": "text/x-python",
   "name": "python",
   "nbconvert_exporter": "python",
   "pygments_lexer": "ipython3",
   "version": "3.8.6"
  }
 },
 "nbformat": 4,
 "nbformat_minor": 4
}
