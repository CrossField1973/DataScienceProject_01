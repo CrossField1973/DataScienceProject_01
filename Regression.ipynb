{
 "cells": [
  {
   "source": [
    "# Bibliotheken importieren"
   ],
   "cell_type": "markdown",
   "metadata": {}
  },
  {
   "cell_type": "code",
   "execution_count": null,
   "metadata": {},
   "outputs": [],
   "source": [
    "# Data Science + Mathe Bibliotheken\n",
    "import numpy as np\n",
    "import matplotlib.pyplot as plt\n",
    "import pandas as pd\n",
    "import seaborn as sb\n",
    "\n",
    "# Metriken\n",
    "from sklearn.metrics import mean_squared_error \n",
    "from sklearn.metrics import r2_score\n",
    "from sklearn.metrics import explained_variance_score\n",
    "from sklearn.metrics import max_error\n",
    "\n",
    "# Validierung\n",
    "from sklearn.model_selection import train_test_split\n",
    "from sklearn.model_selection import KFold\n",
    "\n",
    "# Modelle\n",
    "from sklearn.preprocessing import PolynomialFeatures\n",
    "from sklearn import linear_model\n",
    "from sklearn.ensemble import GradientBoostingRegressor\n",
    "from sklearn.ensemble import RandomForestRegressor\n",
    "from sklearn.linear_model import SGDRegressor\n",
    "\n",
    "# Warnungen \n",
    "import warnings"
   ]
  },
  {
   "source": [
    "# Anomalien entfernen und Daten bereinigen"
   ],
   "cell_type": "markdown",
   "metadata": {}
  },
  {
   "cell_type": "code",
   "execution_count": null,
   "metadata": {},
   "outputs": [],
   "source": [
    "housing_data = pd.read_csv('DatenAusgegeben1.2_UTF8_manuell.csv', sep=\";\", keep_default_na=False)\n",
    "\n",
    "warnings.filterwarnings('ignore')\n",
    "\n",
    "# Bereinigung und Feature Engeneering\n",
    "\n",
    "# für €/qm² für besseren Vergleich der Daten\n",
    "housing_data[\"Preisproqm\"] = housing_data[\"Preis\"]/housing_data[\"Wohnflaeche in qm\"]\n",
    "\n",
    "# Monate seit 2136\n",
    "housing_data[\"Monate\"] = (housing_data[\"Verkaufsjahr\"]-2136)*12 + housing_data[\"Verkaufsmonat\"] -1\n",
    "\n",
    "# Werte der Heizungsqualitaet in Zahlen umwandeln\n",
    "housing_data[\"Heizungsqualitaet\"] = [1 if x==\"Schl\" else 2 if x==\"Ud\" else 3 if x==\"Ty\" else 4 if x==\"Gut\" else 5 for x in housing_data[\"Heizungsqualitaet\"]]\n",
    "\n",
    "# Zustand, 1-10 wird auf 1-5 gemapt, das ist zwar ein bisschen ungenauer, aber einfacher zu vergleichen\n",
    "housing_data[\"Zustandf\"] = [int(x/2) + x%2 for x in housing_data[\"Zustand\"]]\n",
    "\n",
    "# Alle Zustände werden von 1...X auf 0....X-1 geschoben\n",
    "housing_data[\"HeizungsqualitaetN\"] = [ x-1 for x in housing_data[\"Heizungsqualitaet\"]]\n",
    "housing_data[\"ZustandN\"] = [ x-1 for x in housing_data[\"Zustandf\"]]\n",
    "housing_data[\"FassadeN\"] = [ x-1 for x in housing_data[\"Zustand Fassade\"]]\n",
    "housing_data[\"KuecheN\"] = [ x-1 for x in housing_data[\"Kuechenqualitaet\"]]\n",
    "\n",
    "# Klimaanlage Ja/Nein  -> 1/0\n",
    "housing_data[\"Klimaanlage\"] = [1 if x == \"Y\" else 0 for x in housing_data[\"Klimaanlage\"]]\n",
    "\n",
    "# Besonders Große Daten beim Preis + Wohnfläche in qm rausschmeißen\n",
    "max_value = housing_data[\"Preis\"].unique()[-1:][0]\n",
    "housing_data[housing_data[\"Preis\"] != max_value]\n",
    "\n",
    "max_value = housing_data[\"Wohnflaeche in qm\"].unique()[-1:][0]\n",
    "housing_data[housing_data[\"Wohnflaeche in qm\"] != max_value]\n",
    "\n",
    "max_value = housing_data[\"Grundstueck in qm\"].unique()[-2:][0]\n",
    "housing_data[housing_data[\"Grundstueck in qm\"] != max_value]\n",
    "\n",
    "\n",
    "# NA in Garage Typ wird zu \"Keine Garage\"\n",
    "housing_data[\"Garage Typ\"] = ['keine Garage' if x=='NA' else x for x in housing_data[\"Garage Typ\"]]\n",
    "\n",
    "\n",
    "print(housing_data.keys())"
   ]
  },
  {
   "source": [
    "# Merkmale auswählen"
   ],
   "cell_type": "markdown",
   "metadata": {}
  },
  {
   "cell_type": "code",
   "execution_count": null,
   "metadata": {},
   "outputs": [],
   "source": [
    "# X und Y aus dem Datenset auslesen\n",
    "\n",
    "# Zu testende Merkmale festlegen (X)\n",
    "features = [ \"Grundstueck in qm\", \"Wohnflaeche in qm\",\"ZustandN\",\"KuecheN\",\"Klimaanlage\", \"Gebaut\", \"Garagenkapazitaet\", \"HeizungsqualitaetN\", \"Raeume\"]\n",
    "# Preis (Y)\n",
    "predict= \"Preis\"\n",
    "\n",
    "X = {}\n",
    "for feature in features:\n",
    "    X[feature] = housing_data[feature]\n",
    "X = pd.DataFrame(X)\n",
    "\n",
    "Y = pd.DataFrame(housing_data[predict])"
   ]
  },
  {
   "source": [
    "# Regression"
   ],
   "cell_type": "markdown",
   "metadata": {}
  },
  {
   "cell_type": "code",
   "execution_count": null,
   "metadata": {},
   "outputs": [],
   "source": [
    "# K-fache Cross-Validierung\n",
    "split = 10\n",
    "Kfold = KFold(n_splits=split)\n",
    "kfold = Kfold.split(X, Y)\n",
    "scoresr = []\n",
    "scoresl = []\n",
    "scoresri = []\n",
    "scoresgbt = []\n",
    "scoresrf = []\n",
    "scoressgd = []\n",
    "reg = [None]*split\n",
    "lasso = [None]*split\n",
    "ridge = [None]*split\n",
    "gbt = [None]*split\n",
    "rf = [None]*split\n",
    "sgd = [None]*split\n",
    "\n",
    "for k, (train, test) in enumerate(kfold):\n",
    "    # Polynomielle Regression\n",
    "    poly = PolynomialFeatures(degree=3)\n",
    "    x_poly = poly.fit_transform(X.iloc[train, :])\n",
    "    poly.fit(X.iloc[train, :], Y.iloc[train])\n",
    "    x_poly_test = poly.fit_transform(X.iloc[test, :])\n",
    "    \n",
    "    # Ordinary Least Squared\n",
    "    reg[k] = linear_model.LinearRegression()\n",
    "    reg[k].fit(x_poly, Y.iloc[train])\n",
    "    scorer = r2_score(reg[k].predict(x_poly_test), Y.iloc[test])\n",
    "    scoresr.append(scorer)\n",
    "    \n",
    "    # Lasso Regression\n",
    "    lasso[k] = linear_model.Lasso()\n",
    "    lasso[k].fit(x_poly, Y.iloc[train])\n",
    "    scorel = r2_score(lasso[k].predict(x_poly_test), Y.iloc[test])\n",
    "    scoresl.append(scorel)\n",
    "    \n",
    "    # Ridge Regression\n",
    "    ridge[k] = linear_model.Ridge()\n",
    "    ridge[k].fit(x_poly, Y.iloc[train])\n",
    "    scoreri = r2_score(ridge[k].predict(x_poly_test), Y.iloc[test])\n",
    "    scoresri.append(scoreri)\n",
    "\n",
    "    # Gradient Boosting Tree\n",
    "    gbt[k] = GradientBoostingRegressor(max_depth=4, n_estimators=100, learning_rate=0.15, loss=\"ls\")\n",
    "    gbt[k].fit(x_poly, Y.iloc[train]) \n",
    "    scoregbt = r2_score(gbt[k].predict(x_poly_test), Y.iloc[test])\n",
    "    scoresgbt.append(scoregbt)\n",
    "\n",
    "    # Random Forest \n",
    "    rf[k] = RandomForestRegressor(max_depth=10, n_estimators=10, criterion=\"mse\")\n",
    "    rf[k].fit(x_poly, Y.iloc[train])\n",
    "    scorerf = r2_score(rf[k].predict(x_poly_test), Y.iloc[test])\n",
    "    scoresrf.append(scorerf)\n",
    "\n",
    "    # Stochastic Gradiend Descend\n",
    "    sgd[k] = SGDRegressor(eta0=0.5)\n",
    "    sgd[k].fit(x_poly, Y.iloc[train])\n",
    "    scoresgd = r2_score(sgd[k].predict(x_poly_test), Y.iloc[test])\n",
    "    scoressgd.append(scoresgd)\n",
    "\n",
    "    \n",
    "print(\"Ordinary Squared Loss:\" + str(np.sort(scoresr)[-1:]))\n",
    "best = scoresr.index(np.sort(scoresr)[-1:])\n",
    "best_reg = reg[k]\n",
    "\n",
    "print(\"Lasso:\" + str(np.sort(scoresl)[-1:]))\n",
    "best = scoresl.index(np.sort(scoresl)[-1:])\n",
    "best_lasso = lasso[k]\n",
    "\n",
    "print(\"Ridge:\" + str(np.sort(scoresri)[-1:]))\n",
    "best = scoresri.index(np.sort(scoresri)[-1:])\n",
    "best_ridge = ridge[k]\n",
    "\n",
    "print(\"Gradient Boosting Tree:\" + str(np.sort(scoresgbt)[-1:]))\n",
    "best = scoresgbt.index(np.sort(scoresgbt)[-1:])\n",
    "best_gbt = gbt[k]\n",
    "\n",
    "print(\"Random Forest :\" + str(np.sort(scoresrf)[-1:]))\n",
    "best = scoresrf.index(np.sort(scoresrf)[-1:])\n",
    "best_rf = rf[k]\n",
    "\n",
    "print(\"Stochastic Gradiend Descend:\" + str(np.sort(scoressgd)[-1:]))\n",
    "best = scoressgd.index(np.sort(scoressgd)[-1:])\n",
    "best_sgd = sgd[k]"
   ]
  },
  {
   "source": [
    "# Vergleich von Model und Testdaten"
   ],
   "cell_type": "markdown",
   "metadata": {}
  },
  {
   "cell_type": "code",
   "execution_count": null,
   "metadata": {},
   "outputs": [],
   "source": [
    "for feature in features:\n",
    "    plt.scatter(X_test[feature], y_test, c=\"blue\")\n",
    "    plt.scatter(X_test[feature], best_model.predict(X_test[feature]), c=\"red\")\n",
    "    plt.suptitle(feature)\n",
    "    plt.show()\n",
    "\n",
    "plt.hist(best_model.predict(X_test[feature]) / y_test)"
   ]
  },
  {
   "source": [
    "# Vorhersage "
   ],
   "cell_type": "markdown",
   "metadata": {}
  },
  {
   "cell_type": "code",
   "execution_count": null,
   "metadata": {},
   "outputs": [],
   "source": [
    "# \"Grundstueck in qm\", \"Wohnflaeche in qm\",\"ZustandN\",\"KuecheN\",\"Klimaanlage\", \"Gebaut\", \n",
    "# \"Garagenkapazitaet\", \"HeizungsqualitaetN\", \"Raeume\"]\n",
    "\n",
    "# Beste Regression anhand r2 wählen\n",
    "#TO-DO get best model by r2 value\n",
    "best_model = \n",
    "\n",
    "y = best_model.predict(poly.fit_transform([[2000, 160, 4, 4, 1, 2130, 2, 4, 4]]))\n",
    "\n",
    "print(round(y[0], 2), \"GC Dollar\")"
   ]
  },
  {
   "source": [
    "# Veraltete Regression"
   ],
   "cell_type": "markdown",
   "metadata": {}
  },
  {
   "cell_type": "code",
   "execution_count": null,
   "metadata": {},
   "outputs": [],
   "source": [
    "# Daten vorbereiten\n",
    "\n",
    "# Wichtigste Merkmale \n",
    "# Klimaanlage, Heizungsqualität, Küchenqualität, Zustand, Fassadenqualität \n",
    "\n",
    "# In Trainings- und Testdaten unterteilen\n",
    "X_train, X_test, y_train, y_test = train_test_split(X,Y,test_size=0.2)\n",
    "\n",
    "poly = PolynomialFeatures(degree=3)\n",
    "x_poly = poly.fit_transform(X_train)\n",
    "poly.fit(X_train, y_train)\n",
    "\n",
    "\n",
    "print(X_train.shape, y_train.shape, X_test.shape, y_test.shape)\n",
    "# Regression\n",
    "\n",
    "reg = linear_model.LinearRegression()\n",
    "ridge = linear_model.Ridge(alpha=0.05)\n",
    "lasso = linear_model.Lasso(alpha=0.05)\n",
    "\n",
    "reg.fit(x_poly, y_train)\n",
    "ridge.fit(x_poly, y_train)\n",
    "lasso.fit(x_poly, y_train)\n",
    "\n",
    "#V alidierung\n",
    "y_pred_reg = reg.predict(poly.fit_transform(X_test))\n",
    "y_pred_ridge = ridge.predict(poly.fit_transform(X_test))\n",
    "y_pred_lasso = lasso.predict(poly.fit_transform(X_test))\n",
    "\n",
    "\n",
    "print(r2_score(y_test, y_pred_reg), mean_squared_error(y_test, y_pred_reg), max_error(y_test, y_pred_reg))\n",
    "print(r2_score(y_test, y_pred_ridge), mean_squared_error(y_test, y_pred_ridge), max_error(y_test, y_pred_ridge))\n",
    "print(r2_score(y_test, y_pred_lasso), mean_squared_error(y_test, y_pred_lasso), max_error(y_test, y_pred_lasso))"
   ]
  }
 ],
 "metadata": {
  "kernelspec": {
   "display_name": "Python 3",
   "language": "python",
   "name": "python3"
  },
  "language_info": {
   "codemirror_mode": {
    "name": "ipython",
    "version": 3
   },
   "file_extension": ".py",
   "mimetype": "text/x-python",
   "name": "python",
   "nbconvert_exporter": "python",
   "pygments_lexer": "ipython3",
   "version": "3.8.5-final"
  }
 },
 "nbformat": 4,
 "nbformat_minor": 4
}