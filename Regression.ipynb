{
 "cells": [
  {
   "cell_type": "markdown",
   "metadata": {},
   "source": [
    "# Inhaltsverzeichnis\n",
    "1. Bibliotheken importieren\n",
    "1. Anomalien entfernen und Feature Engeneering\n",
    "1. Merkmale auswählen\n",
    "1. Regression\n",
    "1. Modelle Bewerten\n",
    "1. Vorhersage\n",
    "1. Unabhängige Validierung\n",
    "1. Evaluation GBT\n",
    "1. Anleitung"
   ]
  },
  {
   "cell_type": "markdown",
   "metadata": {},
   "source": [
    "*Um das Model zu testen, ändern Sie den Dateinamen im Code-Teil unter \"Unabhängige Validierung\".*"
   ]
  },
  {
   "cell_type": "markdown",
   "metadata": {},
   "source": [
    "# 1. Bibliotheken importieren"
   ]
  },
  {
   "cell_type": "code",
   "execution_count": null,
   "metadata": {
    "scrolled": false
   },
   "outputs": [],
   "source": [
    "# Data Science + Mathe Bibliotheken\n",
    "import numpy as np\n",
    "import matplotlib.pyplot as plt\n",
    "import pandas as pd\n",
    "import seaborn as sb\n",
    "\n",
    "# Metriken\n",
    "from sklearn.metrics import roc_curve, auc\n",
    "from sklearn.metrics import mean_squared_error \n",
    "from sklearn.metrics import r2_score\n",
    "from sklearn.metrics import explained_variance_score\n",
    "from sklearn.metrics import max_error\n",
    "\n",
    "# Validierung\n",
    "from sklearn.model_selection import train_test_split\n",
    "from sklearn.model_selection import KFold\n",
    "\n",
    "# Modelle\n",
    "from sklearn import preprocessing \n",
    "from sklearn.preprocessing import PolynomialFeatures\n",
    "from sklearn import linear_model\n",
    "from sklearn.ensemble import GradientBoostingRegressor\n",
    "from sklearn.ensemble import RandomForestRegressor\n",
    "from sklearn.linear_model import SGDRegressor\n",
    "\n",
    "# Warnungen \n",
    "import warnings\n",
    "\n",
    "#define Mape\n",
    "# https://www.statology.org/mape-python/\n",
    "def mean_absolute_percentage_error(actual, pred): \n",
    "    actual, pred = np.array(actual), np.array(pred)\n",
    "    return np.mean(np.abs((actual - pred) / actual)) * 100"
   ]
  },
  {
   "cell_type": "markdown",
   "metadata": {},
   "source": [
    "# 2. Anomalien entfernen und Feature Engeneering"
   ]
  },
  {
   "cell_type": "code",
   "execution_count": null,
   "metadata": {
    "scrolled": false
   },
   "outputs": [],
   "source": [
    "housing_data = pd.read_csv('DatenAusgegeben1.2_UTF8_manuell.csv', sep=\";\", keep_default_na=False)\n",
    "\n",
    "warnings.filterwarnings('ignore')\n",
    "\n",
    "# Bereinigung und Feature Engeneering\n",
    "\n",
    "# für €/qm² für besseren Vergleich der Daten\n",
    "housing_data[\"Preisproqm\"] = housing_data[\"Preis\"]/housing_data[\"Wohnflaeche in qm\"]\n",
    "\n",
    "# Monate seit 2136\n",
    "housing_data[\"Monate\"] = (housing_data[\"Verkaufsjahr\"]-2136)*12 + housing_data[\"Verkaufsmonat\"] -1\n",
    "\n",
    "# Werte der Heizungsqualitaet in Zahlen umwandeln\n",
    "housing_data[\"Heizungsqualitaet\"] = [1 if x==\"Schl\" else 2 if x==\"Ud\" else 3 if x==\"Ty\" else 4 if x==\"Gut\" else 5 for x in housing_data[\"Heizungsqualitaet\"]]\n",
    "\n",
    "# Zustand, 1-10 wird auf 1-5 gemapt, das ist zwar ein bisschen ungenauer, aber einfacher zu vergleichen\n",
    "housing_data[\"Zustandf\"] = [int(x/2) + x%2 for x in housing_data[\"Zustand\"]]\n",
    "\n",
    "# Alle Zustände werden von 1...X auf 0....X-1 geschoben\n",
    "housing_data[\"HeizungsqualitaetN\"] = [ x-1 for x in housing_data[\"Heizungsqualitaet\"]]\n",
    "housing_data[\"ZustandN\"] = [ x-1 for x in housing_data[\"Zustandf\"]]\n",
    "housing_data[\"FassadeN\"] = [ x-1 for x in housing_data[\"Zustand Fassade\"]]\n",
    "housing_data[\"KuecheN\"] = [ x-1 for x in housing_data[\"Kuechenqualitaet\"]]\n",
    "\n",
    "# Klimaanlage Ja/Nein  -> 1/0\n",
    "housing_data[\"Klimaanlage\"] = [1 if x == \"Y\" else 0 for x in housing_data[\"Klimaanlage\"]]\n",
    "\n",
    "# Besonders Große Daten beim Preis + Wohnfläche in qm rausschmeißen\n",
    "#max_value = housing_data[\"Preis\"].unique()[-1:][0]\n",
    "#housing_data[housing_data[\"Preis\"] != max_value]\n",
    "\n",
    "#max_value = housing_data[\"Wohnflaeche in qm\"].unique()[-1:][0]\n",
    "#housing_data[housing_data[\"Wohnflaeche in qm\"] != max_value]\n",
    "\n",
    "#max_value = housing_data[\"Grundstueck in qm\"].unique()[-2:][0]\n",
    "#housing_data[housing_data[\"Grundstueck in qm\"] != max_value]\n",
    "\n",
    "\n",
    "# NA in Garage Typ wird zu \"Keine Garage\"\n",
    "housing_data[\"Garage Typ\"] = ['keine Garage' if x=='NA' else x for x in housing_data[\"Garage Typ\"]]\n",
    "\n",
    "\n",
    "print(housing_data.keys())"
   ]
  },
  {
   "cell_type": "markdown",
   "metadata": {},
   "source": [
    "# 3. Merkmale auswählen"
   ]
  },
  {
   "cell_type": "code",
   "execution_count": null,
   "metadata": {
    "scrolled": false
   },
   "outputs": [],
   "source": [
    "# X und Y aus dem Datenset auslesen\n",
    "\n",
    "# Zu testende Merkmale festlegen (X)\n",
    "features = [ \"Grundstueck in qm\", \"Wohnflaeche in qm\",\"ZustandN\",\"KuecheN\", \"HeizungsqualitaetN\", \"FassadeN\",\n",
    "            \"Klimaanlage\", \"Gebaut\", \"Garagenkapazitaet\", \"Raeume\"]\n",
    "# Preis (Y)\n",
    "predict= \"Preis\"\n",
    "\n",
    "X = {}\n",
    "for feature in features:\n",
    "    X[feature] = housing_data[feature]\n",
    "X = pd.DataFrame(X)\n",
    "\n",
    "Y = pd.DataFrame(housing_data[predict])"
   ]
  },
  {
   "cell_type": "markdown",
   "metadata": {},
   "source": [
    "# 4. Regression"
   ]
  },
  {
   "cell_type": "code",
   "execution_count": null,
   "metadata": {
    "scrolled": false
   },
   "outputs": [],
   "source": [
    "# K-fache Cross-Validierung, Polynomial Features\n",
    "\n",
    "split = 10\n",
    "Kfold = KFold(n_splits=split, random_state=42)\n",
    "kfold = Kfold.split(X, Y)\n",
    "\n",
    "model = {\"data\":[], \"scores\":{}, \"models\" : {}, \"best\" : {}, \"types\":[ \"osl\", \"lasso\", \"ridge\", \"gbt\", \"rf\", \"sgd\"]}\n",
    "for mtype in model[\"types\"]:\n",
    "    model[\"scores\"][mtype] = []\n",
    "    model[\"models\"][mtype] = []\n",
    "\n",
    "\n",
    "for k, (train, test) in enumerate(kfold):\n",
    "    # Parameter durch probieren herausgefunden\n",
    "    # Brute Force hätte zu lange gedauert / zu viel Leistung gezogen \n",
    "    model[\"models\"][\"osl\"].append(linear_model.LinearRegression())\n",
    "    model[\"models\"][\"lasso\"].append(linear_model.Lasso(alpha=1.5, random_state=404))\n",
    "    model[\"models\"][\"ridge\"].append(linear_model.Ridge(alpha=1.5))\n",
    "    model[\"models\"][\"gbt\"].append(GradientBoostingRegressor(\n",
    "        max_depth=4, n_estimators=100, learning_rate=0.15, loss=\"ls\"))\n",
    "    model[\"models\"][\"rf\"].append(RandomForestRegressor(max_depth=10, n_estimators=10, criterion=\"mse\"))\n",
    "    model[\"models\"][\"sgd\"].append(SGDRegressor())\n",
    "    # Polynomielle Regression\n",
    "    poly = PolynomialFeatures(degree=4)\n",
    "    \n",
    "    x_train = X.iloc[train, :]\n",
    "    x_test = X.iloc[test, :]\n",
    "    x_poly = poly.fit_transform(x_train)\n",
    "    x_poly_test = poly.fit_transform(x_test)\n",
    "    y_train = Y.iloc[train]\n",
    "    y_test = Y.iloc[test]\n",
    "    \n",
    "    #model[\"models\"][\"poly\"].append(poly)\n",
    "    model[\"data\"].append({\"xpoly\": x_poly, \"x_train\": x_train, \"y_train\": y_train, \n",
    "                          \"x_poly_test\": x_poly_test, \"x_test\": x_test, \"y_test\": y_test})\n",
    "    for mtype in model[\"types\"]:\n",
    "        curr_model = model[\"models\"][mtype][k]\n",
    "        curr_model.fit(x_poly, y_train)\n",
    "        score = r2_score(curr_model.predict(x_poly_test), y_test)\n",
    "        model[\"scores\"][mtype].append(score)\n",
    "\n",
    "print(\"Done\")"
   ]
  },
  {
   "cell_type": "code",
   "execution_count": null,
   "metadata": {
    "scrolled": true
   },
   "outputs": [],
   "source": [
    "# K-fache Cross-Validierung, Keine Polynomial Features\n",
    "split = 10\n",
    "Kfold = KFold(n_splits=split, random_state=42)\n",
    "kfold = Kfold.split(X, Y)\n",
    "\n",
    "model2 = {\"data\":[], \"scores\":{}, \"models\" : {}, \"best\" : {}, \"types\":[ \"osl\", \"lasso\", \"ridge\", \"gbt\", \"rf\", \"sgd\"]}\n",
    "for mtype in model2[\"types\"]:\n",
    "    model2[\"scores\"][mtype] = []\n",
    "    model2[\"models\"][mtype] = []\n",
    "\n",
    "\n",
    "for k, (train, test) in enumerate(kfold):\n",
    "    model2[\"models\"][\"osl\"].append(linear_model.LinearRegression())\n",
    "    model2[\"models\"][\"lasso\"].append(linear_model.Lasso(alpha=1.5, random_state=404, normalize=True))\n",
    "    model2[\"models\"][\"ridge\"].append(linear_model.Ridge(alpha=1.5))\n",
    "    model2[\"models\"][\"gbt\"].append(GradientBoostingRegressor(\n",
    "        max_depth=4, n_estimators=100, learning_rate=0.15, loss=\"ls\"))\n",
    "    model2[\"models\"][\"rf\"].append(RandomForestRegressor(max_depth=10, n_estimators=10, criterion=\"mse\"))\n",
    "    model2[\"models\"][\"sgd\"].append(SGDRegressor())\n",
    "    \n",
    "    x_train = X.iloc[train, :]\n",
    "    x_test = X.iloc[test, :]\n",
    "    y_train = Y.iloc[train]\n",
    "    y_test = Y.iloc[test]\n",
    "    \n",
    "    #model[\"models\"][\"poly\"].append(poly)\n",
    "    model2[\"data\"].append({\"x_train\": x_train, \"y_train\": y_train, \"x_test\": x_test, \"y_test\": y_test})\n",
    "    for mtype in model2[\"types\"]:\n",
    "        curr_model = model2[\"models\"][mtype][k]\n",
    "        curr_model.fit(x_train, y_train)\n",
    "        score = r2_score(curr_model.predict(x_test), y_test)\n",
    "        model2[\"scores\"][mtype].append(score)\n",
    "\n",
    "print(\"Done\")"
   ]
  },
  {
   "cell_type": "markdown",
   "metadata": {},
   "source": [
    "# 5. Modelle Bewerten"
   ]
  },
  {
   "cell_type": "code",
   "execution_count": null,
   "metadata": {
    "scrolled": true
   },
   "outputs": [],
   "source": [
    "# Beste Modelle finden, r2_score ausgeben\n",
    "for mmodel in [model,model2]:\n",
    "    # Nachdem sgd zu schlecht ist, wird es zur Evaluation entfernt!\n",
    "    if \"sgd\" in mmodel[\"types\"]:\n",
    "        mmodel[\"types\"].remove(\"sgd\")\n",
    "\n",
    "    for mtype in mmodel[\"types\"]:\n",
    "        best = mmodel[\"scores\"][mtype].index(np.sort(mmodel[\"scores\"][mtype])[-1:][0])\n",
    "        mmodel[\"best\"][mtype] = best    \n",
    "        mean_score = np.mean(mmodel[\"scores\"][mtype])\n",
    "        std_score = np.std(mmodel[\"scores\"][mtype])\n",
    "        max_score = mmodel[\"scores\"][mtype][mmodel[\"best\"][mtype]]\n",
    "        print(\"r2_score von %s:\\t%.4f +- %.3f (%.4f max)\" % (mtype, mean_score, std_score, max_score))\n",
    "        \n",
    "\n",
    "    fig, big_axes = plt.subplots( figsize=(15, 10) , nrows=2, ncols=1)\n",
    "\n",
    "    big_axes[0].set_title(\"Verhältnis der vorhergesagten und wirklichen Preise\",fontsize=16, pad=25)\n",
    "    big_axes[0].tick_params(labelcolor=(1.,1.,1., 0.0), top='off', bottom='off', left='off', right='off')\n",
    "    big_axes[0]._frameon = False\n",
    "\n",
    "    big_axes[1].set_title(\"Preisentwickung bei verschiedenen Hauszuständen\",fontsize=16,pad=25)\n",
    "    big_axes[1].tick_params(labelcolor=(1.,1.,1., 0.0), top='off', bottom='off', left='off', right='off')\n",
    "    big_axes[1]._frameon = False\n",
    "\n",
    "\n",
    "\n",
    "    for i in range(len(mmodel[\"types\"])):\n",
    "        mtype = mmodel[\"types\"][i]\n",
    "        best_model = mmodel[\"models\"][mtype][mmodel[\"best\"][mtype]]\n",
    "        x_test = mmodel[\"data\"][mmodel[\"best\"][mtype]][\"x_test\"]\n",
    "        y_test = mmodel[\"data\"][mmodel[\"best\"][mtype]][\"y_test\"]\n",
    "        \n",
    "        if [model,model2].index(mmodel) == 0:\n",
    "            print(\"MSRE: %.2f\" % mean_squared_error(best_model.predict(poly.fit_transform(x_test)), y_test, squared=False))\n",
    "            pred_y = np.reshape(best_model.predict(poly.fit_transform(x_test)), (-1,1))\n",
    "        else:\n",
    "            print(\"MSRE: %.2f\" % mean_squared_error(best_model.predict(x_test), y_test, squared=False))\n",
    "            pred_y = np.reshape(best_model.predict(x_test), (-1,1))\n",
    "        # Abweichung in Prozent angeben\n",
    "        ax = fig.add_subplot(2,len(model[\"types\"]), i+1)\n",
    "        plt.sca(ax)\n",
    "        plt.hist(pred_y / y_test)\n",
    "        plt.xlim(0.25,1.75)\n",
    "        plt.ylim(0,75)\n",
    "        plt.title(model[\"types\"][i])\n",
    "        plt.xlabel(\"Verhältnis der Werte\")\n",
    "        plt.ylabel(\"Anzahl\")\n",
    "\n",
    "        # BeispielvorhersageFound input variables with inconsistent numbers o\n",
    "        x = np.arange(100,200,1)\n",
    "        y = []\n",
    "        for c in range(5):\n",
    "            y.append([])\n",
    "            for v in x:\n",
    "                #[ \"Grundstueck in qm\", \"Wohnflaeche in qm\",\"ZustandN\",\"KuecheN\", \"HeizungsqualitaetN\", \"FassadeN\",\n",
    "                # \"Klimaanlage\", \"Gebaut\", \"Garagenkapazitaet\", \"Raeume\"]\n",
    "                if [model,model2].index(mmodel) == 0:\n",
    "                    y[c].append(best_model.predict(poly.fit_transform([[800 + 3*v, v, c , c, c, c, int(c/3), 2130, 2, 4]]))[0])\n",
    "                else:\n",
    "                    y[c].append(best_model.predict([[800 + 3*v, v, c , c, c, c, int(c/3), 2130, 2, 4]])[0])\n",
    "        ax = fig.add_subplot(2,len(mmodel[\"types\"]), i+1+len(mmodel[\"types\"]))\n",
    "        plt.sca(ax)\n",
    "        plt.xlim(100,200)\n",
    "        plt.plot(x, y[0], c=\"yellow\", label=\"1\")     \n",
    "        plt.plot(x, y[1], c=\"orange\", label=\"2\")\n",
    "        plt.plot(x, y[2], c=\"red\", label=\"3\")\n",
    "        plt.plot(x, y[3], c=\"purple\" ,label=\"4\")\n",
    "        plt.plot(x, y[4], c=\"blue\" ,label=\"5\")\n",
    "        plt.legend(loc=\"upper left\", ncol=2)\n",
    "        plt.title(mmodel[\"types\"][i])\n",
    "        plt.xlabel(\"Wohnflaeche in Qm\")\n",
    "        plt.ylabel(\"Preis\")\n",
    "\n",
    "    plt.tight_layout()\n",
    "    plt.show()"
   ]
  },
  {
   "cell_type": "code",
   "execution_count": null,
   "metadata": {
    "scrolled": true
   },
   "outputs": [],
   "source": [
    "# # R2, MSE, RMSE, MAPE, MAX\n",
    "# test_model = model[\"models\"][\"gbt\"][model[\"best\"][\"gbt\"]]\n",
    "# x_test = model[\"data\"][model[\"best\"][\"dasd\"]][\"x_poly_test\"]\n",
    "# y_test = model[\"data\"][model[\"best\"][\"gbt\"]][\"y_test\"]\n",
    "\n",
    "# r2_test = r2_score(test_model.predict(x_test), y_test)\n",
    "# mse_test = mean_squared_error(test_model.predict(x_test), y_test)\n",
    "# rmse_test = mean_squared_error(test_model.predict(x_test), y_test, squared=False)\n",
    "# mape_test = mean_absolute_percentage_error(test_model.predict(x_test), y_test)\n",
    "# max_test = max_error(test_model.predict(x_test), y_test)\n",
    "\n",
    "# print(\"R2 Wert:\", r2_test)\n",
    "# print(\"Mean Squared Error Wert:\", mse_test)\n",
    "# print(\"Negativer Mean Square Error Wert:\", rmse_test)\n",
    "# print(\"Mean Absolute Percentage Error Wert:\", mape_test)\n",
    "# print(\"Max Error Wert:\", max_test)\n",
    "# TODO für alle?"
   ]
  },
  {
   "cell_type": "markdown",
   "metadata": {},
   "source": [
    "Wie in den Graphen zu sehen ist, ist das Verhältnis der vorhergesagten und wahren Preisen in einer Gaussverteilung, was zu erwarten war. Nachdem der Stochastic Gradiend Descend zu schlechte Werte vorhergesagt hat, wurde in der Analyse nicht weiter betrachtet. Desweiteren kommt die Ordinary Squared Loss und die ridge-Regression nicht mit einer Input-Transformation auf ein Polynom 4. Grades zurecht, deren Werte sind bei linearen Eingaben deutlich besser.    \n",
    "In der zweiten Graphenreihe wurde ein fiktives Haus erstellt, dessen Zustand und Wohnfläche Variabel ist. In den Graphiken ist gut zusehen, dass es einen großen preislichen Unterschied zwischen den einzelnen Zuständen gibt, sehr gute Häuser sind deutlich teurer. In der Ordinarily Squared Loss- und Ridge-Regression werden Häuser mit sehr niedriger Qualität bei größer werdender Wohnfläche billiger, was entweder auf ein schlechtes Modell oder schlechte Testdaten hindeutet. Die Relation von Grundstücksfläche = 800 + 3 * Wohnfläche kann auch Einfluss auf die Qualität der Vorhersage nehmen. "
   ]
  },
  {
   "cell_type": "markdown",
   "metadata": {},
   "source": [
    "# 6. Vorhersage "
   ]
  },
  {
   "cell_type": "code",
   "execution_count": null,
   "metadata": {
    "scrolled": false
   },
   "outputs": [],
   "source": [
    "# \"Grundstueck in qm\", \"Wohnflaeche in qm\",\"ZustandN\",\"KuecheN\",\"Klimaanlage\", \"Gebaut\", \n",
    "# \"Garagenkapazitaet\", \"HeizungsqualitaetN\", \"Raeume\"]\n",
    "\n",
    "# Beste Regression wählen, für uns ist das das der Beste gradiend boosting Tree\n",
    "best_model = model[\"models\"][\"gbt\"][model[\"best\"][\"gbt\"]]\n",
    "\n",
    "y = best_model.predict(poly.fit_transform([[2000, 160, 4, 4, 1,4, 2130, 2, 4, 4]]))\n",
    "\n",
    "print(round(y[0], 2), \"GC Dollar\")"
   ]
  },
  {
   "cell_type": "markdown",
   "metadata": {},
   "source": [
    "# 7. Unabhängige Validierung"
   ]
  },
  {
   "cell_type": "code",
   "execution_count": null,
   "metadata": {
    "scrolled": false
   },
   "outputs": [],
   "source": [
    "# housing_data2 = pd.read_csv('DatenAusgegeben1.2_UTF8_manuell.csv', sep=\";\", keep_default_na=False)\n",
    "\n",
    "\n",
    "# housing_data2[\"Preisproqm\"] = housing_data2[\"Preis\"]/housing_data2[\"Wohnflaeche in qm\"]\n",
    "\n",
    "# # Monate seit 2136\n",
    "# housing_data2[\"Monate\"] = (housing_data2[\"Verkaufsjahr\"]-2136)*12 + housing_data2[\"Verkaufsmonat\"] -1\n",
    "\n",
    "# # Werte der Heizungsqualitaet in Zahlen umwandeln\n",
    "# housing_data2[\"Heizungsqualitaet\"] = [1 if x==\"Schl\" else 2 if x==\"Ud\" else 3 if x==\"Ty\" else 4 if x==\"Gut\" else 5 for x in housing_data2[\"Heizungsqualitaet\"]]\n",
    "\n",
    "# # Zustand, 1-10 wird auf 1-5 gemapt, das ist zwar ein bisschen ungenauer, aber einfacher zu vergleichen\n",
    "# housing_data2[\"Zustandf\"] = [int(x/2) + x%2 for x in housing_data2[\"Zustand\"]]\n",
    "\n",
    "# # Alle Zustände werden von 1...X auf 0....X-1 geschoben\n",
    "# housing_data2[\"HeizungsqualitaetN\"] = [ x-1 for x in housing_data2[\"Heizungsqualitaet\"]]\n",
    "# housing_data2[\"ZustandN\"] = [ x-1 for x in housing_data2[\"Zustandf\"]]\n",
    "# housing_data2[\"FassadeN\"] = [ x-1 for x in housing_data2[\"Zustand Fassade\"]]\n",
    "# housing_data2[\"KuecheN\"] = [ x-1 for x in housing_data2[\"Kuechenqualitaet\"]]\n",
    "\n",
    "# # Klimaanlage Ja/Nein  -> 1/0\n",
    "# housing_data2[\"Klimaanlage\"] = [1 if x == \"Y\" else 0 for x in housing_data2[\"Klimaanlage\"]]\n",
    "\n",
    "# # Besonders Große Daten beim Preis + Wohnfläche in qm rausschmeißen\n",
    "# max_value = housing_data2[\"Preis\"].unique()[-1:][0]\n",
    "# housing_data2[housing_data2[\"Preis\"] != max_value]\n",
    "\n",
    "# max_value = housing_data2[\"Wohnflaeche in qm\"].unique()[-1:][0]\n",
    "# housing_data2[housing_data2[\"Wohnflaeche in qm\"] != max_value]\n",
    "\n",
    "# max_value = housing_data2[\"Grundstueck in qm\"].unique()[-2:][0]\n",
    "# housing_data2[housing_data2[\"Grundstueck in qm\"] != max_value]\n",
    "\n",
    "# # NA in Garage Typ wird zu \"Keine Garage\"\n",
    "# housing_data2[\"Garage Typ\"] = ['keine Garage' if x=='NA' else x for x in housing_data2[\"Garage Typ\"]]\n",
    "\n",
    "\n",
    "# X2 = {}\n",
    "# for feature in features:\n",
    "#     X2[feature] = housing_data2[feature]\n",
    "# X2 = pd.DataFrame(X)\n",
    "\n",
    "# Y2 = pd.DataFrame(housing_data2[predict])\n",
    "\n",
    "# x2_poly = poly.fit_transform(X2.iloc[train, :])\n",
    "# poly.fit(X2.iloc[train, :], Y2.iloc[train])\n",
    "# x2_poly_test = poly.fit_transform(X2.iloc[test, :])\n",
    "\n",
    "# R2, MSE, RMSE, MAPE, MAX\n",
    "# test_model = model[\"models\"][\"rf\"][model[\"best\"][\"rf\"]]\n",
    "# x_test = model[\"data\"][model[\"best\"][\"rf\"]][\"x_poly_test\"]\n",
    "# y_test = model[\"data\"][model[\"best\"][\"rf\"]][\"y_test\"]\n",
    "\n",
    "# r2_test = round(r2_score(test_model.predict(x_test), y_test), 2)\n",
    "# mse_test = round(mean_squared_error(test_model.predict(x_test), y_test), 2)\n",
    "# rmse_test = round(mean_squared_error(test_model.predict(x_test), y_test, squared=False), 2)\n",
    "# mape_test = round(mean_absolute_percentage_error(test_model.predict(x_test), y_test), 2)\n",
    "# max_test = round(max_error(test_model.predict(x_test), y_test), 2)\n",
    "\n",
    "# print(\"R2 Wert:\", r2_test)\n",
    "# print(\"Mean Squared Error Wert:\", mse_test)\n",
    "# print(\"Root Mean Square Error Wert:\", rmse_test)\n",
    "# print(\"Mean Absolute Percentage Error Wert:\", mape_test)\n",
    "# print(\"Maximum Error Wert:\", max_test)"
   ]
  },
  {
   "cell_type": "markdown",
   "metadata": {},
   "source": [
    "# 8. Evaluation GBT"
   ]
  },
  {
   "cell_type": "markdown",
   "metadata": {},
   "source": [
    "In diesem Projekt wurde Regression mit den Verfahren \n",
    "* Ordinary Squared Loss \n",
    "* Lasso \n",
    "* Ridge \n",
    "* Gradient Boosting Trees \n",
    "* Random Forest<br> \n",
    "    durchgeführt.\n",
    "<br>\n",
    "\n",
    "Die Modelle wurden mit 1600 Wohnungsdatensätzen trainiert. Als Eingabe wurden die Merkmale:\n",
    "* Grundstück in qm \n",
    "* Wohnfläche in qm\n",
    "* Zustand         (Nullbasiert)\n",
    "* Zustand Kueche  (Nullbasiert)\n",
    "* Zustand Heizung (Nullbasiert)\n",
    "* Zustand Fassade (Nullbasiert)\n",
    "* Klimaanlage\n",
    "* Baujahr\n",
    "* Garagenkapazität\n",
    "* Anzahl Räume\n",
    "<br>\n",
    "    verwendet.\n",
    "<br>\n",
    "Mit diesen Merkmalen wird von den verwendeten Modellen der Preis in GC Dollar vorhergesagt.<br>\n",
    "<br>\n",
    "Bei dieser Regression ist das beste Model Gradient Boosting Trees.<br>\n",
    "Mit einem maximalen R2-Wert von 0,884 hat diesen Model nach Random Forest (0,894) und Lasso (0,889) den dritthöchsten Wert erreicht in den zehn Trainingsdurchläufen (K-fach Kreuz-Validierung).<br>\n",
    "Jedoch hatte Gradient Boosting Trees die geringste Differenz in R2-Wert (+- 0,031) in allen Durchgängen und <br>\n",
    "damit auch den besten durchschnittlichen R2-Wert (0,837).<br>\n",
    "Mit einem Root Mean Square Error von 20.190,43, liegt das Modell mit seinen Prognosen im Mittel ca. 20.000 GC Dollar daneben. <br>\n",
    "Bei einem Maximum Error von 65422,66, liegt die größte Abweichung im Test bei ca. 65.000 GC Dollar. <br>\n",
    "Bei beiden dieser Metriken ist Gradient Boosting Trees der klare Sieger. <br>\n",
    "Was jedoch zu beachten ist, das Model hat mit 38,59 einen hohen Mean Absolute Percentage Error.\n",
    "\n",
    "\n",
    "Summary (3 - 5 Sätze)"
   ]
  },
  {
   "cell_type": "markdown",
   "metadata": {},
   "source": [
    "# 9. Anleitung"
   ]
  },
  {
   "cell_type": "code",
   "execution_count": null,
   "metadata": {
    "scrolled": false
   },
   "outputs": [],
   "source": [
    "def mpredict(data, renovation=None):\n",
    "    mtyp = \"gbt\"\n",
    "    \n",
    "    dinput = [\"Grundstück\", \"Wohnraum\", \"Zustand\", \"Küche\", \"Klimaanlage\", \"Fassade\", \"Gebaut\", \"Garagenkapazitaet\", \"Heizungsqualitaet\", \"Räume\"]\n",
    "    \n",
    "    curr_model = model[\"models\"][mtyp][model[\"best\"][mtyp]]\n",
    "    # Eingaben überprüfen\n",
    "    if len(data) != len(dinput):\n",
    "        print(\"Eingaben überprüfen: %d Elemente erwartet, aber nur %d Elemente vorhanden!\" % \n",
    "              (len(dinput), len(data)))\n",
    "        return\n",
    "    \n",
    "    \n",
    "    pred_y = curr_model.predict(poly.fit_transform([data]))[0]\n",
    "    print(\"Vorhergesagter Preis: %i€\" % int(pred_y))\n",
    "    \n",
    "    \n",
    "    if renovation != None:\n",
    "        new_data = data.copy()\n",
    "        # neue Daten laden\n",
    "        for ren_data in renovation.keys():\n",
    "            if ren_data not in dinput:\n",
    "                print(\"Unerkannte Eingabe, Renovation überprüfen\")\n",
    "                return;\n",
    "            index = dinput.index(ren_data)\n",
    "            new_data[index] = renovation[ren_data]\n",
    "        \n",
    "        # Evaluieren\n",
    "        pred_y_new = curr_model.predict(poly.fit_transform([new_data]))[0]\n",
    "        print(\"Vorhergesagter Wert nach Renovation: %d€, Differenz: %d€\" % (pred_y_new, pred_y_new - pred_y))"
   ]
  },
  {
   "cell_type": "markdown",
   "metadata": {},
   "source": [
    "Anhand der vorhandenen Daten wurde ein Modell entwickelt, mit dem der preisliche Mehraufwand von Renovationen mit den größeren Verkaufskosten verglichen werden kann. Für diese Aufgaben wurden Modelle wurde auf über 2000 Datensätzen trainiert und getestet, und die Besten zu einer manuellen Untersuchung herausgesucht. Das beste Modell war ein Gradiend Boosting Tree mit einem r2-Score von 0.88 #TODO, ist das noch richtig?\n",
    "Das Modell bietet herausragende Vorhersagemöglichkeiten für Häuser im Preisbereich von 100.000€ bis 400.000€, sollten Werte getestet werden, die außerhalb liegen, werden zwar immernoch gute Preisvorschläge generiert, ihre Richtigkeit kann aber nicht mehr garantiert werden.\n",
    "\n",
    "Um eine Vorhersage generiert zu bekommen, werden folgende Daten benötigt:\n",
    "- Grundstücksfläche in Qm\n",
    "- Wohnfläche in Qm\n",
    "- Zustand des Hauses (Zahl von 1 - 5)\n",
    "- Zustand der Küche (Zahl von 1 - 5)\n",
    "- Vorhandensein einer Klimaanlage (0: Nein, 1: Ja)\n",
    "- Baujahr\n",
    "- Garagenkapazität\n",
    "- Zustand der Heizung (Zahl von 1 - 5)\n",
    "- Zustand der Fassade (Zahl von 1 - 5)\n",
    "- Anzahl der Räume\n",
    "\n",
    "ein Beispielaufruf kann so aussehen:    \n",
    "daten = [1200,80,4,0,0,4,1,2103,4,4]    \n",
    "renovation =  {\"Küche\": 4, \"Klimaanlage\": 1}  \n",
    "mpredict(daten, renovation) \n",
    "\n",
    "\n",
    "Mit diesem Tool können nun die Preise für Renovationen berechnet werden, indem dem Modell der gewünschte Zielzustand gegeben wird. Das Modell berechnet nun den neuen Verkaufspreis und gibt dazu die Differenz zum jetzigen Preis aus. Mit diesem Preis kann nun die Wirtschaftlichkeit der Renovation geprüft und ein Kaufentscheid gefällt werden."
   ]
  },
  {
   "cell_type": "code",
   "execution_count": null,
   "metadata": {
    "scrolled": false
   },
   "outputs": [],
   "source": [
    "#\"Grundstueck in qm\", \"Wohnflaeche in qm\",\"ZustandN\",\"KuecheN\",\"Klimaanlage\", \"Gebaut\", #\"Garagenkapazitaet\", \"HeizungsqualitaetN\", \"Raeume\"]\n",
    "# Istpreis s Preis nach Renovation\n",
    "daten = [1800,140,4,1,1,4,1,2203,2,4]\n",
    "renovation =  {\"Küche\": 4}\n",
    "mpredict(daten, renovation)"
   ]
  }
 ],
 "metadata": {
  "kernelspec": {
   "display_name": "Python 3",
   "language": "python",
   "name": "python3"
  },
  "language_info": {
   "codemirror_mode": {
    "name": "ipython",
    "version": 3
   },
   "file_extension": ".py",
   "mimetype": "text/x-python",
   "name": "python",
   "nbconvert_exporter": "python",
   "pygments_lexer": "ipython3",
   "version": "3.8.6"
  }
 },
 "nbformat": 4,
 "nbformat_minor": 4
}
