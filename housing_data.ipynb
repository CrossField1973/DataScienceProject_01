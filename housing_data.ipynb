{
 "cells": [
  {
   "cell_type": "markdown",
   "metadata": {},
   "source": [
    "Verwendete Version:<br>\n",
    "Jupyter 6.1.4<br>\n",
    "Python 3.8.6<br>\n",
    "Matplotlib 3.3.2<br>\n",
    "numpy 1.19.2<br>\n",
    "pandas 1.1.3<br>\n",
    "seaborn 0.11.0"
   ]
  },
  {
   "cell_type": "code",
   "execution_count": null,
   "metadata": {
    "scrolled": true
   },
   "outputs": [],
   "source": [
    "import numpy as np\n",
    "import matplotlib.pyplot as plt\n",
    "import pandas as pd\n",
    "import seaborn as sb\n",
    "import warnings"
   ]
  },
  {
   "cell_type": "markdown",
   "metadata": {},
   "source": [
    "# SETUP<br>\n",
    "Hier wird alles vorbereitet."
   ]
  },
  {
   "cell_type": "code",
   "execution_count": null,
   "metadata": {
    "scrolled": false
   },
   "outputs": [],
   "source": [
    "\n",
    "warnings.filterwarnings('ignore')\n",
    "\n",
    "housing_data = pd.read_csv('DatenAusgegeben1.2_UTF8_manuell.csv', sep=\";\", keep_default_na=False)\n",
    "print(housing_data.keys())\n",
    "\n",
    "\n",
    "# Bereinigung und Feature Engeneering\n",
    "\n",
    "# für €/qm² für besseren Vergleich der Daten\n",
    "housing_data[\"Preisproqm\"] = housing_data[\"Preis\"]/housing_data[\"Wohnflaeche in qm\"]\n",
    "\n",
    "# monate seit 2136\n",
    "housing_data[\"Monate\"] = (housing_data[\"Verkaufsjahr\"]-2136)*12 + housing_data[\"Verkaufsmonat\"] -1\n",
    "\n",
    "# Werte der Heizungsqualitaet in Zahlen umwandeln\n",
    "housing_data[\"Heizungsqualitaet\"] = [1 if x==\"Schl\" else 2 if x==\"Ud\" else 3 if x==\"Ty\" else 4 if x==\"Gut\" else 5 for x in housing_data[\"Heizungsqualitaet\"]]\n",
    "\n",
    "# Zustand, 1-10 wird auf 1-5 gemapt, das ist zwar ein bisschen ungenauer, aber einfacher zu vergleichen\n",
    "housing_data[\"Zustandf\"] = [int(x/2) + x%2 for x in housing_data[\"Zustand\"]]\n",
    "\n",
    "# Alle Zustände werden von 1...X auf 0....X-1 geschoben\n",
    "housing_data[\"HeizungsqualitaetN\"] = [ x-1 for x in housing_data[\"Heizungsqualitaet\"]]\n",
    "housing_data[\"ZustandN\"] = [ x-1 for x in housing_data[\"Zustandf\"]]\n",
    "housing_data[\"FassadeN\"] = [ x-1 for x in housing_data[\"Zustand Fassade\"]]\n",
    "housing_data[\"KuecheN\"] = [ x-1 for x in housing_data[\"Kuechenqualitaet\"]]\n",
    "\n",
    "# NA in Garage Typ wird zu \"Keine Garage\"\n",
    "housing_data[\"Garage Typ\"] = ['keine Garage' if x=='NA' else x for x in housing_data[\"Garage Typ\"]]\n"
   ]
  },
  {
   "cell_type": "markdown",
   "metadata": {},
   "source": [
    "# Data Exploration\n",
    "Im ersten Schritt des Projekts sollen die Daten untersucht und grundlegende Erkentnisse daraus gewonnen werden. Besonderer Fokus wird dabei auf die Qualitätskriterien und ihrem Einfluss auf den Verkaufspreis gelegt. Zuerst werden hierfür alle Daten insgesamt betrachtet und im Anschluss besondere Erkenntnisse herausgestellt. In der Analyse wird statt dem Verkaufspreis überwiegend der Preis pro Quadratmeter verwendet, da die Wohnfläche den größten Einfluss auf den Verkaufspreis hat und es so einfacher ist, die Daten zu vergleichen.\n",
    "In bei der Modellbildung wird der Preis pro Qm nicht mehr benutzt, weil hier die Dimension Wohnfläche einfach im Modell eingebunden werden kann.\n",
    "\n",
    "# Heizungstypen und ihre Qualität"
   ]
  },
  {
   "cell_type": "code",
   "execution_count": null,
   "metadata": {
    "scrolled": false
   },
   "outputs": [],
   "source": [
    "heater_types = housing_data[\"Heizung\"].unique()\n",
    "heater_quality = np.sort(housing_data[\"Heizungsqualitaet\"].unique())\n",
    "heater_data = [None]*(len(heater_types)+1)\n",
    "\n",
    "fig, axs = plt.subplots(2, 2, sharex=True, sharey=True, figsize=(10,7))\n",
    "fig.suptitle(\"Verhältnis verschiedener Heizungstypen, Zustände und dem Quadratmeterpreis\", fontsize=14)\n",
    "\n",
    "for i in range(len(heater_types)):\n",
    "    for l in range(len(heater_quality)):\n",
    "        heater_data[l] = housing_data[housing_data[\"Heizungsqualitaet\"] == heater_quality[l]][\"Preisproqm\"]\n",
    "    \n",
    "    axs[int(i/2),i%2].violinplot(heater_data)\n",
    "    axs[int(i/2),i%2].set_title(heater_types[i])\n",
    "    if i > 1:\n",
    "        axs[int(i/2),i%2].set_xlabel(\"Zustand\")\n",
    "    if i%2 == 0:\n",
    "        axs[int(i/2),i%2].set_ylabel(\"Preis pro Qm\")\n",
    "plt.show()   \n",
    "\n",
    "\n",
    "plt.figure(figsize=(10,7))\n",
    "for l in range(len(heater_quality)):\n",
    "    heater_data[l] = housing_data[housing_data[\"Heizungsqualitaet\"] == heater_quality[l]][\"Preisproqm\"]\n",
    "plt.violinplot(heater_data, heater_quality)\n",
    "plt.suptitle(\"Auswirkung der Heizungsqualität auf den Quadratmeterpreis\",fontsize=14)\n",
    "plt.xlabel(\"Zustand\")\n",
    "plt.ylabel(\"Preis pro Qm\")\n",
    "plt.show()"
   ]
  },
  {
   "cell_type": "markdown",
   "metadata": {},
   "source": [
    "Nur für die GasA Heizung existieren genügend Daten für eine sinnvolle Untersuchung. Auch hat die Qualität der Heizung nur bei GasA annähernd einen Einfluss, die Heizungsqualitaet insgesamt hat keinen großen Einfluss auf den €/m²."
   ]
  },
  {
   "cell_type": "markdown",
   "metadata": {},
   "source": [
    "# Erster Stock in Qm, Zweiter Stock in Qm und die Wohnfläche in Qm"
   ]
  },
  {
   "cell_type": "code",
   "execution_count": null,
   "metadata": {
    "scrolled": false
   },
   "outputs": [],
   "source": [
    "one_floor = housing_data[housing_data[\"Zweiter Stock in qm\"] == 0 ]\n",
    "two_floors = housing_data[housing_data[\"Zweiter Stock in qm\"] != 0 ]\n",
    "\n",
    "\n",
    "coef = np.polyfit(one_floor[\"Wohnflaeche in qm\"],one_floor[\"Preis\"],1)\n",
    "poly1d_fn = np.poly1d(coef) \n",
    "\n",
    "coef1 = np.polyfit(two_floors[\"Wohnflaeche in qm\"],two_floors[\"Preis\"],1)\n",
    "poly1d_fn1 = np.poly1d(coef1) \n",
    "x = np.linspace(0, 400, 10)\n",
    "\n",
    "plt.figure(figsize=(10,7))\n",
    "plt.scatter(one_floor[\"Wohnflaeche in qm\"],one_floor[\"Preis\"], label=\"einstöckiges Haus\")\n",
    "plt.scatter(two_floors[\"Wohnflaeche in qm\"],two_floors[\"Preis\"], label=\"mehrstöckiges Haus\")\n",
    "plt.plot(x, poly1d_fn(x), c=\"blue\", linewidth=3)\n",
    "plt.plot(x, poly1d_fn1(x), c=\"orange\", linewidth=3)\n",
    "\n",
    "plt.suptitle(\"Auswirkung der Wohnfläche von ein- \\nund mehrstöckigen Häusern auf den Preis\",fontsize=14)\n",
    "plt.xlabel(\"Wohnfläche in Qm\")\n",
    "plt.ylabel(\"Preis\")\n",
    "plt.legend()\n",
    "plt.show()"
   ]
  },
  {
   "cell_type": "markdown",
   "metadata": {},
   "source": [
    "Es gibt keine Spalte in den Daten, welche die Anzahl der Stockwerke beschreibt, weshalb nur ein oder zwei Stockwerke erkannt werden können. Wenn die Fläche des ersten Stockwerks der Wohnfläche entspricht, kann es nur ein Stockwerk geben, sonst sind es mindestens zwei. Preislich gibt es größere Unterschiede, so ist der Preis von einstöckigen Häusern durchschnittlich 50.000 GC Dollar höher, als der von zweistöckigen. Hier könnte aber die größere Grundstücksfläche einen Einfluss haben."
   ]
  },
  {
   "cell_type": "markdown",
   "metadata": {},
   "source": [
    "# Schlafzimmer, Küchen und die Anzahl der Räume"
   ]
  },
  {
   "cell_type": "code",
   "execution_count": null,
   "metadata": {
    "scrolled": false
   },
   "outputs": [],
   "source": [
    "rooms = np.sort(housing_data[\"Raeume\"].unique())\n",
    "room_data = [None]*len(rooms)\n",
    "for i in range(len(rooms)):\n",
    "    room_data[i] = housing_data[housing_data[\"Raeume\"] == rooms[i]][\"Preisproqm\"]\n",
    "\n",
    "\n",
    "plt.violinplot(room_data, rooms)\n",
    "plt.suptitle(\"Auswirkung der Raumzahl auf den Preis pro Qm\",fontsize=14)\n",
    "plt.xlabel(\"Raumzahl\")\n",
    "plt.ylabel(\"Preis pro Qm\")\n",
    "plt.show()\n",
    "\n",
    "\n",
    "kitchens = np.sort(housing_data[\"Kuechen\"].unique())\n",
    "kitchen_data = [None]*len(kitchens)\n",
    "for i in range(len(kitchens)):\n",
    "    kitchen_data[i] = housing_data[housing_data[\"Kuechen\"] == kitchens[i]][\"Preisproqm\"]\n",
    "\n",
    "plt.violinplot(kitchen_data, kitchens)\n",
    "plt.suptitle(\"Auswirkung der Anzahl der Küchen auf den Preis pro Qm\",fontsize=14)\n",
    "plt.xlabel(\"Anzahl Küchen\")\n",
    "plt.xticks([1,2,3])\n",
    "plt.ylabel(\"Preis pro Qm\")\n",
    "plt.show()\n",
    "\n",
    "\n",
    "bedrooms = np.sort(housing_data[\"Schlafzimmer\"].unique())\n",
    "bedroom_data = [None]*len(bedrooms)\n",
    "for i in range(len(bedrooms)):\n",
    "    bedroom_data[i] = housing_data[housing_data[\"Schlafzimmer\"] == bedrooms[i]][\"Preisproqm\"]\n",
    "\n",
    "plt.violinplot(bedroom_data, bedrooms)\n",
    "plt.suptitle(\"Auswirkung der Anzahl der Schlafzimmer auf den Preis pro Qm\",fontsize=14)\n",
    "plt.xlabel(\"Anzahl der Schlafzimmer\")\n",
    "plt.ylabel(\"Preis pro Qm\")\n",
    "plt.show()"
   ]
  },
  {
   "cell_type": "markdown",
   "metadata": {},
   "source": [
    "Wie in den Graphen zu sehen ist, ist die Anzahl von Küchen und Schlafzimmern nicht sehr aussagekräftig. Zu erwarten ist, dass der Preis pro Qm mit der Anzahl der Räume positiv korreliert. Entgegen der Erwartung ist der Preis niedriger, was darauf hindeutet, das hier eine negative Korrelation besteht."
   ]
  },
  {
   "cell_type": "markdown",
   "metadata": {},
   "source": [
    "# Garagentyp und  Garagenkapazität"
   ]
  },
  {
   "cell_type": "code",
   "execution_count": null,
   "metadata": {
    "scrolled": false
   },
   "outputs": [],
   "source": [
    "garage_types = housing_data[\"Garage Typ\"].unique()\n",
    "\n",
    "\n",
    "fig, axs = plt.subplots(2, 4, sharex=True, sharey=True, figsize=(15,8))\n",
    "\n",
    "for i in range(len(garage_types)):\n",
    "    type_data = housing_data[housing_data[\"Garage Typ\"] == garage_types[i]]\n",
    "    garage_capacity = [0,1,2,3,4]\n",
    "    garage_data = [0]*(len(garage_capacity))\n",
    "    \n",
    "    for l in garage_capacity:\n",
    "        garage_data[l] = type_data[housing_data[\"Garagenkapazitaet\"] == l][\"Preisproqm\"].values.tolist()\n",
    "        if garage_data[l] == []:\n",
    "            garage_data[l] = [0]\n",
    "            # Ich habe keine bessere Umsetzung gefunden, Recherche hat auch nicht weitergeholfen\n",
    "            # jetzt ist überall mindestens ein Dummywert [0] drinnen -.-\n",
    "            # das ist sogar richtig\n",
    "            \n",
    "    axs[int(i/4),i%4].violinplot(garage_data)\n",
    "    axs[int(i/4),i%4].set_title(garage_types[i])\n",
    "    \n",
    "    \n",
    "garage_capacity = np.sort(housing_data[\"Garagenkapazitaet\"].unique())\n",
    "garage_data = [0]*(len(garage_capacity))\n",
    "for i in range(len(garage_capacity)):\n",
    "    garage_data[i] = housing_data[housing_data[\"Garagenkapazitaet\"] == garage_capacity[i]][\"Preisproqm\"]\n",
    "\n",
    "\n",
    "axs[1,3].violinplot(garage_data)\n",
    "axs[1,3].set_title(\"alle Garagentypen\")\n",
    "fig.suptitle(\"Preisunterschiede zwischen Garakenkapazitäten verschiedener Typen\", fontsize=14)\n",
    "\n",
    "for i in range(8):\n",
    "    plt.sca(axs[int(i/4),i%4])\n",
    "    plt.xticks(range(6), [\"\",\"0\",\"1\",\"2\",\"3\",\"4\"])\n",
    "    if i > 3:\n",
    "        plt.xlabel(\"Kapazität\")\n",
    "    if i % 4 == 0:\n",
    "        plt.ylabel(\"Preis pro Qm\")\n",
    "\n",
    "    #das funktioniert, aber wieso?? wieso [\"\",\"0\",..?\n",
    "plt.show()"
   ]
  },
  {
   "cell_type": "markdown",
   "metadata": {},
   "source": [
    "Im Folgenden wurde untersucht, in wiefern sich Garagentyp und -kapazität auf den Preis pro Qm auswirken. Dabei wurden die Garagen nach ihren Typen aufgeteilt und die Anzahl der Stellplätze mit dem Quadratmeterpreis verglichen. Bei allen Garagentypen zeichnet sich ein Anstieg des Quadratmeterpreises zwischen ein und drei Garagenplätzen ab. Auch sind Häuser mit Garage teurer als Häuser ohne Garage. Erstaunlicherweise leigt der Preis pro Quadratmeter für vier Stellplätze deutlich niedriger, als der für drei."
   ]
  },
  {
   "cell_type": "markdown",
   "metadata": {},
   "source": [
    "# Verkaufsmonat, Verkaufsjahr und Preis"
   ]
  },
  {
   "cell_type": "code",
   "execution_count": null,
   "metadata": {
    "scrolled": false
   },
   "outputs": [],
   "source": [
    "fig, axs = plt.subplots(2, 2, sharex=True, figsize=(15,8))\n",
    "\n",
    "axs[0,0].scatter(housing_data[\"Monate\"],housing_data[\"Preis\"])\n",
    "axs[0,0].set_ylabel(\"Preis\")\n",
    "axs[0,1].scatter(housing_data[\"Monate\"],housing_data[\"Grundstueck in qm\"])\n",
    "axs[0,1].set_ylabel(\"Grundstück in Qm\")\n",
    "axs[1,0].scatter(housing_data[\"Monate\"],housing_data[\"Preisproqm\"])\n",
    "axs[1,0].set_ylabel(\"Preis pro Qm\")\n",
    "axs[1,0].set_xlabel(\"Monate seit 2136\")\n",
    "axs[1,1].scatter(housing_data[\"Monate\"],housing_data[\"Wohnflaeche in qm\"])\n",
    "axs[1,1].set_ylabel(\"Wohnfläche in Qm\")\n",
    "axs[1,1].set_xlabel(\"Monate seit 2136\")\n",
    "# TODO Skala anpassen xlabel\n",
    "# TODO Titel\n",
    "fig.suptitle(\"Preisliche Veränderungen von 2136 bis heute\",fontsize=14)\n",
    "\n",
    "plt.show()"
   ]
  },
  {
   "cell_type": "markdown",
   "metadata": {},
   "source": [
    "Bei der Betrachtung von Verkaufspreisen und Verkaufszeit wird erwartet, dass sich der Preis zwischen verschiedenen Monaten weniger unterscheidet, als zwischen Jahren. Entgegen den Erwartungen gibt es durchaus starke Schwankungen der Verkaufspreise innerhalb eines Jahres. Im Sommer werden häufig teure und große Häuser verkauft. Auch ist die Anzahl der Verkäufe deutlich höher als in den Wintermonaten. Das Jahr des Verkaufs hat dabei aber nur einen geringeren Einfluss auf den Preis."
   ]
  },
  {
   "cell_type": "markdown",
   "metadata": {},
   "source": [
    "# Heizungsqualität, Küchenqualität, Fassadenqualität und Zustand\n"
   ]
  },
  {
   "cell_type": "code",
   "execution_count": null,
   "metadata": {
    "scrolled": false
   },
   "outputs": [],
   "source": [
    "# Daten vorbereiten für heatmap: im Besten Fall sollte eine Diagonale von Links unten -> rechts oben gehen\n",
    "# Achtung Rechenintensiv!\n",
    "keys = [\"ZustandN\", \"HeizungsqualitaetN\", \"KuecheN\", \"FassadeN\"]\n",
    "\n",
    "\n",
    "fig, axs = plt.subplots(len(keys), len(keys), sharex=True, sharey=True, figsize=(20,20))\n",
    "fig.suptitle(\"Heatmap zu den Zuständen der verschiedenen Qualitätskriterien\",fontsize=24)\n",
    "# Zweimal über Keys iterieren -> key1 X key2 Plots (key1 == key2)\n",
    "# für jeden Plot alle Möglichen Werte von key1 heraussuchen -> X-Achse\n",
    "# für jeden möglichen X-Wert alle Y-Werte von key2 in data schreiben\n",
    "# happy plotting\n",
    "for i in range(len(keys)):\n",
    "    values = [0,1,2,3,4]\n",
    "    for l in range(len(keys)):\n",
    "        \n",
    "        data = [None]*len(values)\n",
    "        for f in range(len(values)):\n",
    "            data[f] = [0]*len(values)\n",
    "        data[1][1] = 2\n",
    "        for value in values:\n",
    "            raw_data = housing_data[housing_data[keys[i]] == value][keys[l]]\n",
    "            unique, counts = np.unique(raw_data, return_counts=True)\n",
    "            count = dict(zip(unique, counts))\n",
    "            for key in count.keys():\n",
    "                # Es tut mir ja leid\n",
    "                data[value][key] = count[key]\n",
    "        sb.heatmap(data, ax = axs[i,l]) #vmin=0, vmax=16000, center=8000\n",
    "        axs[i,l].invert_yaxis()\n",
    "        plt.sca(axs[i,l])\n",
    "        plt.xticks(fontsize=14)\n",
    "        plt.yticks(fontsize=14)\n",
    "        # Hm, vllt gibts da auch nen besseren Weg\n",
    "        if i == len(keys)-1:\n",
    "            axs[i,l].set_xlabel(str(keys[l][:-1]).replace(\"ae\",\"ä\").replace(\"ue\",\"ü\"), fontsize=18)\n",
    "        if l == 0:\n",
    "            axs[i,l].set_ylabel(str(keys[i][:-1]).replace(\"ae\",\"ä\").replace(\"ue\",\"ü\"), fontsize=18)\n"
   ]
  },
  {
   "cell_type": "markdown",
   "metadata": {},
   "source": [
    "Bei der Betrachtung der Qualitätskriterien für Heizung, Küche, Fassade und Zustand des Hauses wurden einige Korrelationen festgestellt:\n",
    "* alle Kriterien haben nur sehr wenige schlechte Bewertungen\n",
    "* durchschnittliche Bewertungen haben eine recht hohe Korrelation\n",
    "* bei besseren Bewertungen schweifen die Werte öfter ab, sodass keine Korrelation vorliegt."
   ]
  },
  {
   "cell_type": "code",
   "execution_count": null,
   "metadata": {
    "scrolled": false
   },
   "outputs": [],
   "source": [
    "keys = [\"Zustandf\", \"Heizungsqualitaet\", \"Kuechenqualitaet\", \"Zustand Fassade\"]\n",
    "keysx = [\"Zustand\", \"Heizungsqualität\", \"Küchenqualität\", \"Zustand Fassade\"]\n",
    "\n",
    "rows = [\"Preisproqm\", \"Preis\"]\n",
    "rowsx = [\"Preis pro Qm\", \"Preis\"]\n",
    "for f in range(len(rows)):\n",
    "    fig, axs = plt.subplots(1, len(keys), sharex=True, sharey=True, figsize=(15,8))\n",
    "    for x in range(len(keys)):\n",
    "        quality = np.sort(housing_data[keys[x]].unique())\n",
    "        data = [None]*len(quality)\n",
    "        for i in range(len(quality)):\n",
    "            data[i] = housing_data[housing_data[keys[x]] == quality[i]][rows[f]]\n",
    "        axs[x].violinplot(data)\n",
    "        axs[x].set_title(str(keysx[x]))\n",
    "        axs[x].set_xticks([1,2,3,4,5])\n",
    "        axs[x].set_xlabel(\"Zustand\")\n",
    "        if x == 0:\n",
    "            axs[x].set_ylabel(rowsx[f])\n",
    "    \n",
    "    fig.suptitle(\"Auswirkung verschiedener Zustände auf den \" + rowsx[f])\n",
    "    plt.show()\n",
    "    \n",
    "    #TODO: Küche hat kein sehr schlecht!\n",
    "    print(housing_data[\"Kuechenqualitaet\"].unique())"
   ]
  },
  {
   "cell_type": "markdown",
   "metadata": {},
   "source": [
    "Mit dieser schwachen Korrelation zwischen den Qualitätskriterien können Einflüsse auf den Quadratmeterpreis von anderen Kriterien ausgeschlossen werden und eine differenzierte Analyse wird möglich. Deutlich ist hier zu sehen, dass bei besserer Qualitätsstufe der Preis ansteigt. Besonders stark ist der Effekt bei der Küchenqualität zu sehen, hier kann sich der Preis pro Qm mitunter verdoppeln. Bei allen anderen Qualitätsmerkmalen ist dieser Effekt auch erkennbar, wenn auch deutlich schwächer."
   ]
  },
  {
   "cell_type": "markdown",
   "metadata": {},
   "source": [
    "# Grundstücksform"
   ]
  },
  {
   "cell_type": "code",
   "execution_count": null,
   "metadata": {
    "scrolled": false
   },
   "outputs": [],
   "source": [
    "house_reg = housing_data[housing_data.Grundstuecksform == \"Reg\"]\n",
    "house_ir1 = housing_data[housing_data.Grundstuecksform == \"IR1\"]\n",
    "house_ir2 = housing_data[housing_data.Grundstuecksform == \"IR2\"]\n",
    "house_ir3 = housing_data[housing_data.Grundstuecksform == \"IR3\"]\n",
    "\n",
    "plt.figure(figsize=(15,8))\n",
    "plt.scatter(house_ir1[\"Bezirk\"],house_ir1[\"Preis\"]/house_ir1[\"Wohnflaeche in qm\"], c=\"orange\")\n",
    "plt.scatter(house_ir2[\"Bezirk\"],house_ir2[\"Preis\"]/house_ir2[\"Wohnflaeche in qm\"], c=\"blue\")\n",
    "\n",
    "\n",
    "plt.suptitle(\"Vergleich von IR1- und IR2-eingestuften Häusern in den Bezirken Gothams\",fontsize=18)\n",
    "plt.xlabel(\"Bezirk\")\n",
    "plt.ylabel(\"Preis pro Qm\")\n",
    "plt.legend([\"Irregulär1\", \"Irregulär2\"])\n",
    "plt.xticks(rotation=45)\n",
    "plt.show()\n",
    "\n",
    "plt.figure(figsize=(15,8))\n",
    "plt.scatter(house_reg[\"Bezirk\"],house_reg[\"Preis\"]/house_reg[\"Wohnflaeche in qm\"], c=\"orange\")\n",
    "plt.scatter(house_ir1[\"Bezirk\"],house_ir1[\"Preis\"]/house_ir1[\"Wohnflaeche in qm\"], c=\"orange\")\n",
    "plt.scatter(house_ir2[\"Bezirk\"],house_ir2[\"Preis\"]/house_ir2[\"Wohnflaeche in qm\"], c=\"orange\")\n",
    "plt.scatter(house_ir3[\"Bezirk\"],house_ir3[\"Preis\"]/house_ir3[\"Wohnflaeche in qm\"], c=\"blue\")\n",
    "\n",
    "\n",
    "plt.suptitle(\"Quadratemeterpreis von IR3-eingestuften Häusern im Gesamtvergleich\",fontsize=18)\n",
    "plt.xlabel(\"Bezirk\")\n",
    "plt.ylabel(\"Preis pro Qm\")\n",
    "plt.legend([\"Regulär\", \"Irregulär1\", \"Irregulär2\", \"Irregulär3\"])\n",
    "plt.xticks(rotation=45)\n",
    "plt.show()"
   ]
  },
  {
   "cell_type": "markdown",
   "metadata": {},
   "source": [
    "Bei der Grundstücksform lässt sich absehen, dass Häuser der Form IR1 meist teurer sind als diese der Form IR2. \n",
    "Bei Häusern der Form IR3 handelt es sich meist um billigere Häuser, als bei den anderen Grundstücksformen."
   ]
  },
  {
   "cell_type": "markdown",
   "metadata": {},
   "source": [
    "# Steigung"
   ]
  },
  {
   "cell_type": "code",
   "execution_count": null,
   "metadata": {
    "scrolled": false
   },
   "outputs": [],
   "source": [
    "house_evelation = housing_data[housing_data.Steigung == \"Ja\"]\n",
    "house_no_evelation = housing_data[housing_data.Steigung == \"Nein\"]\n",
    "\n",
    "plt.figure(figsize=(15,8))\n",
    "plt.scatter(house_no_evelation[\"Bezirk\"],house_no_evelation[\"Preis\"]/house_no_evelation[\"Wohnflaeche in qm\"], c=\"orange\")\n",
    "plt.scatter(house_evelation[\"Bezirk\"],house_evelation[\"Preis\"]/house_evelation[\"Wohnflaeche in qm\"], c=\"blue\")\n",
    "\n",
    "plt.suptitle(\"Einfluss von Steigung auf den Preis pro Qm\",fontsize=18)\n",
    "plt.xlabel(\"Bezirk\")\n",
    "plt.ylabel(\"Preis pro Qm\")\n",
    "plt.legend([\"Steigung\", \"keine Steigung\"])\n",
    "plt.xticks(rotation=45)\n",
    "plt.show()\n"
   ]
  },
  {
   "cell_type": "markdown",
   "metadata": {},
   "source": [
    "#TODO wie sie sehen, sehen sie nüschtsch! -> violonplot\n",
    "Gotham ist Hügelig"
   ]
  },
  {
   "cell_type": "markdown",
   "metadata": {},
   "source": [
    "# Bezirke"
   ]
  },
  {
   "cell_type": "code",
   "execution_count": null,
   "metadata": {
    "scrolled": false
   },
   "outputs": [],
   "source": [
    "key = \"Bezirk\"\n",
    "rows = [\"Preisproqm\"]\n",
    "quality = np.sort(housing_data[key].unique())\n",
    "\n",
    "for row in rows:\n",
    "    fig= plt.figure(figsize=(15,8))\n",
    "    data = [None]*len(quality)\n",
    "    for i in range(len(quality)):\n",
    "        data[i] = housing_data[housing_data[key] == quality[i]][row]\n",
    "\n",
    "    plt.violinplot(data)\n",
    "    plt.suptitle(\"Quadratmeterpreis in verschiedenen Bezirken von Gotham City\",fontsize=18)\n",
    "    plt.xlabel(\"Bezirk\")\n",
    "    plt.ylabel(\"Preis pro Qm\")\n",
    "    plt.xticks(np.arange(len(quality)) + 1, quality, rotation=45)\n",
    "    \n",
    "    plt.show()"
   ]
  },
  {
   "cell_type": "markdown",
   "metadata": {},
   "source": [
    "In den unterschiedlichen Bezirken werden Immobilien zu unterschiedlichen Preisen gehandelt, so unterscheiden sich die günstigsten als auch die teuersten Immobilien sowie der Preisspiegel.  "
   ]
  },
  {
   "cell_type": "markdown",
   "metadata": {},
   "source": [
    "# Zone"
   ]
  },
  {
   "cell_type": "code",
   "execution_count": null,
   "metadata": {
    "scrolled": false
   },
   "outputs": [],
   "source": [
    "house_rh = housing_data[housing_data.Zone == \"RH\"]\n",
    "house_rl = housing_data[housing_data.Zone == \"RL\"]\n",
    "house_rp = housing_data[housing_data.Zone == \"RP\"]\n",
    "house_rm = housing_data[housing_data.Zone == \"RM\"]\n",
    "\n",
    "plt.figure(figsize=(15,8))\n",
    "plt.scatter(house_rl[\"Bezirk\"],house_rl[\"Preis\"]/house_rl[\"Wohnflaeche in qm\"], c=\"blue\")\n",
    "plt.scatter(house_rm[\"Bezirk\"],house_rm[\"Preis\"]/house_rm[\"Wohnflaeche in qm\"], c=\"red\")\n",
    "plt.scatter(house_rh[\"Bezirk\"],house_rh[\"Preis\"]/house_rh[\"Wohnflaeche in qm\"], c=\"orange\")\n",
    "plt.scatter(house_rp[\"Bezirk\"],house_rp[\"Preis\"]/house_rp[\"Wohnflaeche in qm\"], c=\"green\")\n",
    "\n",
    "\n",
    "\n",
    "plt.suptitle(\"Bebauungsdichte verschiedener Bezirke\",fontsize=18)\n",
    "plt.xlabel(\"Bezirk\")\n",
    "plt.ylabel(\"Preis pro Qm\")\n",
    "plt.xticks(rotation=45)\n",
    "plt.legend([\"Niedrige Bebauungsdichte\", \"Mittlere Bebauungsdichte\",\n",
    "            \"Hohe Bebauungsdichte\",\"Niedrige Bebauungsdichte und Park\"])\n",
    "plt.show()"
   ]
  },
  {
   "cell_type": "markdown",
   "metadata": {},
   "source": [
    "In Gotham gibt es kaum Immobilien, welche sich in einer hohen Bebauungsdichte befinden und keine, welche sich in einer niedrigen Bebauungsdichte und bei einem Park befinden.<br>\n",
    "In den Bezirken Miller, East End, Tricorner, Somerst, North West, Diamond District, Clear Creek, The Bowery und Robinson Park stehen Häuser nur in einer geringen Bebauungsdichte.<br>\n",
    "Dagegen gibt es in den Bezirken Water District, Paris Island, Novick Distric und Fashion District nur Häuser in mittlerer Bebauungsdichte.<br>\n",
    "Häuser in Gegenden mit hoher Bebauungsdichte gibt es kaum.<br>\n",
    "Gotham ist keine Stadt, die stark bebaut ist. "
   ]
  },
  {
   "cell_type": "markdown",
   "metadata": {},
   "source": [
    "# Lage"
   ]
  },
  {
   "cell_type": "code",
   "execution_count": null,
   "metadata": {
    "scrolled": false
   },
   "outputs": [],
   "source": [
    "house_straße = housing_data[housing_data.Lage == \"Str\"]\n",
    "house_bahn = housing_data[housing_data.Lage == \"Bahn\"]\n",
    "house_park = housing_data[housing_data.Lage == \"Pos\"]\n",
    "house_normal = housing_data[housing_data.Lage == \"Norm\"]\n",
    "\n",
    "plt.figure(figsize=(15,8))\n",
    "plt.scatter(house_normal[\"Bezirk\"],house_normal[\"Preis\"]/house_normal[\"Wohnflaeche in qm\"], c=\"blue\")\n",
    "plt.scatter(house_straße[\"Bezirk\"],house_straße[\"Preis\"]/house_straße[\"Wohnflaeche in qm\"], c=\"yellow\")\n",
    "plt.scatter(house_bahn[\"Bezirk\"],house_bahn[\"Preis\"]/house_bahn[\"Wohnflaeche in qm\"], c=\"orange\")\n",
    "plt.scatter(house_park[\"Bezirk\"],house_park[\"Preis\"]/house_park[\"Wohnflaeche in qm\"], c=\"red\")\n",
    "\n",
    "plt.suptitle(\"Anbindung der Häuser in den verschiedenen Bezirken\",fontsize=18)\n",
    "plt.xlabel(\"Bezirk\")\n",
    "plt.ylabel(\"Preis pro Qm\")\n",
    "plt.xticks(rotation=45)\n",
    "plt.legend([\"Keine Besonderheit\", \"An einer großen Straße\",\n",
    "            \"An einer Bahnlinie\",\"An einem Park, Grünfläche, Sportzentrum, ...\"])\n",
    "plt.show()"
   ]
  },
  {
   "cell_type": "markdown",
   "metadata": {},
   "source": [
    "Mit Außnahme von Old Gotham lässt sich sagen, dass Häuser in der Nähe von Bahnlinien und Parks teurer sind, als Häuser nahe einer großen Straße.<br>\n",
    "Des weiteren gibt es in den Bezirken East End, Paris Island, Tricorner, Upper West, Novick District Robinson Park, Fashion District keine Häuser, die sich in der Nähe von Bahnlinien, großen Straßen oder Parks befinden."
   ]
  },
  {
   "cell_type": "markdown",
   "metadata": {},
   "source": [
    "# Haustyp und Klimaanlage"
   ]
  },
  {
   "cell_type": "code",
   "execution_count": null,
   "metadata": {
    "scrolled": false
   },
   "outputs": [],
   "source": [
    "house_1fam = housing_data[housing_data.Typ == \"1Fam\"]\n",
    "house_2fam = housing_data[housing_data.Typ == \"2Fam\"]\n",
    "house_2faman = housing_data[housing_data.Typ == \"2FamAn\"]\n",
    "house_reh = housing_data[housing_data.Typ == \"REH\"]\n",
    "house_rmh = housing_data[housing_data.Typ == \"RMH\"]\n",
    "\n",
    "plt.figure(figsize=(15,8))\n",
    "plt.scatter(house_1fam[\"Bezirk\"],house_1fam[\"Preis\"]/house_1fam[\"Wohnflaeche in qm\"], c=\"red\")\n",
    "plt.scatter(house_2fam[\"Bezirk\"],house_2fam[\"Preis\"]/house_2fam[\"Wohnflaeche in qm\"], c=\"blue\")\n",
    "plt.scatter(house_2faman[\"Bezirk\"],house_2faman[\"Preis\"]/house_2faman[\"Wohnflaeche in qm\"], c=\"yellow\")\n",
    "plt.scatter(house_reh[\"Bezirk\"],house_reh[\"Preis\"]/house_reh[\"Wohnflaeche in qm\"], c=\"orange\")\n",
    "plt.scatter(house_rmh[\"Bezirk\"],house_rmh[\"Preis\"]/house_rmh[\"Wohnflaeche in qm\"], c=\"purple\")\n",
    "\n",
    "plt.suptitle(\"Haustypen in den verschiedenen Bezirken\",fontsize=18)\n",
    "plt.xlabel(\"Bezirk\")\n",
    "plt.ylabel(\"Preis pro Qm\")\n",
    "plt.xticks(rotation=45)\n",
    "plt.legend([\"Freistehendes Einfamilienhaus\", \"Doppelhaushälfte\",\n",
    "            \"Einfamilienhaus mit Anliegerwohnung\",\"Reihenendhaus\",\"Reihenmittelhaus\"])\n",
    "\n",
    "plt.show()\n",
    "\n",
    "print(\"Reihenhäuser haben immer Klimaanlagen:\\n\", house_rmh[\"Klimaanlage\"].unique(), house_reh[\"Klimaanlage\"].unique())\n",
    "\n",
    "house_ac = housing_data[housing_data.Klimaanlage == \"Y\"]\n",
    "house_not_ac = housing_data[housing_data.Klimaanlage == \"N\"]\n",
    "plt.scatter(house_ac[\"Wohnflaeche in qm\"],house_ac[\"Preis\"], c='blue')\n",
    "plt.scatter(house_not_ac[\"Wohnflaeche in qm\"],house_not_ac[\"Preis\"],c=\"orange\")\n",
    "\n",
    "plt.suptitle(\"Auswirkung des Vorhandenseins einer Klimaanlage auf den Verkaufspreis\",fontsize=14)\n",
    "plt.xlabel(\"Wohnfläche in Qm\")\n",
    "plt.ylabel(\"Preis\")\n",
    "plt.legend([\"mit Klimaanlage\", \"ohne Klimaanlage\"])\n",
    "plt.show()"
   ]
  },
  {
   "cell_type": "markdown",
   "metadata": {},
   "source": [
    "In Gothem gibt es nur wenige 2-Familien-Anbau Häuser.<br> \n",
    "Die Bezirke Clear Creek & East End bestehen nur aus 1-Familien Häusern.<br>\n",
    "Im Gegensatz dazu gibt es in den Bezirken Paris Island, Novick District, Robinson Park und Fashion District nur Reihenhäuser. Upper West besitzt bloß  Reihenendhäuser mit Außnahme eines einzigen ein 1-Familien Hauses.<br>\n",
    "Zu Reihenhäusern ist zu sagen, dass diese nur mit Klimaanlage kommen.<br>\n",
    "Klimaanlagen steigern den Wert einer Immobilie."
   ]
  },
  {
   "cell_type": "markdown",
   "metadata": {},
   "source": [
    "# Zustand"
   ]
  },
  {
   "cell_type": "code",
   "execution_count": null,
   "metadata": {
    "scrolled": false
   },
   "outputs": [],
   "source": [
    "house_1 = housing_data[housing_data.Zustand == 1]\n",
    "house_2 = housing_data[housing_data.Zustand == 2]\n",
    "house_3 = housing_data[housing_data.Zustand == 3]\n",
    "house_4 = housing_data[housing_data.Zustand == 4]\n",
    "house_5 = housing_data[housing_data.Zustand == 5]\n",
    "house_6 = housing_data[housing_data.Zustand == 6]\n",
    "house_7 = housing_data[housing_data.Zustand == 7]\n",
    "house_8 = housing_data[housing_data.Zustand == 8]\n",
    "house_9 = housing_data[housing_data.Zustand == 9]\n",
    "house_10 = housing_data[housing_data.Zustand == 10]\n",
    "\n",
    "fig= plt.figure(figsize=(15,8))\n",
    "plt.scatter(house_6[\"Bezirk\"],house_6[\"Preis\"]/house_6[\"Wohnflaeche in qm\"], c=\"red\")\n",
    "plt.scatter(house_7[\"Bezirk\"],house_7[\"Preis\"]/house_7[\"Wohnflaeche in qm\"], c=\"blue\")\n",
    "plt.scatter(house_8[\"Bezirk\"],house_8[\"Preis\"]/house_8[\"Wohnflaeche in qm\"], c=\"yellow\")\n",
    "plt.scatter(house_9[\"Bezirk\"],house_9[\"Preis\"]/house_9[\"Wohnflaeche in qm\"], c=\"orange\")\n",
    "plt.scatter(house_10[\"Bezirk\"],house_10[\"Preis\"]/house_10[\"Wohnflaeche in qm\"], c=\"purple\")\n",
    "\n",
    "plt.suptitle(\"Zustand der Häuser in verschiedenen Bezirken\\nund ihr Einfluss auf den Quadratmeterpreis\",fontsize=18)\n",
    "plt.xlabel(\"Bezirk\")\n",
    "plt.ylabel(\"Preis pro Qm\")\n",
    "plt.xticks(rotation=45)\n",
    "plt.legend([\"Zustand 5\", \"Zustand 6\",\n",
    "            \"Zustand 7\",\"Zustand 8\",\"Zustand 10\"])\n",
    "\n",
    "plt.show()\n",
    "\n",
    "fig= plt.figure(figsize=(15,8))\n",
    "plt.scatter(house_5[\"Bezirk\"],house_5[\"Preis\"]/house_5[\"Wohnflaeche in qm\"], c=\"turquoise\")\n",
    "plt.scatter(house_4[\"Bezirk\"],house_4[\"Preis\"]/house_4[\"Wohnflaeche in qm\"], c=\"orange\")\n",
    "plt.scatter(house_3[\"Bezirk\"],house_3[\"Preis\"]/house_3[\"Wohnflaeche in qm\"], c=\"yellow\")\n",
    "plt.scatter(house_2[\"Bezirk\"],house_2[\"Preis\"]/house_2[\"Wohnflaeche in qm\"], c=\"blue\")\n",
    "plt.scatter(house_1[\"Bezirk\"],house_1[\"Preis\"]/house_1[\"Wohnflaeche in qm\"], c=\"red\")\n",
    "\n",
    "plt.suptitle(\"Zustand der Häuser in verschiedenen Bezirken\\nund ihr Einfluss auf den Quadratmeterpreis\",fontsize=18)\n",
    "plt.xlabel(\"Bezirk\")\n",
    "plt.ylabel(\"Preis pro Qm\")\n",
    "plt.xticks(rotation=45)\n",
    "plt.legend([\"Zustand 5\", \"Zustand 4\",\n",
    "            \"Zustand 3\",\"Zustand 2\",\"Zustand 1\"])\n",
    "plt.show()"
   ]
  },
  {
   "cell_type": "markdown",
   "metadata": {},
   "source": [
    "Eine deutliche Abhängigkeit von Immobilienpreis und -zustand lässt sich bei den Zuständen 5 und darunter erkennen.\n",
    "Zwischen Zustand 6 und Zustand 10 ist eine solche Abhängigkeit nicht zu sehen."
   ]
  },
  {
   "cell_type": "markdown",
   "metadata": {},
   "source": [
    "# Baujahr und Renovation"
   ]
  },
  {
   "cell_type": "code",
   "execution_count": null,
   "metadata": {
    "scrolled": false
   },
   "outputs": [],
   "source": [
    "house_renovated = housing_data[housing_data.Gebaut != housing_data.Renoviert]\n",
    "house_not_renovated = housing_data[housing_data.Gebaut == housing_data.Renoviert]\n",
    "\n",
    "fig= plt.figure(figsize=(10,6))\n",
    "\n",
    "plt.scatter(house_not_renovated[\"Gebaut\"],house_not_renovated[\"Preis\"]/house_not_renovated[\"Wohnflaeche in qm\"])\n",
    "plt.scatter(house_renovated[\"Gebaut\"],house_renovated[\"Preis\"]/house_renovated[\"Wohnflaeche in qm\"])\n",
    "\n",
    "plt.suptitle(\"Quadratmeterpreis von (nicht) renovierten Wohnungen \",fontsize=18)\n",
    "plt.xlabel(\"Jahr\")\n",
    "plt.ylabel(\"Preis pro Qm\")\n",
    "plt.legend([\"nicht renoviert\", \"renoviert\"])\n",
    "plt.show()\n",
    "\n",
    "plt.scatter(house_renovated[\"Renoviert\"],house_renovated[\"Preis\"]/house_renovated[\"Wohnflaeche in qm\"])\n",
    "plt.suptitle(\"Einfluss von Renovationen auf den Preis pro Qm\",fontsize=18)\n",
    "plt.xlabel(\"Jahr der Renovation\")\n",
    "plt.ylabel(\"Preis pro Qm\")\n",
    "plt.show()"
   ]
  },
  {
   "cell_type": "markdown",
   "metadata": {},
   "source": [
    "Der Preis pro Quadratmeter ist nur bei renovierten Häusern vom Baujahr/Renovationsjahr abhängig.<br>\n",
    "Alle Häuser, die vor 2080 gebaut wurden, wurden renoviert.<br>\n",
    "Häuser, die nach dem Jahr 2130 gebaut wurden, können um einiges teurer sein, als die Häuser, die in vorherigen Jahren gebaut worden sind.<br>\n",
    "Preise von renovierten und unrenovierten Häusern unterscheiden sich nicht erkennbar voneinander.<br>\n",
    "Im Jahr 2080 wurden besonders viele Häuser renoviert, entweder gab es in diesem Jahr eine Naturkatastrophe oder die Daten sind nicht richtig. Möglich ist, dass Joker eine Nachbarschaft verwüstet hat.\n",
    "Wenn man diese Anomalie außenvor lässt, sieht man, dass die Anzahl der Renovationen ab 2080 über die Jahre kontinuierlich ansteigt.<br>\n",
    "Nach 2110 werden fast keine Hauser günstiger als 100000 GC Dollar gebaut.<br>\n",
    "Je später ein Haus gebaut wird, desto teurer ist es. Diese Steigung ist jedoch gering. Vermutlich entsteht diese Steigung Aufgrund von Inflation."
   ]
  },
  {
   "cell_type": "markdown",
   "metadata": {},
   "source": [
    "# Zustand Fassade"
   ]
  },
  {
   "cell_type": "code",
   "execution_count": null,
   "metadata": {
    "scrolled": false
   },
   "outputs": [],
   "source": [
    "house_1 = housing_data[housing_data[\"Zustand Fassade\"] == 1]\n",
    "house_2 = housing_data[housing_data[\"Zustand Fassade\"] == 2]\n",
    "house_3 = housing_data[housing_data[\"Zustand Fassade\"] == 3]\n",
    "house_4 = housing_data[housing_data[\"Zustand Fassade\"] == 4]\n",
    "house_5 = housing_data[housing_data[\"Zustand Fassade\"] == 5]\n",
    "\n",
    "\n",
    "plt.figure(figsize=(15,8))\n",
    "\n",
    "plt.scatter(house_5[\"Bezirk\"],house_5[\"Preis\"]/house_5[\"Wohnflaeche in qm\"], c=\"yellow\")\n",
    "plt.scatter(house_4[\"Bezirk\"],house_4[\"Preis\"]/house_4[\"Wohnflaeche in qm\"], c=\"red\")\n",
    "plt.scatter(house_3[\"Bezirk\"],house_3[\"Preis\"]/house_3[\"Wohnflaeche in qm\"], c=\"blue\")\n",
    "plt.scatter(house_2[\"Bezirk\"],house_2[\"Preis\"]/house_2[\"Wohnflaeche in qm\"], c=\"turquoise\")\n",
    "plt.scatter(house_1[\"Bezirk\"],house_1[\"Preis\"]/house_1[\"Wohnflaeche in qm\"], c=\"orange\")\n",
    "\n",
    "plt.suptitle(\"Fassadenzustand der Häuser in den verschiedenen Bezirken\\nund ihr Einfluss auf den Quadratmeterpreis\",fontsize=18)\n",
    "plt.xlabel(\"Bezirk\")\n",
    "plt.ylabel(\"Preis pro Qm\")\n",
    "plt.xticks(rotation=45)\n",
    "plt.legend([\"sehr gut\", \"gut\",\n",
    "            \"durchschnittlich\",\"schlecht\",\"sehr schlecht\"])\n",
    "plt.show()\n",
    "\n",
    "key = \"Zustand Fassade\"\n",
    "rows = [\"Preis pro Qm\"]\n",
    "quality = np.sort(housing_data[key].unique())\n",
    "\n",
    "for row in rows:\n",
    "    fig= plt.figure(figsize=(15,8))\n",
    "    data = [None]*len(quality)\n",
    "    for i in range(len(quality)):\n",
    "        data[i] = housing_data[housing_data[key] == quality[i]][row.replace(\" \",\"\").replace(\"Q\",\"q\")]\n",
    "\n",
    "    plt.violinplot(data)\n",
    "    plt.suptitle(\"Fassadenzustand und seine Auswirkung auf den \" + row,fontsize=18)\n",
    "    plt.xlabel(\"Zustand\")\n",
    "    plt.ylabel(row)\n",
    "    plt.show()"
   ]
  },
  {
   "cell_type": "markdown",
   "metadata": {},
   "source": [
    "Die meisten Fassaden in Gotham befinden sich in einem Zustand von 3 oder 4.<br>\n",
    "Größere preisliche Unterschiede lassen sich nur zwischen Zuständen 1 2 und 5 erkennen."
   ]
  },
  {
   "cell_type": "markdown",
   "metadata": {},
   "source": [
    "# Kellerfläche"
   ]
  },
  {
   "cell_type": "code",
   "execution_count": null,
   "metadata": {
    "scrolled": false
   },
   "outputs": [],
   "source": [
    "plt.figure(figsize=(15,8))\n",
    "\n",
    "plt.scatter(housing_data[\"Kellerflaeche in qm\"],housing_data[\"Preis\"]/housing_data[\"Wohnflaeche in qm\"], c=\"red\")\n",
    "\n",
    "plt.suptitle(\"Verhältnis von Kellerfläche und Quadratmeterpreis\",fontsize=18)\n",
    "plt.xlabel(\"Kellerfläche in Qm\")\n",
    "plt.ylabel(\"Preis in Qm\")\n",
    "plt.show()"
   ]
  },
  {
   "cell_type": "markdown",
   "metadata": {},
   "source": [
    "Falls eine Immobilie eine größere Kellerfläche hat, kann sie einen höheren Marktwert erreichen.<br>\n",
    "Es gibt viele Häuser die keinen Keller besitzen. Diese sind meist preislich günstiger.<br>"
   ]
  },
  {
   "cell_type": "markdown",
   "metadata": {},
   "source": [
    "# Wohnfläche"
   ]
  },
  {
   "cell_type": "code",
   "execution_count": null,
   "metadata": {
    "scrolled": false
   },
   "outputs": [],
   "source": [
    "plt.figure(figsize=(8,5))\n",
    "plt.scatter(housing_data[\"Wohnflaeche in qm\"], housing_data[\"Preis\"])\n",
    "\n",
    "plt.suptitle(\"Verhältnis von Wohnfläche und Preis\",fontsize=18)\n",
    "plt.xlabel(\"Wohnfläche in Qm\")\n",
    "plt.ylabel(\"Preis\")\n",
    "plt.show()\n",
    "\n",
    "plt.figure(figsize=(8,5))\n",
    "plt.scatter(housing_data[\"Wohnflaeche in qm\"], housing_data[\"Preis\"]/housing_data[\"Wohnflaeche in qm\"])\n",
    "\n",
    "plt.suptitle(\"Verhältnis von Wohnfläche und seinem Quadratmeterpreis\",fontsize=18)\n",
    "plt.xlabel(\"Wohnfläche in Qm\")\n",
    "plt.ylabel(\"Preis pro Quadratmeter\")\n",
    "plt.show()"
   ]
  },
  {
   "cell_type": "markdown",
   "metadata": {},
   "source": [
    "Der Immobilienpreis und die Wohnfläche des Gebäudes sind voneinander abhängig.<br>\n",
    "Der Preis pro Quadratmeter ist nicht von der Wohnungsgröße abhängig."
   ]
  }
 ],
 "metadata": {
  "kernelspec": {
   "display_name": "Python 3",
   "language": "python",
   "name": "python3"
  },
  "language_info": {
   "codemirror_mode": {
    "name": "ipython",
    "version": 3
   },
   "file_extension": ".py",
   "mimetype": "text/x-python",
   "name": "python",
   "nbconvert_exporter": "python",
   "pygments_lexer": "ipython3",
   "version": "3.8.6"
  }
 },
 "nbformat": 4,
 "nbformat_minor": 4
}